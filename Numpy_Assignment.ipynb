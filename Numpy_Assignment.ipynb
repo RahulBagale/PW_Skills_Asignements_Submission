{
  "nbformat": 4,
  "nbformat_minor": 0,
  "metadata": {
    "colab": {
      "provenance": []
    },
    "kernelspec": {
      "name": "python3",
      "display_name": "Python 3"
    },
    "language_info": {
      "name": "python"
    }
  },
  "cells": [
    {
      "cell_type": "code",
      "execution_count": 1,
      "metadata": {
        "id": "1ClyJeeHgiUv"
      },
      "outputs": [],
      "source": [
        "import numpy as np"
      ]
    },
    {
      "cell_type": "markdown",
      "source": [
        "**1. What is the python library? why do we use python libraries?**\n",
        "\n",
        "\n",
        "\n",
        "*   A Python library is a **collection of pre-written Python code** that provides functionalities to perform specific tasks.\n",
        "*   These libraries typically **contain reusable functions, classes, and modules** that can be imported and utilized in Python scripts or applications.\n",
        "*   Python libraries are **designed to simplify programming by providing ready-made solutions for common tasks**, such as numerical computing, data analysis, web development, machine learning, and more.\n",
        "*   By leveraging Python libraries, **developers can save time and effort** by not having to write code from scratch to implement these functionalities, thus promoting code reusability and efficiency.\n",
        "\n"
      ],
      "metadata": {
        "id": "WORzdcFJgt39"
      }
    },
    {
      "cell_type": "markdown",
      "source": [
        "**2. What is the differnece between numpy array and list?**\n",
        "\n",
        "\n",
        "1. **Memory Efficiency:**\n",
        "Numpy arrays are more memory efficient compared to lists. This is because numpy arrays are homogeneous, meaning they contain elements of the same data type, whereas lists can contain elements of different data types.\n",
        "2. **Performance**:\n",
        "Numpy arrays offer better performance for numerical operations compared to lists. Numpy operations are implemented in C, which makes them faster than equivalent operations performed on Python lists.\n",
        "3. **Functionality:**\n",
        "Numpy arrays provide a wide range of mathematical functions and operations that are optimized for arrays, such as element-wise operations, linear algebra, Fourier transforms, and more. Lists do not have built-in support for these operations, requiring manual iteration or the use of external libraries.\n",
        "4. **Ease of Use:**\n",
        "Lists are more flexible and easier to work with for general-purpose tasks due to their dynamic nature and support for mixed data types. Numpy arrays, being homogeneous, require elements of the same data type, which may sometimes require explicit data type conversion.\n",
        "5. **Syntax:**\n",
        "Numpy arrays have a different syntax compared to lists for common operations. For example, while both arrays and lists support indexing and slicing, numpy arrays have additional slicing capabilities like boolean indexing and fancy indexing."
      ],
      "metadata": {
        "id": "ECoOMDCijZE2"
      }
    },
    {
      "cell_type": "markdown",
      "source": [
        "**3. Find the shape, size and dimention of following array?**"
      ],
      "metadata": {
        "id": "e39n_zrtlehC"
      }
    },
    {
      "cell_type": "code",
      "source": [
        "arr = [[1,2,3,4],\n",
        "       [5,6,7,8],\n",
        "       [9,10,11,12]\n",
        "       ]\n",
        "\n",
        "print(\"Shape of Array\",np.shape(arr))\n",
        "print(\"Size of Array\", np.size(arr))\n",
        "print(\"Dimention of Array\", np.ndim(arr))"
      ],
      "metadata": {
        "colab": {
          "base_uri": "https://localhost:8080/"
        },
        "id": "n1sAUZJfgn5u",
        "outputId": "22bbcc9e-8d3c-4341-ee21-a1efe58cd8c2"
      },
      "execution_count": 9,
      "outputs": [
        {
          "output_type": "stream",
          "name": "stdout",
          "text": [
            "Shape of Array (3, 4)\n",
            "Size of Array 12\n",
            "Dimention of Array 2\n"
          ]
        }
      ]
    },
    {
      "cell_type": "markdown",
      "source": [
        "**4. Write the python code to access the first row of the following array**"
      ],
      "metadata": {
        "id": "PjwwNvwMmnvj"
      }
    },
    {
      "cell_type": "code",
      "source": [
        "arr = [[1,2,3,4],\n",
        "       [5,6,7,8],\n",
        "       [9,10,11,12]\n",
        "       ]\n",
        "\n",
        "print('first row of the arry is -->>>', arr[0])"
      ],
      "metadata": {
        "colab": {
          "base_uri": "https://localhost:8080/"
        },
        "id": "pNfJIM0nkGq-",
        "outputId": "2a54f4df-5710-4809-d869-30e9c9d6db17"
      },
      "execution_count": 11,
      "outputs": [
        {
          "output_type": "stream",
          "name": "stdout",
          "text": [
            "first row of the arry is -->>> [1, 2, 3, 4]\n"
          ]
        }
      ]
    },
    {
      "cell_type": "markdown",
      "source": [
        "**5. How do you access the element at the third row and fourth column from the given numpy array?**"
      ],
      "metadata": {
        "id": "Sh73euDfnykB"
      }
    },
    {
      "cell_type": "code",
      "source": [
        "arr = [[1,2,3,4],\n",
        "       [5,6,7,8],\n",
        "       [9,10,11,12]\n",
        "       ]\n",
        "\n",
        "print('element at third row and fourth column of the arry is -->>>', arr[2][3])"
      ],
      "metadata": {
        "colab": {
          "base_uri": "https://localhost:8080/"
        },
        "id": "RPDjuumXl7zF",
        "outputId": "f47c41b8-9f87-4917-d8a7-83766de4298b"
      },
      "execution_count": 13,
      "outputs": [
        {
          "output_type": "stream",
          "name": "stdout",
          "text": [
            "element at third row and fourth column of the arry is -->>> 12\n"
          ]
        }
      ]
    },
    {
      "cell_type": "markdown",
      "source": [
        "**6. Write code to extract all odd indexed elements from the given numpy array**"
      ],
      "metadata": {
        "id": "yv1jnzUJoi_Y"
      }
    },
    {
      "cell_type": "code",
      "source": [
        "arr = [[1,2,3,4],\n",
        "       [5,6,7,8],\n",
        "       [9,10,11,12]\n",
        "       ]\n",
        "\n",
        "odd_indexed_elements = [i[1::2]for i in arr]\n",
        "print(odd_indexed_elements)"
      ],
      "metadata": {
        "colab": {
          "base_uri": "https://localhost:8080/"
        },
        "id": "6rMV6DCim1P1",
        "outputId": "389f0cc5-67fc-4126-c35b-1be686555d0c"
      },
      "execution_count": 22,
      "outputs": [
        {
          "output_type": "stream",
          "name": "stdout",
          "text": [
            "[[2, 4], [6, 8], [10, 12]]\n"
          ]
        }
      ]
    },
    {
      "cell_type": "markdown",
      "source": [
        "**7. How can you generate 3X3 matrix with values between 0 and 1?**"
      ],
      "metadata": {
        "id": "yfDv50QWr3Hb"
      }
    },
    {
      "cell_type": "code",
      "source": [
        "print('Matrix of 3X3 with values between 0 and 1\\n',np.random.randint(0,2, size=(3,3)))"
      ],
      "metadata": {
        "colab": {
          "base_uri": "https://localhost:8080/"
        },
        "id": "4oETaD81oy8z",
        "outputId": "9ca36f3b-2c03-4055-8583-39031651cbad"
      },
      "execution_count": 61,
      "outputs": [
        {
          "output_type": "stream",
          "name": "stdout",
          "text": [
            "Matrix of 3X3 with values between 0 and 1\n",
            " [[0 1 1]\n",
            " [1 0 0]\n",
            " [1 1 1]]\n"
          ]
        }
      ]
    },
    {
      "cell_type": "markdown",
      "source": [
        "**8. Describe the difference between np.random.rand and np.random.randn?**"
      ],
      "metadata": {
        "id": "jnSIZouvwe2Q"
      }
    },
    {
      "cell_type": "markdown",
      "source": [
        "np.random.rand\n",
        "1. This function generates random numbers from a uniform distribution over the interval [0, 1).\n",
        "2. The syntax for np.random.rand is np.random.rand(d0, d1, ..., dn), where d0, d1, ..., dn are the dimensions of the output array.\n",
        "3. It returns an array of shape (d0, d1, ..., dn) filled with random numbers sampled from a uniform distribution over [0, 1).\n",
        "4. All numbers in the output array are equally likely to occur."
      ],
      "metadata": {
        "id": "6RLStsrY0btM"
      }
    },
    {
      "cell_type": "markdown",
      "source": [
        "np.random.randn\n",
        "1. This function generates random numbers from a standard normal distribution (mean=0, standard deviation=1).\n",
        "2. The syntax for np.random.randn is np.random.randn(d0, d1, ..., dn), similar to np.random.rand.\n",
        "3. It returns an array of shape (d0, d1, ..., dn) filled with random numbers sampled from a standard normal distribution.\n",
        "4. The distribution is centered around 0, and most of the values lie within the range of -3 to 3 (approximately) due to the properties of the normal distribution."
      ],
      "metadata": {
        "id": "7i_jNu9B0vTa"
      }
    },
    {
      "cell_type": "markdown",
      "source": [
        "**9. Write a code to increase the dimention of following array?**"
      ],
      "metadata": {
        "id": "GePmSa_J1Goa"
      }
    },
    {
      "cell_type": "code",
      "source": [
        "arr = [[1,2,3,4],\n",
        "       [5,6,7,8],\n",
        "       [9,10,11,12]\n",
        "       ]\n",
        "\n",
        " # Increase its dimension by adding a new axis along the second dimension (columns)\n",
        "print(np.expand_dims(arr,axis = 0))\n",
        "print('-'*20)\n",
        "print(np.expand_dims(arr,axis = 1))"
      ],
      "metadata": {
        "colab": {
          "base_uri": "https://localhost:8080/"
        },
        "id": "LMJDv9T_o1hi",
        "outputId": "37cc0dac-9f87-484c-d2d2-e439421ff0c8"
      },
      "execution_count": 42,
      "outputs": [
        {
          "output_type": "stream",
          "name": "stdout",
          "text": [
            "[[[ 1  2  3  4]\n",
            "  [ 5  6  7  8]\n",
            "  [ 9 10 11 12]]]\n",
            "--------------------\n",
            "[[[ 1  2  3  4]]\n",
            "\n",
            " [[ 5  6  7  8]]\n",
            "\n",
            " [[ 9 10 11 12]]]\n"
          ]
        }
      ]
    },
    {
      "cell_type": "markdown",
      "source": [
        "**10. How to transpose the following array in numpy?**"
      ],
      "metadata": {
        "id": "G1PLDzOX4zq6"
      }
    },
    {
      "cell_type": "code",
      "source": [
        "arr = [[1,2,3,4],\n",
        "       [5,6,7,8],\n",
        "       [9,10,11,12]\n",
        "       ]\n",
        "\n",
        "print('Transposed array\\n', np.transpose(arr))"
      ],
      "metadata": {
        "colab": {
          "base_uri": "https://localhost:8080/"
        },
        "id": "cTKAPZcko6i5",
        "outputId": "01d050c7-0ab1-4fda-c8e4-0c5552dae1b4"
      },
      "execution_count": 60,
      "outputs": [
        {
          "output_type": "stream",
          "name": "stdout",
          "text": [
            "Transposed array\n",
            " [[ 1  5  9]\n",
            " [ 2  6 10]\n",
            " [ 3  7 11]\n",
            " [ 4  8 12]]\n"
          ]
        }
      ]
    },
    {
      "cell_type": "markdown",
      "source": [
        "**11. Consider the following matrices and perform the following operations using python**"
      ],
      "metadata": {
        "id": "Dkdw3tGr5W9K"
      }
    },
    {
      "cell_type": "markdown",
      "source": [
        "\n",
        "\n",
        "1.   Index wise multiplication\n",
        "\n"
      ],
      "metadata": {
        "id": "1bMdEGrn5ooT"
      }
    },
    {
      "cell_type": "code",
      "source": [
        "A = np.array ([[1,2,3,4],[5,6,7,8],[9,10,11,12]])\n",
        "\n",
        "B = np.array ([[1,2,3,4],[5,6,7,8],[9,10,11,12]])\n",
        "\n",
        "print(A*B)"
      ],
      "metadata": {
        "colab": {
          "base_uri": "https://localhost:8080/"
        },
        "id": "UMM9iNDrzoYn",
        "outputId": "e44bcc14-6404-4875-f1f8-a346b045ba8a"
      },
      "execution_count": 54,
      "outputs": [
        {
          "output_type": "stream",
          "name": "stdout",
          "text": [
            "[[  1   4   9  16]\n",
            " [ 25  36  49  64]\n",
            " [ 81 100 121 144]]\n"
          ]
        }
      ]
    },
    {
      "cell_type": "markdown",
      "source": [
        "\n",
        "\n",
        "2.   Matrix Multiplication\n",
        "\n",
        "\n",
        "*   Matrix multiplication is not possible as number of rows of matrix A and number of columns of matrix B are not equal.\n",
        "\n",
        "\n",
        "\n",
        "\n"
      ],
      "metadata": {
        "id": "hltpH7P169uA"
      }
    },
    {
      "cell_type": "code",
      "source": [
        "A = np.array ([[1,2,3,4],[5,6,7,8],[9,10,11,12]])\n",
        "\n",
        "B = np.array ([[1,2,3,4],[5,6,7,8],[9,10,11,12]])\n",
        "\n",
        "print(np.dot(A,B))"
      ],
      "metadata": {
        "colab": {
          "base_uri": "https://localhost:8080/",
          "height": 176
        },
        "id": "tKcgT24T5Eav",
        "outputId": "a7e08452-2e7b-4528-af3f-aa0eb6efd1bf"
      },
      "execution_count": 56,
      "outputs": [
        {
          "output_type": "error",
          "ename": "ValueError",
          "evalue": "shapes (3,4) and (3,4) not aligned: 4 (dim 1) != 3 (dim 0)",
          "traceback": [
            "\u001b[0;31m---------------------------------------------------------------------------\u001b[0m",
            "\u001b[0;31mValueError\u001b[0m                                Traceback (most recent call last)",
            "\u001b[0;32m<ipython-input-56-2d744c934149>\u001b[0m in \u001b[0;36m<cell line: 5>\u001b[0;34m()\u001b[0m\n\u001b[1;32m      3\u001b[0m \u001b[0mB\u001b[0m \u001b[0;34m=\u001b[0m \u001b[0mnp\u001b[0m\u001b[0;34m.\u001b[0m\u001b[0marray\u001b[0m \u001b[0;34m(\u001b[0m\u001b[0;34m[\u001b[0m\u001b[0;34m[\u001b[0m\u001b[0;36m1\u001b[0m\u001b[0;34m,\u001b[0m\u001b[0;36m2\u001b[0m\u001b[0;34m,\u001b[0m\u001b[0;36m3\u001b[0m\u001b[0;34m,\u001b[0m\u001b[0;36m4\u001b[0m\u001b[0;34m]\u001b[0m\u001b[0;34m,\u001b[0m\u001b[0;34m[\u001b[0m\u001b[0;36m5\u001b[0m\u001b[0;34m,\u001b[0m\u001b[0;36m6\u001b[0m\u001b[0;34m,\u001b[0m\u001b[0;36m7\u001b[0m\u001b[0;34m,\u001b[0m\u001b[0;36m8\u001b[0m\u001b[0;34m]\u001b[0m\u001b[0;34m,\u001b[0m\u001b[0;34m[\u001b[0m\u001b[0;36m9\u001b[0m\u001b[0;34m,\u001b[0m\u001b[0;36m10\u001b[0m\u001b[0;34m,\u001b[0m\u001b[0;36m11\u001b[0m\u001b[0;34m,\u001b[0m\u001b[0;36m12\u001b[0m\u001b[0;34m]\u001b[0m\u001b[0;34m]\u001b[0m\u001b[0;34m)\u001b[0m\u001b[0;34m\u001b[0m\u001b[0;34m\u001b[0m\u001b[0m\n\u001b[1;32m      4\u001b[0m \u001b[0;34m\u001b[0m\u001b[0m\n\u001b[0;32m----> 5\u001b[0;31m \u001b[0mprint\u001b[0m\u001b[0;34m(\u001b[0m\u001b[0mnp\u001b[0m\u001b[0;34m.\u001b[0m\u001b[0mdot\u001b[0m\u001b[0;34m(\u001b[0m\u001b[0mA\u001b[0m\u001b[0;34m,\u001b[0m\u001b[0mB\u001b[0m\u001b[0;34m)\u001b[0m\u001b[0;34m)\u001b[0m\u001b[0;34m\u001b[0m\u001b[0;34m\u001b[0m\u001b[0m\n\u001b[0m",
            "\u001b[0;31mValueError\u001b[0m: shapes (3,4) and (3,4) not aligned: 4 (dim 1) != 3 (dim 0)"
          ]
        }
      ]
    },
    {
      "cell_type": "markdown",
      "source": [
        "\n",
        "\n",
        "3.   Add Both matrices\n",
        "\n",
        "\n"
      ],
      "metadata": {
        "id": "2dV74xZf8mlQ"
      }
    },
    {
      "cell_type": "code",
      "source": [
        "print('Addition of both the matrices is\\n' , A+B)"
      ],
      "metadata": {
        "colab": {
          "base_uri": "https://localhost:8080/"
        },
        "id": "pA7I8WcB5-CG",
        "outputId": "9a1bfa9a-5e3e-4247-ba8a-7a4860b9cce3"
      },
      "execution_count": 59,
      "outputs": [
        {
          "output_type": "stream",
          "name": "stdout",
          "text": [
            "Addition of both the matrices is\n",
            " [[ 2  4  6  8]\n",
            " [10 12 14 16]\n",
            " [18 20 22 24]]\n"
          ]
        }
      ]
    },
    {
      "cell_type": "markdown",
      "source": [
        "\n",
        "\n",
        "4.   Substract matrix B from matrix A\n",
        "\n",
        "\n"
      ],
      "metadata": {
        "id": "iHpgNKmZ9Grf"
      }
    },
    {
      "cell_type": "code",
      "source": [
        "print(A-B)"
      ],
      "metadata": {
        "colab": {
          "base_uri": "https://localhost:8080/"
        },
        "id": "lhog8Sov8xB_",
        "outputId": "86fe0e05-f283-48cd-8201-e69c5368675a"
      },
      "execution_count": 62,
      "outputs": [
        {
          "output_type": "stream",
          "name": "stdout",
          "text": [
            "[[0 0 0 0]\n",
            " [0 0 0 0]\n",
            " [0 0 0 0]]\n"
          ]
        }
      ]
    },
    {
      "cell_type": "markdown",
      "source": [
        "\n",
        "\n",
        "5.   Devide matrix B by matrix A\n",
        "\n",
        "\n"
      ],
      "metadata": {
        "id": "HDhn23Yo9Uec"
      }
    },
    {
      "cell_type": "code",
      "source": [
        "print(A/B)"
      ],
      "metadata": {
        "colab": {
          "base_uri": "https://localhost:8080/"
        },
        "id": "IZFNPJT89Om5",
        "outputId": "0064ce19-399a-4a5c-8981-fb42348d0d5b"
      },
      "execution_count": 63,
      "outputs": [
        {
          "output_type": "stream",
          "name": "stdout",
          "text": [
            "[[1. 1. 1. 1.]\n",
            " [1. 1. 1. 1.]\n",
            " [1. 1. 1. 1.]]\n"
          ]
        }
      ]
    },
    {
      "cell_type": "markdown",
      "source": [
        "**12. Which function in numpy can be used to swap the byte order of an array?**\n",
        "\n",
        "\n",
        "\n",
        "1.   In NumPy, you can use the byteswap() method to swap the byte order of an array. This method changes the byte order of the elements in the array to the specified byte order\n",
        "\n"
      ],
      "metadata": {
        "id": "fJfol1uW9jpr"
      }
    },
    {
      "cell_type": "markdown",
      "source": [
        "**13. What is the sighnificance of np.linalg.inv function?**\n",
        "\n",
        "\n",
        "1.   The np.linalg.inv() function in NumPy is used to compute the inverse of a square matrix.\n",
        "2.   The input matrix must be square. If it's not, NumPy will raise a LinAlgError\n",
        "3.   If the matrix is singular (i.e., its determinant is zero), the function will raise a LinAlgError because singular matrices do not have inverses.\n",
        "4.   Computing the inverse of a matrix is computationally expensive, especially for large matrices, and may not always be numerically stable.\n",
        "\n"
      ],
      "metadata": {
        "id": "-7IBtsHC_GSf"
      }
    },
    {
      "cell_type": "markdown",
      "source": [
        "**14. What does the np.reshape function do, and how it is used?**\n",
        "\n",
        "\n",
        "1.   The np.reshape() function in NumPy is used to change the shape (dimensions) of an array without changing its data.\n",
        "2.   It allows you to specify the new shape of the array, and NumPy will rearrange the elements of the array to fit the new shape while preserving the order of the elements.\n",
        "\n"
      ],
      "metadata": {
        "id": "5v1zUAKTAANU"
      }
    },
    {
      "cell_type": "code",
      "source": [
        "arr =  np.array([1,2,3,4,5,6,7,8,9])\n",
        "np.reshape(arr, (3,3))"
      ],
      "metadata": {
        "colab": {
          "base_uri": "https://localhost:8080/"
        },
        "id": "YqWnoD0-9fQq",
        "outputId": "9e20eaf5-cac1-43a7-e395-f17a28c6d439"
      },
      "execution_count": 67,
      "outputs": [
        {
          "output_type": "execute_result",
          "data": {
            "text/plain": [
              "array([[1, 2, 3],\n",
              "       [4, 5, 6],\n",
              "       [7, 8, 9]])"
            ]
          },
          "metadata": {},
          "execution_count": 67
        }
      ]
    },
    {
      "cell_type": "markdown",
      "source": [
        "**15. What is the brodcasting in numpy?**\n",
        "\n",
        "\n",
        "1. Broadcasting in NumPy is a powerful mechanism that allows arrays with different shapes to be combined or operated upon together.\n",
        "2. This enables you to perform element-wise operations on arrays of different shapes without having to explicitly reshape or duplicate the arrays.\n",
        "3. When operating on two arrays, NumPy compares their shapes element-wise. It starts with the trailing dimensions and works its way backward. Two dimensions are compatible if they are equal, or if one of them is 1. Arrays with fewer dimensions are padded with ones on their leading (left) side.\n",
        "\n"
      ],
      "metadata": {
        "id": "jZ9_p26eBJSM"
      }
    },
    {
      "cell_type": "code",
      "source": [
        "arr1 = np.array([[1, 2, 3],\n",
        "                 [4, 5, 6]])\n",
        "\n",
        "# Create a 1D array\n",
        "arr2 = np.array([10, 20, 30])\n",
        "\n",
        "# Perform broadcasting to add arr2 to each row of arr1\n",
        "result = arr1 + arr2\n",
        "\n",
        "# Print the result\n",
        "print(\"Result of broadcasting:\")\n",
        "print(result)"
      ],
      "metadata": {
        "colab": {
          "base_uri": "https://localhost:8080/"
        },
        "id": "g7guO3oqAw3R",
        "outputId": "dea95019-141f-4ccf-9328-05a3528f1814"
      },
      "execution_count": 70,
      "outputs": [
        {
          "output_type": "stream",
          "name": "stdout",
          "text": [
            "Result of broadcasting:\n",
            "[[11 22 33]\n",
            " [14 25 36]]\n"
          ]
        }
      ]
    },
    {
      "cell_type": "code",
      "source": [],
      "metadata": {
        "id": "w2UXoJeRAzmX"
      },
      "execution_count": null,
      "outputs": []
    }
  ]
}