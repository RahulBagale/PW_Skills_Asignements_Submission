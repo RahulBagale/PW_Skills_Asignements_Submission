{
  "nbformat": 4,
  "nbformat_minor": 0,
  "metadata": {
    "colab": {
      "provenance": []
    },
    "kernelspec": {
      "name": "python3",
      "display_name": "Python 3"
    },
    "language_info": {
      "name": "python"
    }
  },
  "cells": [
    {
      "cell_type": "markdown",
      "source": [
        "# Constructore"
      ],
      "metadata": {
        "id": "NvKK6298DVaX"
      }
    },
    {
      "cell_type": "markdown",
      "source": [
        "**1. What is a constructor in Python? Explain its purpose and usage.**\n",
        "\n",
        "\n",
        "1. Constructor are used to initialise the object's state\n",
        "2. It is typically defined within a class and has the same name as the class itself.\n",
        "3. The constructor method is called automatically when an instance of the class is created\n",
        "4. The constructor method in Python is __init__(). It allows you to initialize instance variables (attributes) of the class with default values or values provided by the user when creating an object.\n",
        "5. Purpose & Usage :\n",
        "\n",
        "\n",
        "*   Initialization: Constructors initialize the state of objects by setting initial values to instance variables. This helps ensure that objects have a consistent and predictable state when they are created.\n",
        "Parameterization: Constructors can accept parameters, allowing users to customize the initial state of objects. This makes classes more flexible and reusable, as objects can be created with different initial configurations.\n",
        "*   Automatic Invocation: Constructors are automatically called when an object is created using the class. This ensures that initialization logic is executed whenever an object is instantiated, without the need for explicit method calls.\n",
        "*   Default Values: Constructors can provide default values for instance variables if no values are provided by the user. This simplifies object creation by allowing users to omit certain parameters if they are not needed.\n",
        "*   Initialization Logic: Constructors can perform additional initialization tasks beyond setting initial values to instance variables. This may include performing calculations, opening files, connecting to databases, or any other setup tasks required by the class.\n",
        "\n",
        "\n",
        "\n",
        "\n"
      ],
      "metadata": {
        "id": "BQvYb-BjO0lX"
      }
    },
    {
      "cell_type": "markdown",
      "source": [
        "**2.Differentiate between a parameterless constructor and a parameterized constructor in Python.**\n",
        "\n",
        "\n",
        "1.   Parameterless Constructor\n",
        "\n",
        "\n",
        "*   A parameterless constructor, as the name suggests, does not accept any parameters.\n",
        "*   It is defined with the __init__() method without any parameters other than self.\n",
        "*   The purpose of a parameterless constructor is to perform any necessary initialization tasks without requiring any input from the user at the time of object creation.\n",
        "*   If no constructor is explicitly defined in a class, Python provides a default parameterless constructor that takes only the self parameter.\n",
        "\n",
        "\n",
        "\n",
        "2.  Parameterized Constructor\n",
        "\n",
        "\n",
        "*   A parameterized constructor accepts one or more parameters in addition to the self parameter.\n",
        "*   It is defined with the __init__() method with one or more parameters representing the initial state of the object.\n",
        "*   The purpose of a parameterized constructor is to allow users to customize the initial state of objects by providing values for the parameters at the time of object creation.\n",
        "*   Parameterized constructors are commonly used when objects need to be initialized with specific values or configurations\n",
        "\n",
        "\n",
        "\n",
        "\n"
      ],
      "metadata": {
        "id": "EwJuKFleRrcw"
      }
    },
    {
      "cell_type": "markdown",
      "source": [
        "**3. How do you define a constructor in a Python class? Provide an example.**\n",
        "\n",
        "\n",
        "*   In Python, a constructor is defined using a special method called __init__(). This method is automatically called when an object of the class is created. Within the constructor, you can initialize instance variables (attributes) and perform any other necessary setup tasks.\n",
        "\n",
        "\n"
      ],
      "metadata": {
        "id": "mVazSEvATVAZ"
      }
    },
    {
      "cell_type": "code",
      "execution_count": null,
      "metadata": {
        "colab": {
          "base_uri": "https://localhost:8080/"
        },
        "id": "TWw5QJLsJPWw",
        "outputId": "e86574b5-bcc2-4378-cd2c-d0cf2602e7de"
      },
      "outputs": [
        {
          "output_type": "stream",
          "name": "stdout",
          "text": [
            "name -  Ram\n",
            "roll_no -  Ram\n"
          ]
        }
      ],
      "source": [
        "class student:\n",
        "\n",
        "  def __init__(self, name, rollno):\n",
        "    self.name = name\n",
        "    self.rollno = rollno\n",
        "  def stud_info(self):\n",
        "    print('name - ',self.name)\n",
        "    print('roll_no - ',self.name)\n",
        "\n",
        "Obj = student('Ram',58)\n",
        "Obj.stud_info()"
      ]
    },
    {
      "cell_type": "markdown",
      "source": [
        "**4. Explain the `__init__` method in Python and its role in constructors.**\n",
        "\n",
        "\n",
        "1. In Python, the __init__() method is a special method used for initializing newly created objects of a class. It is also known as the constructor method.\n",
        "2. The __init__() method is automatically called when an instance of the class is created, and it is responsible for initializing the instance variables (attributes) of the object with default values or values provided by the user.\n",
        "\n"
      ],
      "metadata": {
        "id": "cSQ4n1mJUvsF"
      }
    },
    {
      "cell_type": "markdown",
      "source": [
        "**5. In a class named `Person`, create a constructor that initializes the `name` and `age` attributes. Provide an\n",
        "example of creating an object of this class.**"
      ],
      "metadata": {
        "id": "wRX5xxgRVwHA"
      }
    },
    {
      "cell_type": "code",
      "source": [
        "class Person:\n",
        "\n",
        "  def __init__(self,name,age):\n",
        "    self.name = name\n",
        "    self.age = age\n",
        "\n",
        "obj = Person('Ram',50)"
      ],
      "metadata": {
        "id": "xEKw89w0UX2Z"
      },
      "execution_count": null,
      "outputs": []
    },
    {
      "cell_type": "markdown",
      "source": [
        "**6. How can you call a constructor explicitly in Python? Give an example.**\n",
        "\n",
        "\n",
        "1.  you can call a constructor explicitly like any other method of a class.\n",
        "2.  This might be useful in certain situations where you want to reinitialize an existing object or perform initialization logic again.\n",
        "3.   While it's technically possible to call the constructor explicitly, it's generally not recommended unless there's a specific reason to do so\n",
        "\n"
      ],
      "metadata": {
        "id": "bXMk1YTHWXz9"
      }
    },
    {
      "cell_type": "code",
      "source": [
        "class Person:\n",
        "\n",
        "  def __init__(self,name,age):\n",
        "    self.name = name\n",
        "    self.age = age\n",
        "    print(f'name and age of the person is{self.name},{self.age}')\n",
        "\n",
        "obj = Person('Ram',50)"
      ],
      "metadata": {
        "colab": {
          "base_uri": "https://localhost:8080/"
        },
        "id": "qmeHUInaX5dn",
        "outputId": "3d464aee-d05e-442b-88c8-c04265d585c7"
      },
      "execution_count": null,
      "outputs": [
        {
          "output_type": "stream",
          "name": "stdout",
          "text": [
            "name and age of the person isRam,50\n"
          ]
        }
      ]
    },
    {
      "cell_type": "markdown",
      "source": [
        "**7. What is the significance of the `self` parameter in Python constructors? Explain with an example.**\n",
        "\n",
        "\n",
        "1.   Significance\n",
        "\n",
        "\n",
        "* Instance Scope: Within a constructor, self allows you to access and modify instance variables specific to the current instance of the class. Instance variables are unique to each instance of the class and store the state of the object.\n",
        "* Method Invocation: Using self, you can call other methods of the class within the constructor. This allows you to encapsulate functionality and promote code reusability within the class.\n",
        "* Initialization: self is used to initialize instance variables with values provided to the constructor. By assigning values to instance variables using self, you ensure that they are accessible throughout the class.\n",
        "* Instance Identity: The self parameter distinguishes the current instance of the class from other instances. It allows you to perform operations specific to the current instance without affecting other instances of the class.\n",
        "\n",
        "\n"
      ],
      "metadata": {
        "id": "k4cw8KYUaFoU"
      }
    },
    {
      "cell_type": "code",
      "source": [
        "class student:\n",
        "\n",
        "  def __init__(self, name, rollno):\n",
        "    self.name = name   # Creating instance variable name with provided value\n",
        "    self.rollno = rollno\n",
        "    self.department = 'Data_Science' # Creating instance variable department with default value\n",
        "  def stud_info(self):\n",
        "    print('name - ',self.name)\n",
        "    print('roll_no - ',self.name)\n",
        "\n",
        "Obj = student('Ram',58)\n",
        "Obj.stud_info()"
      ],
      "metadata": {
        "id": "Bsgq0AOzaVdF"
      },
      "execution_count": null,
      "outputs": []
    },
    {
      "cell_type": "markdown",
      "source": [
        "**8. Discuss the concept of default constructors in Python. When are they used?**\n",
        "\n",
        "\n",
        "\n",
        "1.   \n",
        "In Python, there is no concept of default constructors in the same sense as in some other programming languages like C++ or Java. However, if you don't define any constructor in a Python class, Python provides a default constructor for you. This default constructor initializes the object with no additional behavior beyond what is inherited from the object class.\n",
        "2.   In Python, every class inherits from the object class by default. The object class provides a default constructor that takes no arguments and initializes the object without any additional logic.\n",
        "3. When they used?\n",
        "\n",
        "\n",
        "*   Minimalistic Initialization: If your class doesn't require any specific initialization logic and you only need the default behavior inherited from the object class, you can rely on the default constructor.\n",
        "*class MyClass:\n",
        "    pass\n",
        "obj = MyClass()\n",
        "*   Inheritance: If your class inherits from another class and doesn't define its own constructor, it will inherit the default constructor from its parent class.\n",
        "*class ParentClass:\n",
        "    pass\n",
        "class ChildClass(ParentClass):\n",
        "    pass\n",
        "obj = ChildClass()\n",
        "*   Placeholders: When you're initially defining a class structure and plan to add more functionality later, you can use default constructors as placeholders until you need to provide explicit initialization logic.\n",
        "*class PlaceholderClass:\n",
        "    pass\n",
        "obj = PlaceholderClass()\n",
        "\n",
        "\n",
        "\n"
      ],
      "metadata": {
        "id": "FmFOeNdbcNtd"
      }
    },
    {
      "cell_type": "markdown",
      "source": [
        "**9. Create a Python class called Rectangle with a constructor that initializes the width and heightattributes. Provide a method to calculate the area of the rectangle**"
      ],
      "metadata": {
        "id": "Vw2w6tgEux7a"
      }
    },
    {
      "cell_type": "code",
      "source": [
        "class Rectangle:\n",
        "\n",
        "  def __init__(self,width, height):\n",
        "    self.width = width\n",
        "    self.height = height\n",
        "\n",
        "  def area_of_rectangle(self):\n",
        "    area = self.width * self.height\n",
        "    return area\n",
        "\n",
        "obj = Rectangle(20,30)\n",
        "print(obj.area_of_rectangle())"
      ],
      "metadata": {
        "id": "UPLkwvYngq4s",
        "colab": {
          "base_uri": "https://localhost:8080/"
        },
        "outputId": "a74d004e-2dd5-44eb-8762-dcdd01d15ecd"
      },
      "execution_count": null,
      "outputs": [
        {
          "output_type": "stream",
          "name": "stdout",
          "text": [
            "600\n"
          ]
        }
      ]
    },
    {
      "cell_type": "markdown",
      "source": [
        "**10. How can you have multiple constructors in a Python class? Explain with an example**\n",
        "\n",
        "\n",
        "\n",
        "1.   \n",
        "In Python, you can't have multiple constructors in the same way as some other programming languages like Java or C++, where constructor overloading is used to define multiple constructors with different parameter lists. However, you can achieve similar functionality in Python by using default parameter values or by using class methods as factory functions to create objects with different initialization logic.\n",
        "2. Using Default Parameter Values:\n",
        "You can define a single constructor (__init__() method) with default parameter values. By providing default values for some parameters, you make those parameters optional, allowing users to create objects with different sets of initialization values.\n",
        "3. Using Class Methods:\n",
        "You can define class methods that act as factory functions to create objects with different initialization logic. These methods can take different parameters and return instances of the class with specific initialization values.\n",
        "\n"
      ],
      "metadata": {
        "id": "pQUZI8yHwfoE"
      }
    },
    {
      "cell_type": "code",
      "source": [
        "# Using Default Parameter Values\n",
        "class MyClass:\n",
        "    def __init__(self, x=None, y=None):\n",
        "        if x is None:\n",
        "            x = 0\n",
        "        if y is None:\n",
        "            y = 0\n",
        "        self.x = x\n",
        "        self.y = y\n",
        "\n",
        "obj1 = MyClass()           # No parameters, defaults to x=0, y=0\n",
        "obj2 = MyClass(10)         # Only x parameter provided, defaults y=0\n",
        "obj3 = MyClass(10, 20)     # Both x and y parameters provided\n",
        "\n",
        "#Using Class Methods:\n",
        "class MyClass:\n",
        "    def __init__(self, x, y):\n",
        "        self.x = x\n",
        "        self.y = y\n",
        "\n",
        "    @classmethod\n",
        "    def from_string(cls, s):\n",
        "        x, y = map(int, s.split(','))\n",
        "        return cls(x, y)\n",
        "\n",
        "obj1 = MyClass(10, 20)       # Using regular constructor\n",
        "obj2 = MyClass.from_string(\"30,40\")  # Using class method as constructor\n",
        "\n"
      ],
      "metadata": {
        "id": "eWHbdfU-v24l"
      },
      "execution_count": null,
      "outputs": []
    },
    {
      "cell_type": "markdown",
      "source": [
        "**11. What is method overloading, and how is it related to constructors in Python?**\n",
        "\n",
        "\n",
        "\n",
        "1.   In Python, method overloading is not supported in the same way as in languages like Java or C++. Python does not allow you to define multiple methods with the same name but different parameter lists within the same class.\n",
        "2.   Constructors in Python are special methods (__init__() method) used for initializing objects of a class. They are automatically called when an object is created, and their primary purpose is to set initial values for instance variables (attributes) of the object.\n",
        "3. On the other hand, method overloading, as typically understood, involves defining multiple methods with the same name but different parameter lists within the same class. This allows the same method name to be used for different behaviors depending on the parameters passed to it.\n",
        "4. In Python, you cannot define multiple constructors within the same class, as you can't have multiple methods with the same name and different parameter lists. However, as mentioned earlier, you can achieve similar functionality to method overloading by using default parameter values in methods, including constructors.\n",
        "\n",
        "\n",
        "*   Default Parameter Values: In constructors, you can use default parameter values to create a single constructor that can accept different numbers of arguments or different types of arguments. This can provide similar flexibility as method overloading for object initialization.\n",
        "*   Initialization Logic: Constructors in Python can contain logic to handle different initialization scenarios based on the values of the parameters passed to them. By using conditional statements within the constructor, you can customize the initialization behavior of objects based on the arguments provided.\n",
        "\n",
        "\n",
        "\n"
      ],
      "metadata": {
        "id": "HFlH3a5wzhFO"
      }
    },
    {
      "cell_type": "markdown",
      "source": [
        "**12. Explain the use of the `super()` function in Python constructors. Provide an example.**\n",
        "\n",
        "\n",
        "1.   In Python, the super() function is used to call methods and constructors of the parent class (also known as the superclass or base class) within the context of a subclass.\n",
        "2.   When used in the context of constructors, super() allows you to invoke the constructor of the parent class from the constructor of the subclass, ensuring that initialization logic defined in the parent class is executed.\n",
        "3. The super() function is typically used in the __init__() method of a subclass to call the constructor of the parent class. This is useful when you want to extend the functionality of the parent class constructor in the subclass without duplicating its initialization code.\n",
        "\n"
      ],
      "metadata": {
        "id": "gfg05jxo1sto"
      }
    },
    {
      "cell_type": "code",
      "source": [
        "class Length:\n",
        "    def __init__(self, x,z):\n",
        "        self.x = x\n",
        "        self.z = z\n",
        "        print(\"Length class constructor called with x =\", self.x)\n",
        "\n",
        "class Volume(Length):\n",
        "    def __init__(self, x, y,z):\n",
        "        super().__init__(x,z)  # Call constructor of the ParentClass\n",
        "        self.y = y\n",
        "        volume = self.x * self.z * self.y\n",
        "        print(volume)\n",
        "        print(\"VolumeClass constructor called with x =\", self.x, \"and y =\", self.y, self.z)\n",
        "\n",
        "# Create an object of ChildClass\n",
        "obj = Volume(10, 20,30)\n"
      ],
      "metadata": {
        "colab": {
          "base_uri": "https://localhost:8080/"
        },
        "id": "t4cWcxuqy6-P",
        "outputId": "d92c6ae8-3249-49f0-999a-2ce698b66ac8"
      },
      "execution_count": null,
      "outputs": [
        {
          "output_type": "stream",
          "name": "stdout",
          "text": [
            "Length class constructor called with x = 10\n",
            "6000\n",
            "VolumeClass constructor called with x = 10 and y = 20 30\n"
          ]
        }
      ]
    },
    {
      "cell_type": "markdown",
      "source": [
        "**13. Create a class called Book with a constructor that initializes the title, author, and published_year attributes. Provide a method to display book details **"
      ],
      "metadata": {
        "id": "JNxFikXf4bhU"
      }
    },
    {
      "cell_type": "code",
      "source": [
        "class Book:\n",
        "  def __init__(self, title, auther, published_year):\n",
        "    self.title = title\n",
        "    self.auther = auther\n",
        "    self.published_year = published_year\n",
        "\n",
        "  def display_book_details(self):\n",
        "    print('Book title is -',self.title, \"Book Auther is -\", self.auther, 'Published year is -', self.published_year)\n",
        "\n",
        "obj = Book('Data_science', 'Div.Smith', 2015)\n",
        "obj.display_book_details()"
      ],
      "metadata": {
        "colab": {
          "base_uri": "https://localhost:8080/"
        },
        "id": "WR5UwyK33gkf",
        "outputId": "e29135e3-6536-436a-e03b-b5a08cdcc34a"
      },
      "execution_count": null,
      "outputs": [
        {
          "output_type": "stream",
          "name": "stdout",
          "text": [
            "Book title is - Data_science Book Auther is - Div.Smith Published year is - 2015\n"
          ]
        }
      ]
    },
    {
      "cell_type": "markdown",
      "source": [
        "**14. Discuss the differences between constructors and regular methods in Python classes.**\n",
        "\n",
        "\n",
        "1.   Constructors and regular methods are both essential components of Python classes, but they serve different purposes and have distinct characteristics. Here are the key differences between constructors and regular methods in Python classes:\n",
        "\n",
        "2. Purpose:\n",
        "* Constructors: Constructors are special methods used for initializing objects of a class. They are automatically called when an object is created and are responsible for setting initial values to instance  variables (attributes).\n",
        "* Regular Methods: Regular methods perform specific tasks or operations related to the behavior of objects. They can manipulate the state of the object, access its attributes, and perform actions based on the object's current state.\n",
        "3. Name:\n",
        "* Constructors: Constructors are typically named __init__() in Python. This is a reserved method name used specifically for initialization.\n",
        "* Regular Methods: Regular methods can have any valid method name in Python. They are defined to represent the actions or behaviors associated with the objects of the class.\n",
        "4. Invocation:\n",
        "* Constructors: Constructors are automatically invoked when an object of the class is created using the class constructor. They are called only once during object creation.\n",
        "* Regular Methods: Regular methods are called explicitly by the user or by other methods within the class. They can be called multiple times on the same object or on different objects of the class.\n",
        "5. Return Value:\n",
        "* Constructors: Constructors do not return any value explicitly. Their primary purpose is to initialize the object's state, and they implicitly return a newly created instance of the class.\n",
        "* Regular Methods: Regular methods can return values of any data type, depending on the implementation. They may or may not return a value, depending on the specific functionality they perform.\n",
        "6. Usage:\n",
        "* Constructors: Constructors are used to initialize the state of objects, set initial values to instance variables, and perform any necessary setup tasks required by the class.\n",
        "* Regular Methods: Regular methods are used to define the behavior of objects, perform operations on object attributes, and encapsulate functionality associated with the objects.\n",
        "7. Syntax:\n",
        "* Constructors: Constructors are defined using the def __init__(self, ...), where self represents the current instance of the class.\n",
        "* Regular Methods: Regular methods are defined using the def method_name(self, ...), where self is used to access instance variables and other methods within the class.\n",
        "\n",
        "\n"
      ],
      "metadata": {
        "id": "b2F-oG2657yL"
      }
    },
    {
      "cell_type": "markdown",
      "source": [
        "**15. Explain the role of the `self` parameter in instance variable initialization within a constructor**\n",
        "\n",
        "\n",
        "1.   In Python, the self parameter in a constructor plays a crucial role in instance variable initialization. The self parameter is a reference to the current instance of the class, and it is used to access and manipulate instance variables (attributes) within the class.\n",
        "2.   When initializing instance variables within a constructor, you use the self parameter to bind the values to the specific instance of the class being created. This ensures that each instance of the class has its own copy of the instance variables, and changes made to those variables are specific to that instance.\n",
        "* Accessing Instance Variables: Inside the constructor, you use the self parameter to access instance variables and assign values to them. This ensures that the variables are associated with the specific instance being initialized.\n",
        "* class MyClass:\n",
        "    def __init__(self, x, y):\n",
        "        self.x = x  # Initialize instance variable x\n",
        "        self.y = y\n",
        "* Binding Instance Variables: By prefixing instance variable names with self, you bind them to the instance of the class being created. This allows you to access and modify these variables using dot notation (self.variable_name) throughout the class.\n",
        "* obj1 = MyClass(10, 20)\n",
        "print(obj1.x)  # Access instance variable x of obj1\n",
        "print(obj1.y)  # Access instance variable y of obj1\n",
        "* Instance-specific Initialization: Using self in the constructor ensures that the values assigned to instance variables are specific to the instance being created. Each instance of the class maintains its own set of instance variables, independent of other instances.\n",
        "* obj1 = MyClass(10, 20)\n",
        "obj2 = MyClass(30, 40)        \n",
        "\n"
      ],
      "metadata": {
        "id": "KaRYjjES72r5"
      }
    },
    {
      "cell_type": "markdown",
      "source": [
        "**16. How do you prevent a class from having multiple instances by using constructors in Python? Provide an example.**\n",
        "1. To prevent a class from having multiple instances, you can implement a design pattern called the Singleton pattern. The Singleton pattern ensures that a class has only one instance and provides a global point of access to that instance.\n",
        "\n",
        "2. In Python, you can implement the Singleton pattern by overriding the __new__() method, which is responsible for creating new instances of a class. By customizing the behavior of the __new__() method, you can ensure that only one instance of the class is created, regardless of how many times the class is instantiated."
      ],
      "metadata": {
        "id": "FIZ_wK7-9U8M"
      }
    },
    {
      "cell_type": "code",
      "source": [
        "class Singleton:\n",
        "    _instance = None\n",
        "\n",
        "    def __new__(cls):\n",
        "        if cls._instance is None:\n",
        "            cls._instance = super().__new__(cls)\n",
        "        return cls._instance\n",
        "\n",
        "# Usage\n",
        "obj1 = Singleton()\n",
        "obj2 = Singleton()\n",
        "\n",
        "print(obj1 is obj2)  # Output: True, obj1 and obj2 refer to the same instance\n"
      ],
      "metadata": {
        "colab": {
          "base_uri": "https://localhost:8080/"
        },
        "id": "gGl4F0Xp54Kx",
        "outputId": "79fbdac4-fcb5-46fd-df2b-d916433eff5f"
      },
      "execution_count": null,
      "outputs": [
        {
          "output_type": "stream",
          "name": "stdout",
          "text": [
            "True\n"
          ]
        }
      ]
    },
    {
      "cell_type": "markdown",
      "source": [
        "**17. Create a Python class called Student with a constructor that takes a list of subjects as a parameter and initializes the subjects attribute.**"
      ],
      "metadata": {
        "id": "vaGBlNTp-P6a"
      }
    },
    {
      "cell_type": "code",
      "source": [
        "class Student:\n",
        "  def __init__(self,subjects):\n",
        "    self.subjects = subjects\n",
        "\n",
        "sub_list = ['DSA','Bigdata','ML']\n",
        "student1 = Student(sub_list)\n",
        "student1.subjects"
      ],
      "metadata": {
        "colab": {
          "base_uri": "https://localhost:8080/"
        },
        "id": "4-mqJ5VZ-WbB",
        "outputId": "32e7afda-aa0e-4b8b-ee48-eef2f9a9190b"
      },
      "execution_count": null,
      "outputs": [
        {
          "output_type": "execute_result",
          "data": {
            "text/plain": [
              "['DSA', 'Bigdata', 'ML']"
            ]
          },
          "metadata": {},
          "execution_count": 31
        }
      ]
    },
    {
      "cell_type": "markdown",
      "source": [
        "**18. What is the purpose of the `__del__` method in Python classes, and how does it relate to constructors?**\n",
        "\n",
        "\n",
        "1. The __del__ method in Python classes is a special method used for performing cleanup actions or releasing resources when an object is about to be destroyed (i.e., when it is garbage-collected). It is called just before the object's memory is deallocated and the object is removed from memory.\n",
        "\n",
        "2. The primary purpose of the __del__ method is to define the cleanup behavior specific to a class. This can include releasing system resources (such as closing files or database connections), deallocating memory, or performing any other necessary cleanup operations.\n",
        "\n",
        "3. The __del__ method is related to constructors (__init__ method) in that it provides the opposite functionality. While the constructor (__init__) is called when an object is created to initialize its state, the __del__ method is called when the object is destroyed to perform cleanup tasks before it is deallocated from memory.\n",
        "\n"
      ],
      "metadata": {
        "id": "j2iNTqxL_jBk"
      }
    },
    {
      "cell_type": "markdown",
      "source": [
        "**19. Explain the use of constructor chaining in Python. Provide a practical example.**\n",
        "1. Constructor chaining, also known as constructor delegation, refers to the practice of calling one constructor from another constructor within the same class or from a subclass to its superclass. This technique allows you to avoid duplicating initialization code and promotes code reuse by centralizing common initialization logic in one place.\n",
        "2. In Python, constructor chaining is achieved by using the super() function to call the constructor of the superclass from within the constructor of the subclass. This ensures that both the initialization logic of the subclass and the superclass are executed when an object of the subclass is created."
      ],
      "metadata": {
        "id": "3jrXYSZgBrqc"
      }
    },
    {
      "cell_type": "code",
      "source": [
        "class Person:\n",
        "    def __init__(self, name, age):\n",
        "        self.name = name\n",
        "        self.age = age\n",
        "        print(\"Person constructor called.\")\n",
        "\n",
        "class Student(Person):\n",
        "    def __init__(self, name, age, student_id):\n",
        "        super().__init__(name, age)  # Call constructor of the superclass\n",
        "        self.student_id = student_id\n",
        "        print(\"Student constructor called.\")\n",
        "\n",
        "# Create an object of Student\n",
        "student = Student(\"Alice\", 20, \"12345\")\n"
      ],
      "metadata": {
        "colab": {
          "base_uri": "https://localhost:8080/"
        },
        "id": "EfIUSOUA_Z2_",
        "outputId": "d1620e90-9a29-4414-f001-d8caa0189fe9"
      },
      "execution_count": null,
      "outputs": [
        {
          "output_type": "stream",
          "name": "stdout",
          "text": [
            "Person constructor called.\n",
            "Student constructor called.\n"
          ]
        }
      ]
    },
    {
      "cell_type": "markdown",
      "source": [
        "**20. Create a Python class called `Car` with a default constructor that initializes the `make` and `model` attributes. Provide a method to display car information.**"
      ],
      "metadata": {
        "id": "N0JiVCOkCbpr"
      }
    },
    {
      "cell_type": "code",
      "source": [
        "class Car:\n",
        "  def __init__(self,make,model):\n",
        "    self.make = make\n",
        "    self.model = model\n",
        "  def display_car_info(self):\n",
        "    print('car make -', self.make)\n",
        "    print('car model', self.model)\n",
        "\n",
        "obj  = Car(2015, \"VENUE\")\n",
        "obj.display_car_info()"
      ],
      "metadata": {
        "colab": {
          "base_uri": "https://localhost:8080/"
        },
        "id": "7Op2Nuw9CbC0",
        "outputId": "54f9bfba-f722-414b-eb8f-e3d03c5f06d5"
      },
      "execution_count": null,
      "outputs": [
        {
          "output_type": "stream",
          "name": "stdout",
          "text": [
            "car make - 2015\n",
            "car model VENUE\n"
          ]
        }
      ]
    },
    {
      "cell_type": "markdown",
      "source": [
        "# Inheritance"
      ],
      "metadata": {
        "id": "HuTIGbWYDnRL"
      }
    },
    {
      "cell_type": "markdown",
      "source": [
        "**1. What is inheritance in Python? Explain its significance in object-oriented programming.**\n",
        "1.\n",
        "Inheritance in Python is a mechanism that allows a class (known as the subclass or derived class) to inherit attributes and methods from another class (known as the superclass or base class). This means that the subclass can reuse the code and functionality defined in the superclass, promoting code reuse and reducing redundancy.\n",
        "2. Significance\n",
        "* Code Reuse: Inheritance allows you to reuse code defined in the superclass across multiple subclasses. This reduces code duplication and promotes modular and maintainable code.\n",
        "* Hierarchy and Organization: Inheritance facilitates the organization of classes into hierarchical structures, where subclasses inherit behavior and characteristics from their parent classes. This makes the codebase easier to understand and navigate.\n",
        "* Polymorphism: Inheritance enables polymorphic behavior, where objects of different classes can be treated interchangeably if they share a common superclass. This promotes flexibility and extensibility in the design of object-oriented systems.\n",
        "* Encapsulation: Inheritance allows you to encapsulate common behavior and attributes in the superclass, promoting encapsulation and separation of concerns in your code.\n",
        "* Specialization and Customization: Subclasses can specialize or customize the behavior of the superclass by overriding methods or adding new methods and attributes. This allows for flexible and extensible class hierarchies that can adapt to different requirements."
      ],
      "metadata": {
        "id": "TYiK-yuVNZ3Z"
      }
    },
    {
      "cell_type": "markdown",
      "source": [
        "**2. Differentiate between single inheritance and multiple inheritance in Python. Provide examples for each.**\n",
        "1. Single Inheritance:\n",
        "In single inheritance, a subclass inherits from only one superclass.\n",
        "The subclass inherits all attributes and methods from the superclass, and it can define additional attributes and methods as needed.\n",
        "Single inheritance is straightforward and easy to understand but may limit code reuse in certain cases.\n",
        "2. Multiple Inheritance:\n",
        "In multiple inheritance, a subclass can inherit from more than one superclass.\n",
        "The subclass inherits attributes and methods from all parent classes, allowing for greater code reuse and flexibility.\n",
        "Multiple inheritance can lead to complex class hierarchies and potential conflicts, so it should be used with caution."
      ],
      "metadata": {
        "id": "8awSaKaOPO4k"
      }
    },
    {
      "cell_type": "code",
      "source": [
        "# Single Inheritance\n",
        "class Animal:\n",
        "  def speak(self):\n",
        "    print('Animal Speaks')\n",
        "class dog(Animal):\n",
        "  def barks(self):\n",
        "    print(\"dog barks\")\n",
        "\n",
        "obj1  = dog()\n",
        "obj1.speak()\n",
        "obj1.barks()"
      ],
      "metadata": {
        "colab": {
          "base_uri": "https://localhost:8080/"
        },
        "id": "2WPYBMvIRc9I",
        "outputId": "0dfa6911-7fe4-43b1-d246-c382c3f15f30"
      },
      "execution_count": null,
      "outputs": [
        {
          "output_type": "stream",
          "name": "stdout",
          "text": [
            "Animal Speaks\n",
            "dog barks\n"
          ]
        }
      ]
    },
    {
      "cell_type": "code",
      "source": [
        "#Multiple Inheritance\n",
        "class Animal:\n",
        "  def speak(self):\n",
        "    print('Animal Speaks')\n",
        "class Pet:\n",
        "    def play(self):\n",
        "      print(\"pet plays\")\n",
        "\n",
        "obj1  = dog()\n",
        "obj1.speak()\n",
        "obj1.play()\n",
        "obj1.barks()"
      ],
      "metadata": {
        "colab": {
          "base_uri": "https://localhost:8080/"
        },
        "id": "oN5Mq-bODNTe",
        "outputId": "a6abe115-8d4f-4768-d483-8c0790768d66"
      },
      "execution_count": null,
      "outputs": [
        {
          "output_type": "stream",
          "name": "stdout",
          "text": [
            "Animal Speaks\n",
            "pet plays\n",
            "dog barks\n"
          ]
        }
      ]
    },
    {
      "cell_type": "markdown",
      "source": [
        "**3. Create a Python class called `Vehicle` with attributes `color` and `speed`. Then, create a child class called `Car` that inherits from `Vehicle` and adds a `brand` attribute. Provide an example of creating a `Car` object.**"
      ],
      "metadata": {
        "id": "ZCqozZCKR2p6"
      }
    },
    {
      "cell_type": "code",
      "source": [
        "class Vehicle:\n",
        "  def __init__(self, color, speed):\n",
        "    self.color = color\n",
        "    self.speed = speed\n",
        "    self.seats = 5\n",
        "\n",
        "class Car(Vehicle):\n",
        "  def __init__(self, color, speed,brand):\n",
        "     super().__init__(color, speed)\n",
        "     self.brand = brand\n",
        "  def car_info(self):\n",
        "    print(self.color)\n",
        "    print(self.speed)\n",
        "    print(self.brand)\n",
        "\n",
        "obj = Car('Red', 200, 'Hyundai')\n",
        "obj.car_info()"
      ],
      "metadata": {
        "colab": {
          "base_uri": "https://localhost:8080/"
        },
        "id": "HQjw4ohYSHrE",
        "outputId": "0903f3b3-f6a0-45f7-d239-5bfbf3ee9712"
      },
      "execution_count": null,
      "outputs": [
        {
          "output_type": "stream",
          "name": "stdout",
          "text": [
            "Red\n",
            "200\n",
            "Hyundai\n"
          ]
        }
      ]
    },
    {
      "cell_type": "markdown",
      "source": [
        "**4. Explain the concept of method overriding in inheritance. Provide a practical example.**\n",
        "1. Method overriding is a feature of inheritance in object-oriented programming where a subclass provides a specific implementation of a method that is already defined in its superclass. This allows the subclass to customize or extend the behavior of the inherited method to better suit its own needs. When a method is overridden in a subclass, the subclass version of the method is executed instead of the superclass version when called on objects of the subclass."
      ],
      "metadata": {
        "id": "nPZrJ6OaU2ab"
      }
    },
    {
      "cell_type": "code",
      "source": [
        "class Animal:\n",
        "  def sound(self):\n",
        "    print(\"Animal makes sound\")\n",
        "class dog(Animal):\n",
        "  def sound(self):\n",
        "    print('dog barks')\n",
        "\n",
        "animal = Animal()\n",
        "Dog = dog()\n",
        "\n",
        "animal.sound()\n",
        "Dog.sound()"
      ],
      "metadata": {
        "colab": {
          "base_uri": "https://localhost:8080/"
        },
        "id": "KivPeHOeUq2S",
        "outputId": "853ba90d-db4b-4aad-c4ee-c00cf9d7f273"
      },
      "execution_count": null,
      "outputs": [
        {
          "output_type": "stream",
          "name": "stdout",
          "text": [
            "Animal makes sound\n",
            "dog barks\n"
          ]
        }
      ]
    },
    {
      "cell_type": "markdown",
      "source": [
        "**5. How can you access the methods and attributes of a parent class from a child class in Python? Give an example.**\n",
        "*\n",
        "In Python, you can access the methods and attributes of a parent class from a child class using the super() function. The super() function returns a proxy object that allows you to call methods and access attributes of the parent class within the context of the child class."
      ],
      "metadata": {
        "id": "7fQAXwLNWjNh"
      }
    },
    {
      "cell_type": "code",
      "source": [
        "class Parent:\n",
        "  def __init__(self):\n",
        "    self.parent_attribute = 'Parent attribute'\n",
        "  def parent_method(self):\n",
        "    return \"Parent method called\"\n",
        "\n",
        "class Child(Parent):\n",
        "  def __init__(self):\n",
        "    super().__init__()\n",
        "    self.child_attributes = \"Child attributes\"\n",
        "  def child_method(self):\n",
        "    return \"Child method called\"\n",
        "  def display_attributes(self):\n",
        "    print(\"Parent_Attribute\", super().parent_attribute)\n",
        "    print(\"Parent_method\", super().parent_method())\n",
        "obj = Child()\n",
        "obj.display_attributes()"
      ],
      "metadata": {
        "colab": {
          "base_uri": "https://localhost:8080/"
        },
        "id": "Svtg01CpXmWH",
        "outputId": "623803e7-3e41-4480-ea42-4ef67c17b20c"
      },
      "execution_count": null,
      "outputs": [
        {
          "output_type": "stream",
          "name": "stdout",
          "text": [
            "Parent_method Parent method called\n"
          ]
        }
      ]
    },
    {
      "cell_type": "markdown",
      "source": [
        "**6. Discuss the use of the `super()` function in Python inheritance. When and why is it used? Provide an example.**\n",
        "1. In Python, the super() function is used in the context of inheritance to access methods and attributes of the superclass (parent class) within the subclass (child class). It provides a way to call superclass methods and access superclass attributes, allowing for code reuse and facilitating method overriding and customization in subclasses.\n",
        "\n",
        "2. The super() function is particularly useful in scenarios where a subclass needs to extend or override the behavior of methods defined in the superclass while still leveraging the functionality provided by those methods. By using super(), you ensure that the method calls are resolved dynamically according to the method resolution order (MRO), which respects the class hierarchy and allows for cooperative multiple inheritance.\n",
        "\n",
        "\n",
        "*   Calling Superclass Constructors: In subclasses, you often need to initialize attributes inherited from the superclass along with subclass-specific attributes. You can use super() to call the constructor of the superclass within the constructor of the subclass.\n",
        "* Accessing Superclass Methods: Subclasses may need to extend or customize the behavior of methods defined in the superclass. super() allows you to access superclass methods and call them from within the subclass, facilitating method overriding and customization.\n",
        "* Cooperative Multiple Inheritance: When dealing with multiple inheritance, super() helps ensure that method calls are resolved in a consistent and predictable manner according to the MRO, avoiding conflicts and ambiguities.\n",
        "\n"
      ],
      "metadata": {
        "id": "Bc36vnKrbK_X"
      }
    },
    {
      "cell_type": "code",
      "source": [
        "class Animal:\n",
        "  def speak(self):\n",
        "    return 'Animal Speaks'\n",
        "class dog(Animal):\n",
        "  def barks(self):\n",
        "    return super().speak()\n",
        "\n",
        "obj1  = dog()\n",
        "obj1.barks()"
      ],
      "metadata": {
        "colab": {
          "base_uri": "https://localhost:8080/",
          "height": 35
        },
        "id": "Urz_3AyMcMP-",
        "outputId": "98112bb6-4cde-4750-8ad6-7a024a188800"
      },
      "execution_count": null,
      "outputs": [
        {
          "output_type": "execute_result",
          "data": {
            "text/plain": [
              "'Animal Speaks'"
            ],
            "application/vnd.google.colaboratory.intrinsic+json": {
              "type": "string"
            }
          },
          "metadata": {},
          "execution_count": 58
        }
      ]
    },
    {
      "cell_type": "markdown",
      "source": [
        "**7. Create a Python class called `Animal` with a method `speak()`. Then, create child classes `Dog` and `Cat`**"
      ],
      "metadata": {
        "id": "VvkxMIx7cxCn"
      }
    },
    {
      "cell_type": "code",
      "source": [
        "class Animal:\n",
        "  def speak(self):\n",
        "    return \"Animal Speak\"\n",
        "class Dog(Animal):\n",
        "  def bark(self):\n",
        "    return super().speak()\n",
        "class cat(Dog):\n",
        "  def mew(self):\n",
        "    return super().bark()\n",
        "\n",
        "obj1 = Dog()\n",
        "obj2 = cat()\n",
        "print(obj1.bark())\n",
        "print(obj2.mew())"
      ],
      "metadata": {
        "colab": {
          "base_uri": "https://localhost:8080/"
        },
        "id": "xAtHP5CZcnCi",
        "outputId": "e5847bf7-8e8b-40b9-97fc-5d62c08267a5"
      },
      "execution_count": null,
      "outputs": [
        {
          "output_type": "stream",
          "name": "stdout",
          "text": [
            "Animal Speak\n",
            "Animal Speak\n"
          ]
        }
      ]
    },
    {
      "cell_type": "markdown",
      "source": [
        "**8. Explain the role of the `isinstance()` function in Python and how it relates to inheritance.**\n",
        "1.\n",
        "The isinstance() function in Python is used to determine whether an object belongs to a specific class or is an instance of a subclass. It returns True if the object is an instance of the specified class or any of its subclasses, and False otherwise.\n",
        "\n",
        "2. The isinstance() function is particularly useful in scenarios involving inheritance, where you may want to perform different actions or apply different logic based on the type of object passed to a function or method. By using isinstance(), you can write code that is more flexible and adaptable to different types of objects, without having to explicitly check the type using type() or compare against class names.\n",
        "* Checking Object Type: You can use isinstance() to check whether an object belongs to a specific class or any of its subclasses. This allows you to handle objects polymorphically, treating them differently based on their type while still maintaining a common interface.\n",
        "* Handling Inheritance Hierarchies: Since isinstance() checks for inheritance relationships, it is aware of class hierarchies and can handle objects of subclasses transparently. This promotes code reuse and ensures that your code works correctly with objects of different types within the same inheritance hierarchy.\n",
        "* Dynamic Dispatch: isinstance() enables dynamic dispatch of methods based on the type of object passed to a function or method. This facilitates polymorphic behavior, where different methods may be invoked depending on the type of the object."
      ],
      "metadata": {
        "id": "_kgVPadaeCBi"
      }
    },
    {
      "cell_type": "markdown",
      "source": [
        "**9. What is the purpose of the `issubclass()` function in Python? Provide an example.**\n",
        "1.\n",
        "The issubclass() function in Python is used to determine whether a given class is a subclass of another class. It returns True if the first argument is a subclass of the second argument, or if they are the same class, and False otherwise. This function is particularly useful when you need to check the inheritance relationship between classes dynamically."
      ],
      "metadata": {
        "id": "S93uT5gafFyr"
      }
    },
    {
      "cell_type": "code",
      "source": [
        "class Area:\n",
        "  pass\n",
        "class Length(Area):\n",
        "  pass\n",
        "class Width(Area):\n",
        "  pass\n",
        "\n",
        "print(issubclass(Length, Area)  )\n",
        "\n",
        "print(issubclass(Width, Area)  )"
      ],
      "metadata": {
        "colab": {
          "base_uri": "https://localhost:8080/"
        },
        "id": "R17OaHYMd604",
        "outputId": "423bba91-e2cd-49c2-a278-e3514596d47d"
      },
      "execution_count": null,
      "outputs": [
        {
          "output_type": "stream",
          "name": "stdout",
          "text": [
            "True\n",
            "True\n"
          ]
        }
      ]
    },
    {
      "cell_type": "markdown",
      "source": [
        "**10. Discuss the concept of constructor inheritance in Python. How are constructors inherited in child classes?**\n",
        "1. In Python, constructors are inherited by child classes in a manner similar to other methods and attributes. When a child class is created, it automatically inherits the constructor (init method) of its parent class unless the child class explicitly defines its own constructor. If the child class does not define a constructor, it will use the constructor of the parent class.\n",
        "* Inheritance: When a child class is created, it inherits all the attributes, methods, and constructors from its parent class.\n",
        "* Constructor Inheritance: If the child class does not define its own constructor, it automatically inherits the constructor of its parent class. This means that the child class can initialize its attributes and perform any necessary setup using the parent class's constructor.\n",
        "* Custom Constructors: If the child class defines its own constructor, it can override the constructor of the parent class. However, the child class can still call the constructor of the parent class using the super() function to initialize attributes inherited from the parent class."
      ],
      "metadata": {
        "id": "h1ZFGgLRf9BM"
      }
    },
    {
      "cell_type": "code",
      "source": [
        "class Vehicle:\n",
        "  def __init__(self, color, speed):\n",
        "    self.color = color\n",
        "    self.speed = speed\n",
        "    self.seats = 5\n",
        "\n",
        "class Car(Vehicle):\n",
        "  def __init__(self, color, speed,brand):\n",
        "     super().__init__(color, speed)   # Call constructor of parent class\n",
        "     self.brand = brand\n",
        "  def car_info(self):\n",
        "    print(self.color)\n",
        "    print(self.speed)\n",
        "    print(self.brand)\n",
        "\n",
        "obj = Car('Red', 200, 'Hyundai')\n",
        "obj.car_info()"
      ],
      "metadata": {
        "colab": {
          "base_uri": "https://localhost:8080/"
        },
        "id": "NY91820nfz3c",
        "outputId": "8e7d04ce-1fa6-4d55-f75c-c1317e8af2ee"
      },
      "execution_count": null,
      "outputs": [
        {
          "output_type": "stream",
          "name": "stdout",
          "text": [
            "Red\n",
            "200\n",
            "Hyundai\n"
          ]
        }
      ]
    },
    {
      "cell_type": "markdown",
      "source": [
        "**11. Create a Python class called Shape with a method area() that calculates the area of a shape. Then, create child classes Circle and Rectangle that inherit from Shape and implement the area() method accordingly.Provide an example**"
      ],
      "metadata": {
        "id": "M2qTMhUYhB0Z"
      }
    },
    {
      "cell_type": "code",
      "source": [
        "import math\n",
        "class Shape:\n",
        "  def area(self):\n",
        "    pass\n",
        "\n",
        "class Circle(Shape):\n",
        "  def __init__(self,r):\n",
        "    self.radius = r\n",
        "  def area(self):\n",
        "    return math.pi*(self.radius^2)\n",
        "\n",
        "class Rectangle(Shape):\n",
        "  def __init__(self,Length, Width):\n",
        "    self.Length = Length\n",
        "    self.Width = Width\n",
        "  def area(self):\n",
        "    return self.Length * self.Width\n",
        "\n",
        "circle = Circle(5)\n",
        "rectangle = Rectangle(20,10)\n",
        "print('Area of the circle of radius - ',circle.radius, 'is', circle.area() )\n",
        "print('Area of the Rectangle is - ',rectangle.area() )\n"
      ],
      "metadata": {
        "colab": {
          "base_uri": "https://localhost:8080/"
        },
        "id": "2CQKToTShNo7",
        "outputId": "90c5bfb9-73b6-4898-fde0-380b40de9e34"
      },
      "execution_count": null,
      "outputs": [
        {
          "output_type": "stream",
          "name": "stdout",
          "text": [
            "Area of the circle of radius -  5 is 21.991148575128552\n",
            "Area of the Rectangle is -  200\n"
          ]
        }
      ]
    },
    {
      "cell_type": "markdown",
      "source": [
        "**13. How can you prevent a child class from modifying certain attributes or methods inherited from a parent class in Python?**\n",
        "* In Python, you can prevent a child class from modifying certain attributes or methods inherited from a parent class by using various techniques such as encapsulation, method overriding, and access control"
      ],
      "metadata": {
        "id": "tlubVaQ-vCTi"
      }
    },
    {
      "cell_type": "markdown",
      "source": [
        "\n",
        "1. Encapsulation: Encapsulate the attributes and methods you want to protect by making them private or using properties."
      ],
      "metadata": {
        "id": "B4cfpODsvv72"
      }
    },
    {
      "cell_type": "code",
      "source": [
        "class parent:\n",
        "  def __init__(self):\n",
        "    self.__attribute = 'Protected'\n",
        "  def __method(self):\n",
        "    print('Protected Method')\n",
        "\n",
        "class child(parent):\n",
        "  pass\n",
        "\n",
        "# Trying to access or modify the protected attribute or method will raise an AttributeError\n",
        "# Child = child()\n",
        "# Child.__attribute()"
      ],
      "metadata": {
        "id": "IaFSa5_6joZ5"
      },
      "execution_count": null,
      "outputs": []
    },
    {
      "cell_type": "markdown",
      "source": [
        "2. Method overriding: Override the methods in the child class and raise an exception if they attempt to modify the protected attributes or call protected methods."
      ],
      "metadata": {
        "id": "knNPv47Hw7IA"
      }
    },
    {
      "cell_type": "code",
      "source": [
        "class Parent:\n",
        "  def __init__(self):\n",
        "    self._attribute = 'Protected veriable'\n",
        "  def _method(self):\n",
        "    print('Protected method')\n",
        "\n",
        "class Child(Parent):\n",
        "  def _method(self):\n",
        "    raise NotImplementedError(\"Method _method cannot be modified in Child class\")\n",
        "  def modify_attribute(self):\n",
        "    self._attribute = \"modified\"   # You can choose to allow or disallow this\n",
        "    return self.modify_attribute\n",
        "child = Child()\n",
        "child.modify_attribute\n",
        "child._method()\n"
      ],
      "metadata": {
        "colab": {
          "base_uri": "https://localhost:8080/",
          "height": 103
        },
        "id": "oqlrt_6swjf2",
        "outputId": "e9e53271-3b86-4c56-d745-a3a4ab75383e"
      },
      "execution_count": null,
      "outputs": [
        {
          "output_type": "execute_result",
          "data": {
            "text/plain": [
              "<bound method Child.modify_attribute of <__main__.Child object at 0x7857d26d6f50>>"
            ],
            "text/html": [
              "<div style=\"max-width:800px; border: 1px solid var(--colab-border-color);\"><style>\n",
              "      pre.function-repr-contents {\n",
              "        overflow-x: auto;\n",
              "        padding: 8px 12px;\n",
              "        max-height: 500px;\n",
              "      }\n",
              "\n",
              "      pre.function-repr-contents.function-repr-contents-collapsed {\n",
              "        cursor: pointer;\n",
              "        max-height: 100px;\n",
              "      }\n",
              "    </style>\n",
              "    <pre style=\"white-space: initial; background:\n",
              "         var(--colab-secondary-surface-color); padding: 8px 12px;\n",
              "         border-bottom: 1px solid var(--colab-border-color);\"><b>Child.modify_attribute</b><br/>def modify_attribute()</pre><pre class=\"function-repr-contents function-repr-contents-collapsed\" style=\"\"><a class=\"filepath\" style=\"display:none\" href=\"#\">/content/&lt;ipython-input-9-3b4484dc07cd&gt;</a>&lt;no docstring&gt;</pre></div>"
            ]
          },
          "metadata": {},
          "execution_count": 9
        }
      ]
    },
    {
      "cell_type": "markdown",
      "source": [
        "3. Access control: Use access modifiers such as @property and @staticmethod to control access to attributes and methods."
      ],
      "metadata": {
        "id": "WpeYB8tszhsG"
      }
    },
    {
      "cell_type": "code",
      "source": [
        "class Parent:\n",
        "  def __init__(self):\n",
        "    self._attribute = \"Protected\"\n",
        "\n",
        "  @property\n",
        "  def attribute(self):\n",
        "    return self._attribute\n",
        "  def method(self):\n",
        "    print(\"Protected method\")\n",
        "\n",
        "class Child(Parent):\n",
        "  def method(self):\n",
        "    raise NotImplementedError(\"Method method() cannot be modified in Child class\")\n",
        "child = Child()\n",
        "# Trying to call the modified method will raise NotImplementedError\n",
        "# child.method()\n",
        "# Accessing the protected attribute\n",
        "print(child.attribute)"
      ],
      "metadata": {
        "colab": {
          "base_uri": "https://localhost:8080/"
        },
        "id": "b-rSr2-tzqK9",
        "outputId": "bbcb4fce-e0c7-4e0e-fa16-f857b7b36a36"
      },
      "execution_count": null,
      "outputs": [
        {
          "output_type": "stream",
          "name": "stdout",
          "text": [
            "Protected\n"
          ]
        }
      ]
    },
    {
      "cell_type": "markdown",
      "source": [
        "**14. Create a Python class called `Employee` with attributes `name` and `salary`. Then, create a child class `Manager` that inherits from `Employee` and adds an attribute `department`. Provide an example.**"
      ],
      "metadata": {
        "id": "AehSHL343CZ3"
      }
    },
    {
      "cell_type": "code",
      "source": [
        "class Employee:\n",
        "  def __init__(self, name, salary):\n",
        "    self.name = name\n",
        "    self.salary = salary\n",
        "\n",
        "class Manager(Employee):\n",
        "\n",
        "  def __init__(self, name, salary, department):\n",
        "    super().__init__(name,salary)\n",
        "    self.department = department\n",
        "\n",
        "  def Employee_info(self):\n",
        "    print('Name', self.name)\n",
        "    print('Salary', self.salary)\n",
        "    print('department', self.department)\n",
        "\n",
        "manager = Manager('Ram',50000, 'Data Science')\n",
        "manager.Employee_info()\n"
      ],
      "metadata": {
        "colab": {
          "base_uri": "https://localhost:8080/"
        },
        "id": "dqtg9YGL3Bw9",
        "outputId": "42c7afa8-fb70-4efe-9b02-c5ee3fa524ef"
      },
      "execution_count": null,
      "outputs": [
        {
          "output_type": "stream",
          "name": "stdout",
          "text": [
            "Name Ram\n",
            "Salary 50000\n",
            "department Data Science\n"
          ]
        }
      ]
    },
    {
      "cell_type": "markdown",
      "source": [
        "**15. Discuss the concept of method overloading in Python inheritance. How does it differ from method overriding?**\n",
        "*\n",
        "Method overloading and method overriding are both concepts in object-oriented programming (OOP) that involve the redefinition of methods, but they serve different purposes and are used in different contexts.\n",
        "1. Method Overloading:Method overloading refers to defining multiple methods in a class with the same name but different signatures (i.e., different number or type of parameters). In some programming languages like Java or C++, method overloading is supported directly. However, in Python, method overloading is not directly supported because Python does not support function/method overloading based on different parameter signatures as in statically typed languages.Instead, in Python, you can achieve a form of method overloading using default parameter values or variable-length argument lists (e.g., *args, **kwargs). You can define a single method and handle different argument combinations within that method.\n",
        "2. Method Overriding:Method overriding, on the other hand, occurs when a subclass provides a specific implementation of a method that is already defined in its superclass. The method in the subclass has the same name and signature as the method in the superclass. Method overriding is commonly used for achieving polymorphism and implementing specific behavior for a subclass.In Python, method overriding is straightforward, as it simply involves defining a method with the same name in the subclass as in the superclass. The method in the subclass overrides the method in the superclass."
      ],
      "metadata": {
        "id": "jachaxOK5fU3"
      }
    },
    {
      "cell_type": "code",
      "source": [
        "# Method Over loading\n",
        "class Calculator:\n",
        "  def add(self,a,b=0):\n",
        "    return a+b\n",
        "calc = Calculator()\n",
        "print(calc.add(3,4))\n",
        "print(calc.add(5))"
      ],
      "metadata": {
        "colab": {
          "base_uri": "https://localhost:8080/"
        },
        "id": "TTxZxhvu4OKF",
        "outputId": "2c8e13fa-67e9-43fd-e610-34d654e50c5a"
      },
      "execution_count": null,
      "outputs": [
        {
          "output_type": "stream",
          "name": "stdout",
          "text": [
            "7\n",
            "5\n"
          ]
        }
      ]
    },
    {
      "cell_type": "code",
      "source": [
        "# Method Over riding\n",
        "class Animal:\n",
        "  def speak(self):\n",
        "    print('Animal speaks')\n",
        "class Dog:\n",
        "  def speak(self):\n",
        "    print('Dog barks')\n",
        "animal = Animal()\n",
        "animal.speak()\n",
        "dog = Dog()\n",
        "dog.speak()\n"
      ],
      "metadata": {
        "colab": {
          "base_uri": "https://localhost:8080/"
        },
        "id": "P7n3yfKw78WP",
        "outputId": "acc0b1ce-fab7-4a2e-f5fb-83f5b9b8ae08"
      },
      "execution_count": null,
      "outputs": [
        {
          "output_type": "stream",
          "name": "stdout",
          "text": [
            "Animal speaks\n",
            "Dog barks\n"
          ]
        }
      ]
    },
    {
      "cell_type": "markdown",
      "source": [
        "**16. Explain the purpose of the `__init__()` method in Python inheritance and how it is utilized in child classes.**\n",
        "*\n",
        "The __init__() method in Python is a special method, also known as a constructor, that is automatically called when a new instance of a class is created. It is typically used to initialize the object's attributes and perform any necessary setup tasks. In the context of inheritance, the __init__() method plays a crucial role in initializing instances of both the parent and child classes.\n",
        "* Utilization\n",
        "1. Initialization of Parent Class:In a child class, if the __init__() method is defined, it should typically call the __init__() method of its parent class explicitly using the super() function. This ensures that the initialization code defined in the parent class is executed before any additional initialization tasks specific to the child class are performed.\n",
        "2. Initialization of Child Class:Within the __init__() method of the child class, you can initialize any additional attributes specific to the child class. These attributes can be defined after calling super().__init__() to ensure that the parent class's initialization is completed first.\n",
        "3. Passing Arguments:When creating an instance of a child class, you need to provide arguments for both the parent class's __init__() method and the child class's __init__() method if they require any parameters.\n",
        "4. Inheritance of Attributes:By calling the parent class's __init__() method in the child class, any attributes defined in the parent class's __init__() method are inherited by instances of the child class. This ensures that the child class has access to all attributes defined in the parent class."
      ],
      "metadata": {
        "id": "k7d1wmLoASGp"
      }
    },
    {
      "cell_type": "markdown",
      "source": [
        "**17. Create a Python class called `Bird` with a method `fly()`. Then, create child classes `Eagle` and `Sparrow` that inherit from `Bird` and implement the `fly()` method differently. Provide an example of using these classes.**"
      ],
      "metadata": {
        "id": "CXTueku9B-W6"
      }
    },
    {
      "cell_type": "code",
      "source": [
        "class Bird:\n",
        "  def fly(self):\n",
        "    print(\"Bird fly\")\n",
        "class Eagle(Bird):\n",
        "  def fly(self):\n",
        "    print(\"Eagle fly\")\n",
        "class Sparrow(Bird):\n",
        "  def fly(self):\n",
        "    print(\"Sparrow fly\")\n",
        "\n",
        "eagle = Eagle()\n",
        "eagle.fly()\n",
        "sparrow = Sparrow()\n",
        "sparrow.fly()"
      ],
      "metadata": {
        "colab": {
          "base_uri": "https://localhost:8080/"
        },
        "id": "NJsHX9Uy8_nh",
        "outputId": "e37ff4e8-aea0-408b-e3ea-b21fad1169c6"
      },
      "execution_count": null,
      "outputs": [
        {
          "output_type": "stream",
          "name": "stdout",
          "text": [
            "Eagle fly\n",
            "Sparrow fly\n"
          ]
        }
      ]
    },
    {
      "cell_type": "markdown",
      "source": [
        "**18. What is the \"diamond problem\" in multiple inheritance, and how does Python address it?**\n",
        "1. The \"diamond problem\" is a common issue that arises in languages that support multiple inheritance, where a class inherits from two or more classes that have a common ancestor. This problem gets its name from the inheritance diagram, which resembles a diamond shape.\n",
        "2. Python addresses the diamond problem using a mechanism called \"method resolution order\" (MRO). Python's MRO algorithm determines the order in which methods are inherited from parent classes. Python uses the C3 linearization algorithm to compute the MRO, which ensures that classes are traversed in a consistent and predictable order.\n",
        "3. To address the diamond problem, Python's MRO algorithm follows these rules:\n",
        "\n",
        "* Depth-First Search: It first visits the parents of a class in the order they are listed in the class definition.\n",
        "* Left-to-Right: When multiple parents are specified, it follows a left-to-right ordering.\n",
        "* Elimination of Duplicates: It eliminates duplicate visits to the same class by removing them from subsequent paths."
      ],
      "metadata": {
        "id": "ForcDweAGrhH"
      }
    },
    {
      "cell_type": "markdown",
      "source": [
        "* Explaination fo Dimand problem\n",
        "1. In this hierarchy, classes B and C inherit from class A, and class D inherits from both B and C. Now, if there's a method or attribute defined in class A, and both B and C override that method or attribute, then which implementation should class D inherit?\n",
        "\n",
        "2. The diamond problem occurs because the inheritance path from class A to class D is ambiguous. It's unclear whether class D should inherit the method/attribute from class B or from class C, or if it should merge the implementations from both B and C, potentially leading to conflicts."
      ],
      "metadata": {
        "id": "lmopD9jTJKN1"
      }
    },
    {
      "cell_type": "code",
      "source": [
        "# Dimand problme diagram\n",
        "    A\n",
        "   / \\\n",
        "  B   C\n",
        "   \\ /\n",
        "    D\n"
      ],
      "metadata": {
        "id": "yLXNbs-0Fqrg"
      },
      "execution_count": null,
      "outputs": []
    },
    {
      "cell_type": "markdown",
      "source": [
        "**19. Discuss the concept of \"is-a\" and \"has-a\" relationships in inheritance, and provide examples of each.**\n",
        "1. \"Is-a\" Relationship:An \"is-a\" relationship, also known as an inheritance or specialization relationship, implies that one class is a subtype of another. It signifies that an object of one class is a specialized version of an object of another class. Inheritance is the mechanism used to represent \"is-a\" relationships in object-oriented programming\n",
        "\n",
        "2. \"Has-a\" Relationship:A \"has-a\" relationship implies that one class has another class as a part of its data or functionality. It signifies that an object of one class contains or uses an object of another class. Composition or aggregation is commonly used to represent \"has-a\" relationships in object-oriented programming\n",
        "\n"
      ],
      "metadata": {
        "id": "M3KPmjL7I9w2"
      }
    },
    {
      "cell_type": "markdown",
      "source": [
        "\"Is-a\" Relationship Example\n",
        "* Here, Dog and Cat are both types of Animal, so they have an \"is-a\" relationship with the Animal class."
      ],
      "metadata": {
        "id": "cUqG_yuRWIYv"
      }
    },
    {
      "cell_type": "code",
      "source": [
        "class Animal:\n",
        "    def speak(self):\n",
        "        pass\n",
        "\n",
        "class Dog(Animal):\n",
        "    def speak(self):\n",
        "        return \"Woof!\"\n",
        "\n",
        "class Cat(Animal):\n",
        "    def speak(self):\n",
        "        return \"Meow!\"\n"
      ],
      "metadata": {
        "id": "QuwGdNuuKW5B"
      },
      "execution_count": null,
      "outputs": []
    },
    {
      "cell_type": "markdown",
      "source": [
        "\"Has-a\" Relationship Example\n",
        "* Here, the Car class contains an Engine object as one of its attributes, establishing a \"has-a\" relationship between Car and Engine."
      ],
      "metadata": {
        "id": "1vfVRHgVKWPr"
      }
    },
    {
      "cell_type": "code",
      "source": [
        "class Engine:\n",
        "    def start(self):\n",
        "        return \"Engine started\"\n",
        "\n",
        "class Car:\n",
        "    def __init__(self):\n",
        "        self.engine = Engine()\n",
        "\n",
        "    def start_engine(self):\n",
        "        return self.engine.start()\n"
      ],
      "metadata": {
        "id": "u_FV4_NwWev4"
      },
      "execution_count": null,
      "outputs": []
    },
    {
      "cell_type": "markdown",
      "source": [
        "**20. Create a Python class hierarchy for a university system. Start with a base class `Person` and create child classes `Student` and `Professor`,each with their own attributes and methods. Provide an example of using these classes in a university context.**"
      ],
      "metadata": {
        "id": "qI3Q2i5PXSJY"
      }
    },
    {
      "cell_type": "code",
      "source": [
        "class Person:\n",
        "  def __init__(self,name, age):\n",
        "    self.name = name\n",
        "    self.age = age\n",
        "  def __str__(self):\n",
        "    return f\"Name : {self.name}, Age : {self.age}\"\n",
        "\n",
        "class Student(Person):\n",
        "  def __init__(self,name,age,student_id):\n",
        "    super().__init__(name, age)\n",
        "    self.student_id = student_id\n",
        "  def study(self):\n",
        "    return f\"{self.name} is studying\"\n",
        "\n",
        "class Professor(Person):\n",
        "  def __init__(self,name,age,employee_id, department):\n",
        "    super().__init__(name,age)\n",
        "    self.employee_id = employee_id\n",
        "    self.department = department\n",
        "  def teach(self):\n",
        "    return f\"{self.name} is teaching  \"\n",
        "\n",
        "student1 = Student('Aditya', 30, 'S101')\n",
        "professor1 = Professor('Dr.Rajaram', 52, 'E3345','Computer_Science')\n",
        "\n",
        "# Student details\n",
        "print(student1)\n",
        "# Prfessor details\n",
        "print(professor1)\n",
        "# Student activity\n",
        "print(student1.study())\n",
        "#Professor Activity\n",
        "print(professor1.teach())"
      ],
      "metadata": {
        "colab": {
          "base_uri": "https://localhost:8080/"
        },
        "id": "OIS7xo6KXXNK",
        "outputId": "d6669379-9bbd-4b58-8cc1-08cf668291bb"
      },
      "execution_count": null,
      "outputs": [
        {
          "output_type": "stream",
          "name": "stdout",
          "text": [
            "Name : Aditya, Age : 30\n",
            "Name : Dr.Rajaram, Age : 52\n",
            "Aditya is studying\n",
            "Dr.Rajaram is teaching  \n"
          ]
        }
      ]
    },
    {
      "cell_type": "markdown",
      "source": [
        "# Encapsulation"
      ],
      "metadata": {
        "id": "YAqxOKt1iE47"
      }
    },
    {
      "cell_type": "markdown",
      "source": [
        "**1. Explain the concept of encapsulation in Python. What is its role in object-oriented programming?**\n",
        "* Encapsulation is one of the fundamental principles of object-oriented programming (OOP) and is often described as the bundling of data and methods that operate on the data into a single unit or class. In Python, encapsulation is implemented using classes and access modifiers like **public, private, and protected**.\n",
        "1. **Data Hiding: Encapsulation** allows you to hide the internal state of an object from the outside world. This means that the implementation details of a class are hidden and cannot be accessed directly from outside the class.\n",
        "2. **Access Control**: By using access modifiers such as public, private, and protected, you can control the visibility of class members. In Python, attributes and methods can be marked as public, private, or protected using naming conventions and property decorators.\n",
        "3. **Preventing Unauthorized Access**: Encapsulation helps in preventing unauthorized access to the internal state of an object. Private members of a class can only be accessed within the class itself, not from outside."
      ],
      "metadata": {
        "id": "iuwAVISOiRFd"
      }
    },
    {
      "cell_type": "markdown",
      "source": [
        "**2. Describe the key principles of encapsulation, including access control and data hiding.**\n",
        "**1. Data Hiding**\n",
        "* Data hiding is the concept of restricting direct access to certain members (attributes or methods) of a class from outside the class definition.\n",
        "* In Python, data hiding is conventionally implemented using a naming convention with underscores **(e.g., _attribute or __attribute) and property decorators such as @property.**\n",
        "* The purpose of data hiding is to protect the internal state of an object from being modified in unexpected ways, which helps maintain data integrity and prevents unintended side effects.\n",
        "**2. Access Control**\n",
        "* Access control is typically implemented using access modifiers, which specify the visibility and accessibility of class members\n",
        "* **Public:** Public members are accessible from outside the class and can be freely accessed and modified.\n",
        "* **Private:**Private members are only accessible within the class itself and cannot be directly accessed or modified from outside the class.\n",
        "* **Protected:** Protected members are accessible within the class itself and by its subclasses (derived classes), but not from outside the class hierarchy."
      ],
      "metadata": {
        "id": "3_OXMLBKjuVf"
      }
    },
    {
      "cell_type": "markdown",
      "source": [
        "**3. How can you achieve encapsulation in Python classes? Provide an example.**"
      ],
      "metadata": {
        "id": "vMom1U9tmJ5P"
      }
    },
    {
      "cell_type": "code",
      "source": [
        "class BankAccount:\n",
        "  def __init__(self,account_number, balance):\n",
        "    self._account_number = account_number # private attribute\n",
        "    self._balance = balance # private attribute\n",
        "\n",
        "  # Getter method for account number\n",
        "  @property\n",
        "  def account_number(self):\n",
        "    return self._account_number\n",
        "  # Getter method for balance\n",
        "  @property\n",
        "  def balance(self):\n",
        "    return self._balance\n",
        "\n",
        "   # Method to deposit money\n",
        "  def deposit(self,amount):\n",
        "    if amount >0:\n",
        "      self._balance +=amount\n",
        "      print(f\"Deposited Rs{amount}. New balance: Rs{self._balance}\")\n",
        "    else:\n",
        "      print('Invalid deposit amount')\n",
        "   # Method to withdraw money\n",
        "  def withdraw(self,amount):\n",
        "    if 0 < amount <= self._balance:\n",
        "      self._balance -= amount\n",
        "      print(f\"Withdrew Rs{amount}. New balance : Rs{self._balance}\")\n",
        "    else:\n",
        "      print(\"Insufficient funds or invalide withdrawal amount\")\n",
        "\n",
        "account1 = BankAccount(\"123456789\", 10000)\n",
        "print('Account number :', account1._account_number)\n",
        "print('Balance :', account1._balance)\n",
        "# Accessing attributes using getter methods\n",
        "print('Account number :', account1.account_number)\n",
        "print('Balance :', account1.balance)\n",
        "# Deposite and withdraw money\n",
        "account1.deposit(5000)\n",
        "account1.withdraw(10000)"
      ],
      "metadata": {
        "colab": {
          "base_uri": "https://localhost:8080/"
        },
        "id": "CuN8cpEHmynz",
        "outputId": "82bb926d-a2cc-4032-998a-53fe3ca0d153"
      },
      "execution_count": null,
      "outputs": [
        {
          "output_type": "stream",
          "name": "stdout",
          "text": [
            "Account number : 123456789\n",
            "Balance : 10000\n",
            "Account number : 123456789\n",
            "Balance : 10000\n",
            "Deposited Rs5000. New balance: Rs15000\n",
            "Withdrew Rs10000. New balance : Rs5000\n"
          ]
        }
      ]
    },
    {
      "cell_type": "markdown",
      "source": [
        "**4. Discuss the difference between public, private, and protected access modifiers in Python.**\n",
        "1. Public: Accessible from anywhere, inside or outside the class.\n",
        "* In Python, all class members are public by default unless explicitly marked as private or protected.\n",
        "2. Private: Accessible only within the class where they are defined, indicated by double underscores  \"__\".\n",
        "3. Protected: Accessible within the class and its subclasses, indicated by a single underscore \"_\"."
      ],
      "metadata": {
        "id": "DHqjF00QrXIL"
      }
    },
    {
      "cell_type": "markdown",
      "source": [
        "**5. Create a Python class called `Person` with a private attribute `__name`. Provide methods to get and set the name attribute.**"
      ],
      "metadata": {
        "id": "oiUP2q83scYv"
      }
    },
    {
      "cell_type": "code",
      "source": [
        "class Person:\n",
        "  def __init__(self,name):\n",
        "    self.__name = name\n",
        "\n",
        "  #getter method to get the name variable\n",
        "  def get_name(self):\n",
        "    return f\"Name is : {self.__name}\"\n",
        "  # setter method to set the name variable\n",
        "  def set_name(self,new_name):\n",
        "    self.__name = new_name\n",
        "    return f\"New name : {self.__name}\"\n",
        "\n",
        "person = Person('Ramcharan')\n",
        "print(person.get_name())\n",
        "print(person.set_name('David'))"
      ],
      "metadata": {
        "id": "PHcup9pubgEx",
        "colab": {
          "base_uri": "https://localhost:8080/"
        },
        "outputId": "4c68a633-9bcd-49b8-c24b-9f0df0823c8d"
      },
      "execution_count": null,
      "outputs": [
        {
          "output_type": "stream",
          "name": "stdout",
          "text": [
            "Name is : Ramcharan\n",
            "New name : David\n"
          ]
        }
      ]
    },
    {
      "cell_type": "markdown",
      "source": [
        "**6. Explain the purpose of getter and setter methods in encapsulation. Provide examples.**\n",
        "1. Encapsulation aims to bundle data and methods that operate on that data within a single unit, known as a class. Getter and setter methods help achieve encapsulation by controlling access to the class's private attributes.\n",
        "* Encapsulation: By making attributes private and providing getter and setter methods to access and modify those attributes, encapsulation hides the internal state of an object. This prevents direct access to the object's data from outside the class, reducing the risk of unintended modifications and ensuring data integrity.\n",
        "* Controlled Access: Getter and setter methods allow the class designer to control how the attributes are accessed and modified. They can implement validation, error checking, or other logic to ensure that the data remains consistent and valid.\n",
        "* Flexibility: With getter and setter methods, the internal representation of the data can be changed without affecting the external interface of the class. This flexibility enables the class designer to make modifications to the class's implementation without impacting the code that uses the class."
      ],
      "metadata": {
        "id": "6hBAE6gPD04U"
      }
    },
    {
      "cell_type": "code",
      "source": [
        "class Person:\n",
        "  def __init__(self,name,age):\n",
        "    self._name = name\n",
        "    self._age = age\n",
        "\n",
        "  def get_name(self):\n",
        "    return self._name\n",
        "  def set_name(self, new_name):\n",
        "    self._name = new_name\n",
        "    return self._name\n",
        "\n",
        "  def get_age(self):\n",
        "    return self._age\n",
        "  def set_age(self, new_age):\n",
        "    self._age = new_age\n",
        "    return self._age\n",
        "\n",
        "person=Person('Devid',50)\n",
        "print(person.get_name())\n",
        "print(person.set_name('Suriya'))"
      ],
      "metadata": {
        "id": "3YUM8dr6ttUS",
        "colab": {
          "base_uri": "https://localhost:8080/"
        },
        "outputId": "13114543-2775-4e13-fe06-a5439f3cb02a"
      },
      "execution_count": null,
      "outputs": [
        {
          "output_type": "stream",
          "name": "stdout",
          "text": [
            "Devid\n",
            "Suriya\n"
          ]
        }
      ]
    },
    {
      "cell_type": "markdown",
      "source": [
        "**7. What is name mangling in Python, and how does it affect encapsulation?**\n",
        "\n",
        "1. Name mangling is a mechanism in Python that transforms the name of a class attribute or method prefixed with at least two underscores (__) but not ending with two or more underscores. Python internally changes the name of the attribute or method to include the class name, thereby making it harder to access or override unintentionally from outside the class. This feature is primarily used to create class-local variables or methods that are not meant to be accessed directly from outside the class.\n",
        "\n",
        "2. Name mangling affects encapsulation by providing a way to enforce stronger encapsulation of class attributes and methods. It ensures that attributes and methods marked with a double underscore prefix are effectively private to the class, making it more difficult for external code to access or modify them directly."
      ],
      "metadata": {
        "id": "3fwh4sIsGqJ-"
      }
    },
    {
      "cell_type": "markdown",
      "source": [
        "**8. Create a Python class called `BankAccount` with private attributes for the account balance (`__balance`) and account number (`__account_number`). Provide methods for depositing and withdrawing money.**"
      ],
      "metadata": {
        "id": "cCXg0DPAKwjp"
      }
    },
    {
      "cell_type": "code",
      "source": [
        "class BankAccount:\n",
        "  def __init__(self,account_number, balance):\n",
        "    self.__account_number = account_number\n",
        "    self.__balance = balance\n",
        "  def deposit(self,amount):\n",
        "    self.__balance += amount\n",
        "    return f\"Your current balance is : Rs {self.__balance}\"\n",
        "  def withdraw(self,amount):\n",
        "    self.__balance -= amount\n",
        "    return f\"Your current balance is : Rs {self.__balance}\"\n",
        "\n",
        "bankaccount = BankAccount(123456789, 10000)\n",
        "bankaccount.withdraw(1000)"
      ],
      "metadata": {
        "id": "ACUmzA7UGeBs"
      },
      "execution_count": null,
      "outputs": []
    },
    {
      "cell_type": "markdown",
      "source": [
        "**9. Discuss the advantages of encapsulation in terms of code maintainability and security.**\n",
        "\n",
        "**1. Modularity:** Encapsulation allows you to design classes with clear boundaries, where each class encapsulates a specific set of functionalities. This modular approach makes the codebase more organized and easier to understand, maintain, and extend. Developers can work on individual classes or modules without worrying about the internal implementation details of other parts of the system.\n",
        "Code Reusability: Encapsulation promotes code reuse by encapsulating related data and behaviors within a class. Once encapsulated, these components can be reused in different parts of the application without modification. This reduces redundancy and promotes a DRY (Don't Repeat Yourself) coding style, which simplifies maintenance and reduces the likelihood of errors.\n",
        "**2. Data Integrity and Consistency:** By encapsulating data within classes and providing controlled access through methods (getters and setters), encapsulation helps maintain data integrity and consistency. It allows you to enforce constraints, validation rules, and business logic, ensuring that data is always in a valid state. This reduces the risk of bugs caused by inconsistent or invalid data.\n",
        "**3. Security:** Encapsulation enhances security by hiding the internal implementation details of a class and exposing only the necessary interface to interact with it. By making attributes private and providing controlled access through methods, encapsulation prevents unauthorized access or modification of sensitive data. This reduces the risk of security vulnerabilities such as data tampering, injection attacks, or unintended data exposure.\n",
        "**4. Code Evolution:** Encapsulation facilitates code evolution and maintenance by decoupling the implementation details from the external interface of a class. This means that you can change the internal implementation of a class without affecting the code that uses it, as long as the external interface remains unchanged. Encapsulation allows you to refactor, optimize, or extend the codebase more easily, reducing the risk of introducing regressions or breaking existing functionality."
      ],
      "metadata": {
        "id": "6SN3e0l0Mk8-"
      }
    },
    {
      "cell_type": "markdown",
      "source": [
        "**10. How can you access private attributes in Python? Provide an example demonstrating the use of name mangling**"
      ],
      "metadata": {
        "id": "vImr0X0ANbkl"
      }
    },
    {
      "cell_type": "code",
      "source": [
        "class BankAccount:\n",
        "  def __init__(self,account_number, balance):\n",
        "    self.__account_number = account_number\n",
        "    self.__balance = balance\n",
        "\n",
        "bankaccount = BankAccount(123456789, 10000)\n",
        "\n",
        "print(bankaccount._BankAccount__account_number )\n",
        "print(bankaccount._BankAccount__balance )"
      ],
      "metadata": {
        "colab": {
          "base_uri": "https://localhost:8080/"
        },
        "id": "AblCdrZJMAGA",
        "outputId": "850bf3fe-901b-4f1e-c65c-7840813020f5"
      },
      "execution_count": null,
      "outputs": [
        {
          "output_type": "stream",
          "name": "stdout",
          "text": [
            "123456789\n",
            "10000\n"
          ]
        }
      ]
    },
    {
      "cell_type": "markdown",
      "source": [
        "**11. Create a Python class hierarchy for a school system, including classes for students, teachers, and courses, and implement encapsulation principles to protect sensitive information.**"
      ],
      "metadata": {
        "id": "75S2ffZJOkH9"
      }
    },
    {
      "cell_type": "code",
      "source": [
        "class Person:\n",
        "  def __init__(self,name,age):\n",
        "    self._name = name\n",
        "    self._age = age\n",
        "\n",
        "  def get_name(self):\n",
        "    return self._name\n",
        "  def set_name(self, new_name):\n",
        "    self._name = new_name\n",
        "    return self._name\n",
        "\n",
        "  def get_age(self):\n",
        "    return self._age\n",
        "  def set_age(self, new_age):\n",
        "    if new_age>=0:\n",
        "      self._age = new_age\n",
        "      return self._age\n",
        "    else:\n",
        "      return 'Age cannot be negative'\n",
        "\n",
        "class Student(Person):\n",
        "  def __init__(self,name,age,student_id):\n",
        "    super().__init__(name,age)\n",
        "    self._student_id = student_id\n",
        "  def get_student_id(self):\n",
        "    return   self._student_id\n",
        "  def set_student_id(self,new_student_id):\n",
        "      self._student_id = new_student_id\n",
        "\n",
        "class Teacher(Person):\n",
        "  def __init__(self,name,age,employee_id):\n",
        "    super().__init__(name,age)\n",
        "    self._employee_id = employee_id\n",
        "\n",
        "  def get_employee_id(self):\n",
        "    return self._employee_id\n",
        "  def set_employee_id(self, new_employee_id):\n",
        "    self._employee_id = new_employee_id\n",
        "    return self._employee_id\n",
        "\n",
        "class Course:\n",
        "  def __init__(self, course_name, course_code, teacher, students = None):\n",
        "    self._course_name = course_name\n",
        "    self._course_code = course_code\n",
        "    self._teacher = teacher\n",
        "    self._students = students if students else []\n",
        "  def get_course_name(self):\n",
        "    return self._course_name\n",
        "  def set_course_name(self, new_course_name):\n",
        "    self._course_name = new_course_name\n",
        "    return self._course_name\n",
        "\n",
        "  def get_course_code(self):\n",
        "    return self._course_code\n",
        "  def set_course_code(self, new_course_code):\n",
        "    self._course_code = new_course_code\n",
        "    return self._course_code\n",
        "\n",
        "  def get_teacher(self):\n",
        "    return self._teacher\n",
        "  def set_teacher(self, new_teacher):\n",
        "    self._teacher = new_teacher\n",
        "    return self._teacher\n",
        "  def add_student(self,student):\n",
        "    return  self._students.append(student)\n",
        "  def remove_student(self,student):\n",
        "    if student in self._students:\n",
        "      self._students.remove(student)\n",
        "\n",
        "teacher = Teacher(\"Sudhanshu\", 40, \"T001\")\n",
        "student1 = Student(\"Ajay\", 18, \"S001\")\n",
        "student2 = Student(\"Priya\", 17, \"S002\")\n",
        "\n",
        "course = Course(\"DSA\", \"DSA101\", teacher, [student1, student2])\n",
        "\n",
        "print(course.get_course_name())\n",
        "print(course.get_course_code())\n",
        "print(course.get_teacher().get_name())\n"
      ],
      "metadata": {
        "colab": {
          "base_uri": "https://localhost:8080/"
        },
        "id": "i0b3uszzMO5T",
        "outputId": "f5b589c3-ab34-4ac2-cfc0-08762e2e0531"
      },
      "execution_count": null,
      "outputs": [
        {
          "output_type": "stream",
          "name": "stdout",
          "text": [
            "DSA\n",
            "DSA101\n",
            "Sudhanshu\n"
          ]
        }
      ]
    },
    {
      "cell_type": "markdown",
      "source": [
        "**12. Explain the concept of property decorators in Python and how they relate to encapsulation.**\n",
        "1.\n",
        "In Python, property decorators are a way to define special methods that allow you to control attribute access, enabling encapsulation within classes. They provide a more elegant and Pythonic way to implement getter and setter methods for class attributes.\n",
        "\n",
        "2. The property decorator allows you to define methods that behave like attributes, enabling you to access and modify class attributes using dot notation (object.attribute). Behind the scenes, property decorators are descriptors, which are objects that define how attribute access is handled."
      ],
      "metadata": {
        "id": "jdGIov3pVnd6"
      }
    },
    {
      "cell_type": "code",
      "source": [
        "class MyClass:\n",
        "    def __init__(self):\n",
        "        self._x = 0\n",
        "    @property\n",
        "    def x(self):\n",
        "        return self._x\n",
        "    @x.setter\n",
        "    def x(self, value):\n",
        "        self._x = value\n",
        "    @x.deleter\n",
        "    def x(self):\n",
        "        del self._x\n",
        "\n",
        "obj = MyClass()\n",
        "obj.x = 10\n",
        "print(obj.x)\n",
        "\n",
        "del obj.x\n",
        "print(obj.x)  # Raises AttributeError: 'MyClass' object has no attribute '_x'\n"
      ],
      "metadata": {
        "id": "J36GMGtLVrDZ"
      },
      "execution_count": null,
      "outputs": []
    },
    {
      "cell_type": "markdown",
      "source": [
        "**13. What is data hiding, and why is it important in encapsulation? Provide examples.**\n",
        "1. Data hiding, also known as information hiding, is the principle of restricting access to certain parts of an object's internal state or implementation details. In object-oriented programming, data hiding is achieved by making attributes or methods private, meaning they are not directly accessible from outside the class.\n",
        "\n",
        "2. Data hiding is important in encapsulation because it allows the class to control how its internal state is accessed and modified. By hiding implementation details, a class can maintain a clean and well-defined interface, reducing the risk of unintended interference and ensuring that the object's state remains consistent and valid."
      ],
      "metadata": {
        "id": "l4qcVtjJej-a"
      }
    },
    {
      "cell_type": "markdown",
      "source": [
        "**14. Create a Python class called `Employee` with private attributes for salary (`__salary`) and employee ID (`__employee_id`). Provide a method to calculate yearly bonuses**"
      ],
      "metadata": {
        "id": "6D18rqRKiNLh"
      }
    },
    {
      "cell_type": "code",
      "source": [
        "class Employee:\n",
        "  def __init__(self, salary, employee_id):\n",
        "    self.__salary = salary\n",
        "    self.__employee_id = employee_id\n",
        "  def Calculate_Bonus(self,performance):\n",
        "    print(f\"{self.__employee_id} : Your bonas is :\",end=\"\")\n",
        "    if performance >90:\n",
        "      bonas =(0.2*self.__salary)\n",
        "      return bonas\n",
        "    elif performance >=70:\n",
        "      bonas=(0.1*self.__salary)\n",
        "      return bonas\n",
        "    else:\n",
        "      return 0\n",
        "\n",
        "employee = Employee(50000,'ID1020')\n",
        "(employee.Calculate_Bonus(80))"
      ],
      "metadata": {
        "colab": {
          "base_uri": "https://localhost:8080/"
        },
        "id": "tdL3rABXeoKO",
        "outputId": "005b0fdd-e7a1-48a7-c76c-cc2cb72ac041"
      },
      "execution_count": null,
      "outputs": [
        {
          "output_type": "stream",
          "name": "stdout",
          "text": [
            "ID1020 : Your bonas is :"
          ]
        },
        {
          "output_type": "execute_result",
          "data": {
            "text/plain": [
              "5000.0"
            ]
          },
          "metadata": {},
          "execution_count": 20
        }
      ]
    },
    {
      "cell_type": "markdown",
      "source": [
        "**15. Discuss the use of accessors and mutators in encapsulation. How do they help maintain control over attribute access?**\n",
        "1.\n",
        "Accessors and mutators, commonly known as getter and setter methods, respectively, are essential components of encapsulation in object-oriented programming. They provide controlled access to class attributes, allowing the class to enforce constraints, validation rules, and business logic, while hiding the internal implementation details.\n",
        "2. Getter Methods (Accessors):\n",
        "* Getter methods are used to retrieve the values of private attributes from outside the class.\n",
        "* They provide read-only access to attributes, allowing external code to retrieve the attribute's value but not modify it directly.\n",
        "* Getter methods typically have names prefixed with \"get_\" and return the value of the attribute.\n",
        "* By using getter methods, the class can enforce read-only access to certain attributes, ensuring that their values remain consistent and valid.\n",
        "3. Setter Methods (Mutators):\n",
        "* Setter methods are used to modify the values of private attributes from outside the class.\n",
        "* They provide a controlled way to modify attribute values, allowing the class to enforce validation rules, constraints, or other business logic before setting the value.\n",
        "* Setter methods typically have names prefixed with \"set_\" and accept a new value as a parameter.\n",
        "* By using setter methods, the class can ensure that attribute values are modified in a controlled manner, preventing invalid or inconsistent states."
      ],
      "metadata": {
        "id": "CDSwzrs_lAbK"
      }
    },
    {
      "cell_type": "markdown",
      "source": [
        "**16. What are the potential drawbacks or disadvantages of using encapsulation in Python?**\n",
        "* While encapsulation is a fundamental principle in object-oriented programming and brings many benefits, there are also potential drawbacks or disadvantages to consider, especially when working in Python:\n",
        "\n",
        "1. Increased Complexity: Encapsulation can introduce additional complexity to the codebase, especially when dealing with large or deeply nested class hierarchies. Managing getter and setter methods, access controls, and ensuring proper encapsulation throughout the code can require careful planning and maintenance.\n",
        "2. Performance Overhead: Using getter and setter methods for attribute access can incur a slight performance overhead compared to direct attribute access. Although this overhead is often negligible, it can become significant in performance-critical applications or when dealing with large volumes of data.\n",
        "3. Code Verbosity: Implementing encapsulation with getter and setter methods can lead to more verbose code, especially for simple classes with many attributes. This verbosity can make the code harder to read and maintain, particularly for developers unfamiliar with the codebase.\n",
        "4. Potential Over-Engineering: Encapsulation, if applied excessively or unnecessarily, can lead to over-engineering, where the code becomes overly complex or rigid. It's essential to strike a balance between encapsulation and simplicity, focusing on encapsulating only the attributes or behaviors that truly require it.\n",
        "5. Limited Enforcement: Python does not enforce encapsulation as strictly as some other programming languages like Java or C++. While conventions such as using leading underscores for private attributes and methods exist, they are not enforced by the language itself. This lack of enforcement can lead to accidental violations of encapsulation, especially in larger codebases or when working in a team with varying levels of experience.\n",
        "6. Debugging and Testing Challenges: Encapsulation can make debugging and testing more challenging, especially when dealing with private methods or attributes. Testing private methods often requires using techniques like mocking or reflection, which can add complexity to test code.\n",
        "7. Potential for Misuse: Encapsulation, if not used judiciously, can lead to code that is overly restrictive or difficult to extend. Excessive encapsulation can hinder code reuse and inheritance, making it harder to extend or modify classes as requirements change."
      ],
      "metadata": {
        "id": "u9Cn1g07mIC8"
      }
    },
    {
      "cell_type": "markdown",
      "source": [
        "**17. Create a Python class for a library system that encapsulates book information, including titles, authors, and availability status.**"
      ],
      "metadata": {
        "id": "7O1vKn9Sm5fY"
      }
    },
    {
      "cell_type": "code",
      "source": [
        "class Book:\n",
        "    def __init__(self, title, author):\n",
        "        self._title = title\n",
        "        self._author = author\n",
        "        self._available = True\n",
        "\n",
        "    def get_title(self):\n",
        "        return self._title\n",
        "\n",
        "    def get_author(self):\n",
        "        return self._author\n",
        "\n",
        "    def is_available(self):\n",
        "        return self._available\n",
        "\n",
        "    def borrow(self):\n",
        "        if self._available:\n",
        "            self._available = False\n",
        "            return True\n",
        "        else:\n",
        "            return False\n",
        "\n",
        "    def return_book(self):\n",
        "        self._available = True\n",
        "\n",
        "class Library:\n",
        "    def __init__(self):\n",
        "        self._books = []\n",
        "\n",
        "    def add_book(self, book):\n",
        "        self._books.append(book)\n",
        "\n",
        "    def display_books(self):\n",
        "        if not self._books:\n",
        "            print(\"No books in the library.\")\n",
        "        else:\n",
        "            print(\"Books available in the library:\")\n",
        "            for book in self._books:\n",
        "                print(f\"Title: {book.get_title()}, Author: {book.get_author()}, Availability: {'Available' if book.is_available() else 'Not Available'}\")\n",
        "\n",
        "# Example usage:\n",
        "book1 = Book(\"The Great Gatsby\", \"F. Scott Fitzgerald\")\n",
        "book2 = Book(\"To Kill a Mockingbird\", \"Harper Lee\")\n",
        "book3 = Book(\"1984\", \"George Orwell\")\n",
        "\n",
        "library = Library()\n",
        "library.add_book(book1)\n",
        "library.add_book(book2)\n",
        "library.add_book(book3)\n",
        "\n",
        "library.display_books()\n",
        "\n",
        "print(\"\\nBorrowing 'The Great Gatsby'\")\n",
        "if book1.borrow():\n",
        "    print(\"Book borrowed successfully.\")\n",
        "else:\n",
        "    print(\"Book not available for borrowing.\")\n",
        "\n",
        "library.display_books()\n",
        "\n",
        "print(\"\\nReturning 'The Great Gatsby'\")\n",
        "book1.return_book()\n",
        "\n",
        "library.display_books()\n"
      ],
      "metadata": {
        "colab": {
          "base_uri": "https://localhost:8080/"
        },
        "id": "GIWJo84YN9Jb",
        "outputId": "cb484f04-2ed1-4267-b305-ebd7070049e6"
      },
      "execution_count": null,
      "outputs": [
        {
          "output_type": "stream",
          "name": "stdout",
          "text": [
            "Books available in the library:\n",
            "Title: The Great Gatsby, Author: F. Scott Fitzgerald, Availability: Available\n",
            "Title: To Kill a Mockingbird, Author: Harper Lee, Availability: Available\n",
            "Title: 1984, Author: George Orwell, Availability: Available\n",
            "\n",
            "Borrowing 'The Great Gatsby'\n",
            "Book borrowed successfully.\n",
            "Books available in the library:\n",
            "Title: The Great Gatsby, Author: F. Scott Fitzgerald, Availability: Not Available\n",
            "Title: To Kill a Mockingbird, Author: Harper Lee, Availability: Available\n",
            "Title: 1984, Author: George Orwell, Availability: Available\n",
            "\n",
            "Returning 'The Great Gatsby'\n",
            "Books available in the library:\n",
            "Title: The Great Gatsby, Author: F. Scott Fitzgerald, Availability: Available\n",
            "Title: To Kill a Mockingbird, Author: Harper Lee, Availability: Available\n",
            "Title: 1984, Author: George Orwell, Availability: Available\n"
          ]
        }
      ]
    },
    {
      "cell_type": "markdown",
      "source": [
        "**18. Explain how encapsulation enhances code reusability and modularity in Python programs.**\n",
        "1. Code Reusability: Encapsulation promotes code reusability by providing a blueprint for creating objects with well-defined interfaces. Once a class is defined, its methods can be reused across multiple instances of that class or even inherited by subclasses. This reduces code duplication and promotes a modular design where functionalities can be easily extended or modified without affecting other parts of the codebase.\n",
        "2. Modularity: Encapsulation encourages modular programming practices, where each class represents a modular unit with a specific responsibility or functionality. This allows developers to break down complex systems into smaller, more manageable components, making the codebase easier to understand, maintain, and extend. Additionally, encapsulation allows for better abstraction, as the internal implementation details of a class are hidden behind a well-defined interface, enabling other parts of the code to interact with the class without needing to know its internal workings."
      ],
      "metadata": {
        "id": "8mi9fSb3Oz_I"
      }
    },
    {
      "cell_type": "markdown",
      "source": [
        "**19. Describe the concept of information hiding in encapsulation. Why is it essential in software development?**\n",
        "1. Information hiding is a principle of encapsulation in object-oriented programming that involves concealing the internal details of how an object is implemented and exposing only the necessary information or functionalities through a well-defined interface. It allows developers to control access to the internal state of an object, ensuring that it can only be manipulated in a controlled manner\n",
        "* Modularity: Information hiding promotes modular design by separating the implementation details of an object from its interface. This allows developers to focus on defining clear and concise interfaces for interacting with objects, without being concerned about the internal complexities of their implementation. Modularity enhances code maintainability, as changes to the internal implementation can be made without affecting the external interface, thus minimizing the risk of unintended side effects.\n",
        "* Abstraction: Information hiding enables abstraction by hiding unnecessary implementation details and exposing only the essential aspects of an object's behavior. This allows developers to work at a higher level of abstraction, where they can focus on the functionality provided by an object rather than its internal workings. Abstraction simplifies the process of understanding and using complex systems by providing a clear separation between the interface and implementation.\n",
        "* Encapsulation: Information hiding is a key aspect of encapsulation, which bundles data and behavior into a single unit or class. Encapsulation protects the internal state of an object from direct external access, allowing it to be manipulated only through well-defined methods or properties. This helps in maintaining the integrity of the object's state and prevents external code from inadvertently modifying it in unexpected ways.\n",
        "* Security: Information hiding enhances security by restricting access to sensitive data or functionalities. By encapsulating data and behavior within a class and exposing only the necessary interface, developers can control access permissions and prevent unauthorized manipulation of critical system components. This helps in safeguarding sensitive information and mitigating security vulnerabilities in software systems."
      ],
      "metadata": {
        "id": "FG-qRaV2PUWi"
      }
    },
    {
      "cell_type": "markdown",
      "source": [
        "**20. Create a Python class called `Customer` with private attributes for customer details like name, address, and contact information. Implement encapsulation to ensure data integrity and security.**"
      ],
      "metadata": {
        "id": "65Op5gNaT5ek"
      }
    },
    {
      "cell_type": "code",
      "source": [
        "class Customer:\n",
        "  def __init__(self, name, address, contact):\n",
        "    self._name = name\n",
        "    self._address = address\n",
        "    self._contact = contact\n",
        "\n",
        "  def get_name(self):\n",
        "    return self._name\n",
        "  def set_name(self, new_name):\n",
        "    self._name = new_name\n",
        "    return self._name\n",
        "  def get_address(self):\n",
        "    return self._address\n",
        "  def set_address(self, new_address):\n",
        "    self._address = new_address\n",
        "    return self._address\n",
        "  def get_contact(self):\n",
        "    return self._contact\n",
        "  def set_contact(self, new_contact):\n",
        "    self._contact = new_contact\n",
        "    return self._contact\n",
        "\n",
        "customer1 = Customer(\"John Doe\", \"123 Main St, City, Country\", \"john@example.com\")\n",
        "\n",
        "print(\"Customer Name:\", customer1.get_name())\n",
        "print(\"Customer Address:\", customer1.get_address())\n",
        "print(\"Customer Contact Info:\", customer1.get_contact())\n",
        "\n",
        "# Update customer address\n",
        "customer1.set_address(\"456 Park Ave, Town, Country\")\n",
        "\n",
        "# Update customer contact info\n",
        "customer1.set_contact(\"john.doe@example.com\")\n",
        "\n",
        "print(\"\\nUpdated Customer Details:\")\n",
        "print(\"Customer Name:\", customer1.get_name())\n",
        "print(\"Customer Address:\", customer1.get_address())\n",
        "print(\"Customer Contact Info:\", customer1.get_contact())\n"
      ],
      "metadata": {
        "colab": {
          "base_uri": "https://localhost:8080/"
        },
        "id": "8raV11-8O2PN",
        "outputId": "e6d9924e-513b-4faf-80b7-85f54f9375b6"
      },
      "execution_count": null,
      "outputs": [
        {
          "output_type": "stream",
          "name": "stdout",
          "text": [
            "Customer Name: John Doe\n",
            "Customer Address: 123 Main St, City, Country\n",
            "Customer Contact Info: john@example.com\n",
            "\n",
            "Updated Customer Details:\n",
            "Customer Name: John Doe\n",
            "Customer Address: 456 Park Ave, Town, Country\n",
            "Customer Contact Info: john.doe@example.com\n"
          ]
        }
      ]
    },
    {
      "cell_type": "markdown",
      "source": [
        "# Polymorphism"
      ],
      "metadata": {
        "id": "MMatoIT0V05k"
      }
    },
    {
      "cell_type": "markdown",
      "source": [
        "**1. What is polymorphism in Python? Explain how it is related to object-oriented programming.**\n",
        "1. Polymorphism in Python refers to the ability of different objects to respond to the same message or method invocation in different ways. It allows objects of different classes to be treated as objects of a common superclass, enabling code to be written in a more generic and reusable manner. Polymorphism is closely related to object-oriented programming (OOP) and is one of the key principles of OOP, along with encapsulation, inheritance, and abstraction."
      ],
      "metadata": {
        "id": "E7jmxWFwV68x"
      }
    },
    {
      "cell_type": "markdown",
      "source": [
        "**2. Describe the difference between compile-time polymorphism and runtime polymorphism in Python.**\n",
        "1. Compile-time Polymorphism (Static Binding):\n",
        "* In Python, compile-time polymorphism typically refers to method overloading or function overloading, where multiple methods with the same name but different signatures (i.e., different parameters) exist in the same class or module.\n",
        "* However, Python does not support true method overloading based on the number or types of arguments like statically typed languages do. Instead, the last defined method with the same name in a class or module will overwrite any previously defined method with the same name.\n",
        "* As a result, method resolution in Python happens dynamically at runtime, not at compile-time. Therefore, the term \"compile-time polymorphism\" in Python may not accurately reflect the concept of static binding as seen in statically typed languages.\n",
        "2. Runtime Polymorphism (Dynamic Binding):\n",
        "* In Python, runtime polymorphism typically refers to method overriding, where a subclass provides a specific implementation of a method that is already defined in its superclass.\n",
        "* When a method is called on an object, Python determines the appropriate method implementation to execute dynamically at runtime based on the type of the object.\n",
        "* This dynamic method resolution allows for flexibility in object-oriented design, as different subclasses can provide their own implementations of methods defined in a superclass."
      ],
      "metadata": {
        "id": "Xf7X-lG_XGWK"
      }
    },
    {
      "cell_type": "markdown",
      "source": [
        "**3. Create a Python class hierarchy for shapes (e.g., circle, square triangle) and demonstrate polymorphism through a common method, such as `calculate_area()`.**"
      ],
      "metadata": {
        "id": "u6AGo3ZxYLGn"
      }
    },
    {
      "cell_type": "code",
      "source": [
        "import math\n",
        "class Shape:\n",
        "  def calculate_area(self):\n",
        "    pass\n",
        "class Circle(Shape):\n",
        "  def __init__(self,radius):\n",
        "    self.radius = radius\n",
        "  def calculate_area(self):\n",
        "      return math.pi * self.radius**2\n",
        "class Square(Shape):\n",
        "  def __init__(self,side):\n",
        "    self.side = side\n",
        "  def calculate_area(self):\n",
        "    return self.side**2\n",
        "class Triangle(Shape):\n",
        "  def __init__(self,base,height):\n",
        "    self.base = base\n",
        "    self.height = height\n",
        "  def calculate_area(self):\n",
        "    return 0.5*self.base*self.height\n",
        "\n",
        "shapes = [Circle(5), Square(10), Triangle(5,6)]\n",
        "\n",
        "for shape in shapes:\n",
        "  print(\"Area,\",  shape.calculate_area())"
      ],
      "metadata": {
        "id": "aJ4ytwYXVydt",
        "colab": {
          "base_uri": "https://localhost:8080/"
        },
        "outputId": "08011b16-3ff4-4e19-c4d2-2e14ba4e26e3"
      },
      "execution_count": null,
      "outputs": [
        {
          "output_type": "stream",
          "name": "stdout",
          "text": [
            "Area, 78.53981633974483\n",
            "Area, 100\n",
            "Area, 15.0\n"
          ]
        }
      ]
    },
    {
      "cell_type": "markdown",
      "source": [
        "**4. Explain the concept of method overriding in polymorphism. Provide an example**\n",
        "1. Method overriding is a concept in object-oriented programming that allows a subclass to provide a specific implementation of a method that is already defined in its superclass. When a method is overridden, the subclass provides its own implementation of the method with the same name and signature as the method in the superclass.\n",
        "\n",
        "2. In the context of polymorphism, method overriding enables objects of different subclasses to respond to the same method invocation in different ways. This means that even though different objects may share a common method name, the behavior of that method can vary depending on the specific type of object that is invoking it."
      ],
      "metadata": {
        "id": "h_JRA-e4soN9"
      }
    },
    {
      "cell_type": "code",
      "source": [
        "class Animal:\n",
        "  def make_sound(self):\n",
        "    print('Generic sound')\n",
        "class Dog(Animal):\n",
        "  def make_sound(self):\n",
        "    print(\"bark\")\n",
        "class Cat(Animal):\n",
        "  def make_sound(self):\n",
        "    print(\"meow\")\n",
        "\n",
        "dog = Dog()\n",
        "cat = Cat()\n",
        "\n",
        "dog.make_sound()\n",
        "cat.make_sound()"
      ],
      "metadata": {
        "colab": {
          "base_uri": "https://localhost:8080/"
        },
        "id": "V7cfQyzhouIC",
        "outputId": "780ff8c8-57a9-4154-e13c-fa0dacea4520"
      },
      "execution_count": null,
      "outputs": [
        {
          "output_type": "stream",
          "name": "stdout",
          "text": [
            "bark\n",
            "meow\n"
          ]
        }
      ]
    },
    {
      "cell_type": "markdown",
      "source": [
        "**5. How is polymorphism different from method overloading in Python? Provide examples for both**\n",
        "1. Polymorphism:Polymorphism refers to the ability of different objects to respond to the same method call in different ways. This allows objects of different classes to be treated as objects of a common superclass, and enables code to be written that can work with objects of multiple types without needing to know their specific types at compile time. Polymorphism is achieved through method overriding, where subclasses provide their own implementations of methods defined in a superclass.Example:\n",
        "2. Method Overloading:Method overloading refers to defining multiple methods in a class with the same name but different signatures (i.e., different parameters). Unlike some other languages like Java or C++, Python does not support method overloading by default. However, you can achieve similar behavior using default parameter values or variable-length argument lists"
      ],
      "metadata": {
        "id": "CbPIDERRvSWR"
      }
    },
    {
      "cell_type": "code",
      "source": [
        "# Example for polymorphism\n",
        "class Animal:\n",
        "  def make_sound(self):\n",
        "    print('Generic sound')\n",
        "class Dog(Animal):\n",
        "  def make_sound(self):\n",
        "    print(\"bark\")\n",
        "class Cat(Animal):\n",
        "  def make_sound(self):\n",
        "    print(\"meow\")\n",
        "\n",
        "dog = Dog()\n",
        "cat = Cat()\n",
        "\n",
        "dog.make_sound()\n",
        "cat.make_sound()"
      ],
      "metadata": {
        "id": "XjB2kmHaqcrV"
      },
      "execution_count": null,
      "outputs": []
    },
    {
      "cell_type": "code",
      "source": [
        "# Method Overloading - Example using default parameters\n",
        "class Calculator:\n",
        "    def add(self, a, b=0):\n",
        "        return a + b\n",
        "\n",
        "calc = Calculator()\n",
        "print(calc.add(5))      # Output: 5\n",
        "print(calc.add(2, 3))   # Output: 5\n"
      ],
      "metadata": {
        "id": "aYEpavhQxs24"
      },
      "execution_count": null,
      "outputs": []
    },
    {
      "cell_type": "code",
      "source": [
        "# Method Overloading - Example using variable lenth parameter argument\n",
        "class Calculator:\n",
        "    def add(self, *args):\n",
        "        return sum(args)\n",
        "\n",
        "calc = Calculator()\n",
        "print(calc.add(5))      # Output: 5\n",
        "print(calc.add(2, 3))   # Output: 5\n",
        "print(calc.add(1, 2, 3))   # Output: 6\n"
      ],
      "metadata": {
        "id": "ooP9dUxvx28S"
      },
      "execution_count": null,
      "outputs": []
    },
    {
      "cell_type": "markdown",
      "source": [
        "6. Create a Python class called `Animal` with a method `speak()`. Then, create child classes like `Dog`, `Cat`, and `Bird`, each with their own `speak()' method. Demonstrate polymorphism by calling the `speak()` method\n",
        "on objects of different subclasses."
      ],
      "metadata": {
        "id": "IYbvG_BhyQCe"
      }
    },
    {
      "cell_type": "code",
      "source": [
        "# Example for polymorphism\n",
        "class Animal:\n",
        "  def speak(self):\n",
        "    print('Generic sound')\n",
        "class Dog(Animal):\n",
        "  def speak(self):\n",
        "    print(\"Dog sound\")\n",
        "class Bird(Animal):\n",
        "  def speak(self):\n",
        "    print(\"Bird sound\")\n",
        "\n",
        "dog = Dog()\n",
        "bird = Bird()\n",
        "\n",
        "dog.speak()\n",
        "bird.speak()"
      ],
      "metadata": {
        "colab": {
          "base_uri": "https://localhost:8080/"
        },
        "id": "T2gF5oDAyjP3",
        "outputId": "4493e63b-9cda-4a86-bebe-03e2ffb2c1c6"
      },
      "execution_count": null,
      "outputs": [
        {
          "output_type": "stream",
          "name": "stdout",
          "text": [
            "Dog sound\n",
            "Bird sound\n"
          ]
        }
      ]
    },
    {
      "cell_type": "markdown",
      "source": [
        "**7. Discuss the use of abstract methods and classes in achieving polymorphism in Python. Provide an example using the `abc` module.**\n",
        "1.  Abstract methods and classes in Python, typically implemented using the abc (Abstract Base Classes) module, play a crucial role in achieving polymorphism by enforcing a common interface among subclasses. Abstract methods are defined in abstract classes but lack implementation details. Subclasses are then required to provide concrete implementations for these abstract methods, ensuring that all subclasses adhere to a common interface. This common interface enables polymorphic behavior, allowing objects of different subclasses to be treated uniformly."
      ],
      "metadata": {
        "id": "sqsiOHYEzQ3H"
      }
    },
    {
      "cell_type": "code",
      "source": [
        "import math\n",
        "from abc import ABC , abstractmethod\n",
        "class Shape:\n",
        "  @abstractmethod\n",
        "  def calculate_area(self):\n",
        "    pass\n",
        "class Circle(Shape):\n",
        "  def __init__(self,radius):\n",
        "    self.radius = radius\n",
        "  def calculate_area(self):\n",
        "      return math.pi * self.radius**2\n",
        "class Square(Shape):\n",
        "  def __init__(self,side):\n",
        "    self.side = side\n",
        "  def calculate_area(self):\n",
        "    return self.side**2\n",
        "class Triangle(Shape):\n",
        "  def __init__(self,base,height):\n",
        "    self.base = base\n",
        "    self.height = height\n",
        "  def calculate_area(self):\n",
        "    return 0.5*self.base*self.height\n",
        "\n",
        "shapes = [Circle(5), Square(10), Triangle(5,6)]\n",
        "\n",
        "for shape in shapes:\n",
        "  print(\"Area,\",  shape.calculate_area())"
      ],
      "metadata": {
        "colab": {
          "base_uri": "https://localhost:8080/"
        },
        "id": "kMreGg3-zKLW",
        "outputId": "058aba6a-5105-4496-d5af-0c264dd55c87"
      },
      "execution_count": null,
      "outputs": [
        {
          "output_type": "stream",
          "name": "stdout",
          "text": [
            "Area, 78.53981633974483\n",
            "Area, 100\n",
            "Area, 15.0\n"
          ]
        }
      ]
    },
    {
      "cell_type": "markdown",
      "source": [
        "**8. Create a Python class hierarchy for a vehicle system (e.g., car, bicycle, boat) and implement a polymorphic `start()` method that prints a message specific to each vehicle type.**"
      ],
      "metadata": {
        "id": "Bw8jDK8B2AQK"
      }
    },
    {
      "cell_type": "code",
      "source": [
        "class Vehicle:\n",
        "  def start(self):\n",
        "    print('General statement for vehicle')\n",
        "class Car(Vehicle):\n",
        "  def start (self):\n",
        "    print('This is for car class')\n",
        "class Bicycle(Vehicle):\n",
        "  def start (self):\n",
        "    print('This is for bicycle class')\n",
        "class Boat(Vehicle):\n",
        "  def start (self):\n",
        "    print('This is for Boat class')\n",
        "\n",
        "vehicles = [Car(), Bicycle(), Boat()]\n",
        "for vehicle in vehicles:\n",
        "  vehicle.start()"
      ],
      "metadata": {
        "colab": {
          "base_uri": "https://localhost:8080/"
        },
        "id": "m1Xnj45A07QP",
        "outputId": "42ce44d3-7ad2-4c59-8eec-735abc9f3a03"
      },
      "execution_count": null,
      "outputs": [
        {
          "output_type": "stream",
          "name": "stdout",
          "text": [
            "This is for car class\n",
            "This is for bicycle class\n",
            "This is for Boat class\n"
          ]
        }
      ]
    },
    {
      "cell_type": "markdown",
      "source": [
        "**9. Explain the significance of the `isinstance()` and `issubclass()` functions in Python polymorphism.**\n",
        "1. isinstance():\n",
        "* isinstance() is a built-in function in Python used to check if an object is an instance of a specified class or any of its subclasses.\n",
        "* It takes two arguments: the object to be checked and the class (or a tuple of classes) to check against.\n",
        "* This function is crucial in polymorphism as it allows you to determine if an object can be treated as a member of a particular class hierarchy.\n",
        "2. issubclass():\n",
        "* ssubclass() is another built-in function in Python used to check if a class is a subclass of another class.\n",
        "* It takes two arguments: the subclass to be checked and the superclass to check against.\n",
        "* Like isinstance(), issubclass() is significant in polymorphism as it allows you to verify class hierarchies and relationships, which is essential for implementing polymorphic behavior."
      ],
      "metadata": {
        "id": "_GfeZY5BY3nt"
      }
    },
    {
      "cell_type": "code",
      "source": [
        "class Animal:\n",
        "    pass\n",
        "class Dog(Animal):\n",
        "    pass\n",
        "class Cat(Animal):\n",
        "    pass\n",
        "dog = Dog()\n",
        "cat = Cat()\n",
        "print(isinstance(dog, Animal))\n",
        "print(isinstance(cat, Animal))\n",
        "print(issubclass(Dog, Animal))\n",
        "print(issubclass(Cat, Animal))"
      ],
      "metadata": {
        "colab": {
          "base_uri": "https://localhost:8080/"
        },
        "id": "qkZBTUfragjH",
        "outputId": "8c24fd2c-2e5e-4860-d26c-0cd6c8f21fb8"
      },
      "execution_count": null,
      "outputs": [
        {
          "output_type": "stream",
          "name": "stdout",
          "text": [
            "True\n",
            "True\n",
            "True\n",
            "True\n"
          ]
        }
      ]
    },
    {
      "cell_type": "markdown",
      "source": [
        "**10. What is the role of the `@abstractmethod` decorator in achieving polymorphism in Python? Provide an example.**\n",
        "1.\n",
        "The @abstractmethod decorator is part of the abc (Abstract Base Classes) module in Python. It is used to define abstract methods within abstract classes. Abstract methods are methods declared in the base class but are meant to be implemented by concrete subclasses. This concept is crucial in achieving polymorphism, as it allows different subclasses to implement the same method in their own way."
      ],
      "metadata": {
        "id": "sFO8OK3KbN8p"
      }
    },
    {
      "cell_type": "code",
      "source": [
        "import math\n",
        "from abc import ABC , abstractmethod\n",
        "class Shape:\n",
        "  @abstractmethod\n",
        "  def calculate_area(self):\n",
        "    pass\n",
        "class Circle(Shape):\n",
        "  def __init__(self,radius):\n",
        "    self.radius = radius\n",
        "  def calculate_area(self):\n",
        "      return math.pi * self.radius**2\n",
        "class Square(Shape):\n",
        "  def __init__(self,side):\n",
        "    self.side = side\n",
        "  def calculate_area(self):\n",
        "    return self.side**2\n",
        "class Triangle(Shape):\n",
        "  def __init__(self,base,height):\n",
        "    self.base = base\n",
        "    self.height = height\n",
        "  def calculate_area(self):\n",
        "    return 0.5*self.base*self.height\n",
        "\n",
        "shapes = [Circle(5), Square(10), Triangle(5,6)]\n",
        "\n",
        "for shape in shapes:\n",
        "  print(\"Area,\",  shape.calculate_area())"
      ],
      "metadata": {
        "id": "NqT9V2Qb3d94",
        "colab": {
          "base_uri": "https://localhost:8080/"
        },
        "outputId": "6513a562-8ff4-422c-8088-7b662fc80cb3"
      },
      "execution_count": null,
      "outputs": [
        {
          "output_type": "stream",
          "name": "stdout",
          "text": [
            "Area, 78.53981633974483\n",
            "Area, 100\n",
            "Area, 15.0\n"
          ]
        }
      ]
    },
    {
      "cell_type": "markdown",
      "source": [
        "**11. Create a Python class called `Shape` with a polymorphic method `area()` that calculates the area of different shapes (e.g., circle, rectangle, triangle).**"
      ],
      "metadata": {
        "id": "wV4Zos6ocW2q"
      }
    },
    {
      "cell_type": "code",
      "source": [
        "import math\n",
        "from abc import ABC , abstractmethod\n",
        "class Shape:\n",
        "  @abstractmethod\n",
        "  def calculate_area(self):\n",
        "    pass\n",
        "class Circle(Shape):\n",
        "  def __init__(self,radius):\n",
        "    self.radius = radius\n",
        "  def calculate_area(self):\n",
        "      return math.pi * self.radius**2\n",
        "class Rectangle(Shape):\n",
        "  def __init__(self,length, Width):\n",
        "    self.length = length\n",
        "    self.Width = Width\n",
        "  def calculate_area(self):\n",
        "    return self.length * self.Width\n",
        "class Triangle(Shape):\n",
        "  def __init__(self,base,height):\n",
        "    self.base = base\n",
        "    self.height = height\n",
        "  def calculate_area(self):\n",
        "    return 0.5*self.base*self.height\n",
        "\n",
        "shapes = [Circle(5), Rectangle(10,15), Triangle(5,6)]\n",
        "\n",
        "for shape in shapes:\n",
        "  print(\"Area,\",  shape.calculate_area())"
      ],
      "metadata": {
        "colab": {
          "base_uri": "https://localhost:8080/"
        },
        "id": "G5RMRjwVcn6N",
        "outputId": "b18fae27-aded-4942-81f0-d04985ac0990"
      },
      "execution_count": null,
      "outputs": [
        {
          "output_type": "stream",
          "name": "stdout",
          "text": [
            "Area, 78.53981633974483\n",
            "Area, 150\n",
            "Area, 15.0\n"
          ]
        }
      ]
    },
    {
      "cell_type": "markdown",
      "source": [
        "**12. Discuss the benefits of polymorphism in terms of code reusability and flexibility in Python programs.**\n",
        "1. Code Reusability:\n",
        "* Polymorphism allows for the reuse of code across different classes and objects.\n",
        "* By defining common interfaces through abstract classes or interfaces and providing multiple implementations through subclasses, you can reuse the same code to work with various objects that share the same interface.\n",
        "* This reduces redundancy and promotes modular design, leading to cleaner, more concise codebases.\n",
        "2. Flexibility:\n",
        "* Polymorphism enables you to write flexible code that can adapt to different types of objects at runtime.\n",
        "* You can design algorithms and functions to operate on objects of a superclass, without needing to know the specific subclass implementations.\n",
        "* This flexibility allows for more generic and extensible solutions, as changes to the underlying implementations don't affect the code that relies on polymorphic behavior."
      ],
      "metadata": {
        "id": "Eo1WsyFGdZqq"
      }
    },
    {
      "cell_type": "markdown",
      "source": [
        "**13. Explain the use of the `super()` function in Python polymorphism. How does it help call methods of parent classes?**\n",
        "1.\n",
        "The super() function in Python is used to call methods and access attributes from the parent class within a subclass. It facilitates inheritance and enables method overriding, which are essential aspects of achieving polymorphism in object-oriented programming. Here's how super() helps in calling methods of parent classes and contributes to polymorphism\n",
        "2. Method Resolution Order (MRO):\n",
        "* Python follows the C3 linearization algorithm to determine the method resolution order (MRO) for classes in multiple inheritance scenarios.\n",
        "* super() utilizes the MRO to determine the next class in the inheritance hierarchy to search for the method or attribute being accessed.\n",
        "3. Calling Parent Class Methods:\n",
        "* Inside a subclass, you can use super() to call methods of the parent class.\n",
        "This is particularly useful when you want to extend or customize the behavior of a method defined in the parent class without completely replacing it.\n",
        "* By using super().method_name(), you invoke the method from the superclass, allowing you to add additional functionality before or after the parent method is called.\n",
        "4. Achieving Polymorphism:\n",
        "* super() helps in achieving polymorphism by allowing subclasses to provide their own implementations of methods while still retaining the ability to call the parent class's method when necessary.\n",
        "* This enables different subclasses to exhibit varying behaviors while maintaining a consistent interface, promoting code reuse and flexibility."
      ],
      "metadata": {
        "id": "u29c8dnhcZbT"
      }
    },
    {
      "cell_type": "markdown",
      "source": [
        "**14.Create a Python class hierarchy for a banking system with various account types (e.g., savings, checking, credit card) and demonstrate polymorphism by implementing a common `withdraw()` method.**"
      ],
      "metadata": {
        "id": "CAwlBasWf-IH"
      }
    },
    {
      "cell_type": "code",
      "source": [
        "class Account:\n",
        "  def __init__(self,account_number, balance = 0):\n",
        "    self.account_number = account_number\n",
        "    self.balance = balance\n",
        "  def withdraw(self,amount):\n",
        "    if self.balance >= amount:\n",
        "      self.balance -=amount\n",
        "      print(f\"Withdrawal of Rs {amount} successful. New balance : Rs{self.balance}\")\n",
        "    else:\n",
        "      print(\"Insufficient funds\")\n",
        "class SavingAccount(Account):\n",
        "  def __init__(self,account_number, balance = 0, interest_rate = 0.05):\n",
        "    super().__init__(account_number, balance)\n",
        "    self.interest_rate = interest_rate\n",
        "  def withdraw(self,amount):\n",
        "    if self.balance >= amount:\n",
        "      self.balance -=amount\n",
        "      print(f\"Withdrawal of Rs{amount} from savings account successful. New balance : Rs{self.balance}\")\n",
        "    else:\n",
        "      print(\"Insufficient Funds.\")\n",
        "  def apply_interest(self):\n",
        "    interest = self.balance * self.interest_rate\n",
        "    self.balance +=interest\n",
        "    print(f\"Interest of Rs{interest} applied. New balance:Rs{self.balance}\")\n",
        "class CheckingAccount(Account):\n",
        "    def __init__(self, account_number, balance=0, overdraft_limit=100):\n",
        "        super().__init__(account_number, balance)\n",
        "        self.overdraft_limit = overdraft_limit\n",
        "\n",
        "    def withdraw(self, amount):\n",
        "        available_balance = self.balance + self.overdraft_limit\n",
        "        if available_balance >= amount:\n",
        "            self.balance -= amount\n",
        "            print(f\"Withdrawal of ${amount} from checking account successful. New balance: ${self.balance}\")\n",
        "        else:\n",
        "            print(\"Insufficient funds.\")\n",
        "\n",
        "class CreditCardAccount(Account):\n",
        "    def __init__(self, account_number, balance=0, credit_limit=1000):\n",
        "        super().__init__(account_number, balance)\n",
        "        self.credit_limit = credit_limit\n",
        "\n",
        "    def withdraw(self, amount):\n",
        "        available_credit = self.credit_limit + self.balance\n",
        "        if available_credit >= amount:\n",
        "            self.balance -= amount\n",
        "            print(f\"Withdrawal of ${amount} from credit card account successful. New balance: ${self.balance}\")\n",
        "        else:\n",
        "            print(\"Insufficient funds.\")\n",
        "# Demonstration of polymorphism\n",
        "def withdraw_from_account(account, amount):\n",
        "    account.withdraw(amount)\n",
        "\n",
        "# Creating instances of different account types\n",
        "savings_account = SavingAccount(\"SA123\", 1000)\n",
        "checking_account = CheckingAccount(\"CA456\", 2000)\n",
        "credit_card_account = CreditCardAccount(\"CC789\", 500)\n",
        "\n",
        "# Withdrawing from different account types using the same function\n",
        "withdraw_from_account(savings_account, 200)\n",
        "withdraw_from_account(checking_account, 300)\n",
        "withdraw_from_account(credit_card_account, 400)"
      ],
      "metadata": {
        "colab": {
          "base_uri": "https://localhost:8080/"
        },
        "id": "kmREwdCxhNP7",
        "outputId": "f1b55d60-dfef-4b14-c5d4-b602b34b9606"
      },
      "execution_count": null,
      "outputs": [
        {
          "output_type": "stream",
          "name": "stdout",
          "text": [
            "Withdrawal of Rs200 from savings account successful. New balance : Rs800\n",
            "Withdrawal of $300 from checking account successful. New balance: $1700\n",
            "Withdrawal of $400 from credit card account successful. New balance: $100\n"
          ]
        }
      ]
    },
    {
      "cell_type": "markdown",
      "source": [
        "**15. Describe the concept of operator overloading in Python and how it relates  \n",
        "to polymorphism. Provide examples using operators like \"+\" and \"*\".**"
      ],
      "metadata": {
        "id": "dxbfwrnanfxA"
      }
    },
    {
      "cell_type": "code",
      "source": [
        "class Point:\n",
        "    def __init__(self, x, y):\n",
        "        self.x = x\n",
        "        self.y = y\n",
        "\n",
        "    # Overloading the \"+\" operator to perform addition of two Point objects\n",
        "    def __add__(self, other):\n",
        "        return Point(self.x + other.x, self.y + other.y)\n",
        "\n",
        "    # Overloading the \"*\" operator to perform scalar multiplication with a Point object\n",
        "    def __mul__(self, scalar):\n",
        "        return Point(self.x * scalar, self.y * scalar)\n",
        "\n",
        "    # Overloading the \"<\" operator to compare two Point objects based on their magnitude\n",
        "    def __lt__(self, other):\n",
        "        return (self.x ** 2 + self.y ** 2) < (other.x ** 2 + other.y ** 2)\n",
        "\n",
        "# Creating Point objects\n",
        "p1 = Point(1, 2)\n",
        "p2 = Point(3, 4)\n",
        "\n",
        "# Adding two Point objects\n",
        "result_addition = p1 + p2\n",
        "print(\"Addition result:\", result_addition.__dict__)  # Output: {'x': 4, 'y': 6}\n",
        "\n",
        "# Multiplying a Point object by a scalar\n",
        "result_multiplication = p1 * 2\n",
        "print(\"Multiplication result:\", result_multiplication.__dict__)  # Output: {'x': 2, 'y': 4}\n",
        "\n",
        "# Comparing two Point objects based on their magnitude\n",
        "print(\"Comparison result:\", p1 < p2)  # Output: True\n"
      ],
      "metadata": {
        "colab": {
          "base_uri": "https://localhost:8080/"
        },
        "id": "5kj1a9VTn_az",
        "outputId": "054bb8c4-af01-4125-e752-ff3ec1e9c564"
      },
      "execution_count": null,
      "outputs": [
        {
          "output_type": "stream",
          "name": "stdout",
          "text": [
            "Addition result: {'x': 4, 'y': 6}\n",
            "Multiplication result: {'x': 2, 'y': 4}\n",
            "Comparison result: True\n"
          ]
        }
      ]
    },
    {
      "cell_type": "markdown",
      "source": [
        "**16. What is dynamic polymorphism, and how is it achieved in Python?**\n",
        "* Dynamic polymorphism, also known as runtime polymorphism or late binding, is a type of polymorphism where the appropriate method or function to call is determined at runtime rather than compile time. It allows different classes to provide their own implementation of methods with the same name, and the correct method to be called is determined based on the type of object at runtime.\n",
        "1. Method Overriding:\n",
        "* Method overriding allows a subclass to provide a specific implementation of a method that is already defined in its superclass.\n",
        "* When a method is called on an object, Python dynamically resolves the method to be invoked based on the actual type of the object at runtime.\n",
        "* This enables objects of different types to respond differently to the same method call, depending on their respective implementations.\n",
        "2. Duck Typing:\n",
        "* Duck typing is a dynamic typing concept in Python that focuses on an object's behavior rather than its type.\n",
        "* According to the \"duck test,\" if an object walks like a duck and quacks like a duck, then it's treated as a duck. In other words, as long as an object implements the required methods, it can be treated as if it belongs to a particular type.\n",
        "* This approach allows Python to achieve polymorphic behavior without explicit type declarations, promoting flexibility and code reuse."
      ],
      "metadata": {
        "id": "kn--LqH9qR1j"
      }
    },
    {
      "cell_type": "markdown",
      "source": [
        "**7. Create a Python class hierarchy for employees in a company (e.g., manager, developer, designer) and implement polymorphism through a common `calculate_salary()` method.**"
      ],
      "metadata": {
        "id": "un_weMa0rR9q"
      }
    },
    {
      "cell_type": "code",
      "source": [
        "class Employee:\n",
        "    def __init__(self, name, hours_worked, hourly_rate):\n",
        "        self.name = name\n",
        "        self.hours_worked = hours_worked\n",
        "        self.hourly_rate = hourly_rate\n",
        "\n",
        "    def calculate_salary(self):\n",
        "        return self.hours_worked * self.hourly_rate\n",
        "\n",
        "class Manager(Employee):\n",
        "    def __init__(self, name, hours_worked, hourly_rate, bonus):\n",
        "        super().__init__(name, hours_worked, hourly_rate)\n",
        "        self.bonus = bonus\n",
        "\n",
        "    def calculate_salary(self):\n",
        "        base_salary = super().calculate_salary()\n",
        "        return base_salary + self.bonus\n",
        "\n",
        "class Developer(Employee):\n",
        "    def __init__(self, name, hours_worked, hourly_rate, lines_of_code):\n",
        "        super().__init__(name, hours_worked, hourly_rate)\n",
        "        self.lines_of_code = lines_of_code\n",
        "\n",
        "    def calculate_salary(self):\n",
        "        base_salary = super().calculate_salary()\n",
        "        return base_salary + self.lines_of_code * 0.1\n",
        "\n",
        "class Designer(Employee):\n",
        "    def __init__(self, name, hours_worked, hourly_rate, num_designs):\n",
        "        super().__init__(name, hours_worked, hourly_rate)\n",
        "        self.num_designs = num_designs\n",
        "\n",
        "    def calculate_salary(self):\n",
        "        base_salary = super().calculate_salary()\n",
        "        return base_salary + self.num_designs * 20\n",
        "\n",
        "# Creating instances of different employee types\n",
        "manager = Manager(\"John Doe\", 40, 50, 1000)\n",
        "developer = Developer(\"Jane Smith\", 40, 40, 1000)\n",
        "designer = Designer(\"Alice Johnson\", 40, 35, 10)\n",
        "\n",
        "# Calculating salaries for each employee\n",
        "print(\"Manager's salary:\", manager.calculate_salary())    # Output: 3000 (base salary of 2000 + bonus of 1000)\n",
        "print(\"Developer's salary:\", developer.calculate_salary())  # Output: 4400 (base salary of 1600 + 100 lines of code * 0.1)\n",
        "print(\"Designer's salary:\", designer.calculate_salary())    # Output: 2600 (base salary of 1400 + 10 designs * 20)\n"
      ],
      "metadata": {
        "colab": {
          "base_uri": "https://localhost:8080/"
        },
        "id": "0P6AVgwgqWGK",
        "outputId": "123ea54f-e008-474e-faee-d5c98da32745"
      },
      "execution_count": null,
      "outputs": [
        {
          "output_type": "stream",
          "name": "stdout",
          "text": [
            "Manager's salary: 3000\n",
            "Developer's salary: 1700.0\n",
            "Designer's salary: 1600\n"
          ]
        }
      ]
    },
    {
      "cell_type": "markdown",
      "source": [
        "**18. Discuss the concept of function pointers and how they can be used to achieve polymorphism in Python.**\n",
        "1. In Python, the concept of function pointers is manifested through the use of first-class functions, which are functions that can be passed around as arguments, returned from other functions, and assigned to variables. While Python does not have explicit function pointers like some other programming languages (e.g., C or C++), the ability to pass functions as arguments enables similar functionality.\n",
        "\n",
        "2. Function pointers, or first-class functions, can be used to achieve polymorphism in Python by allowing different functions to be passed to a common function or method. This promotes flexibility and code reuse, as the behavior of the common function or method can vary based on the function that is passed to it\n",
        "* Common Interface:\n",
        "Define a common function or method that expects another function as an argument. This common function or method serves as the interface through which polymorphic behavior is achieved.\n",
        "* Passing Different Functions:\n",
        "Different functions that implement similar behavior but with different implementations are defined.\n",
        "* Invocation:\n",
        "Pass one of these functions as an argument to the common function or method.\n",
        "Execution:\n",
        "* Inside the common function or method, invoke the function that was passed as an argument. This allows the common function or method to execute different behavior depending on the function provided."
      ],
      "metadata": {
        "id": "c1j8iQJbrvi2"
      }
    },
    {
      "cell_type": "code",
      "source": [
        "def add(a, b):\n",
        "    return a + b\n",
        "\n",
        "def subtract(a, b):\n",
        "    return a - b\n",
        "\n",
        "def calculate(operation, a, b):\n",
        "    return operation(a, b)\n",
        "\n",
        "# Using function pointers to achieve polymorphism\n",
        "result1 = calculate(add, 5, 3)        # Calls add(5, 3)\n",
        "result2 = calculate(subtract, 5, 3)   # Calls subtract(5, 3)\n",
        "\n",
        "print(\"Result of addition:\", result1)\n",
        "print(\"Result of subtraction:\", result2)\n"
      ],
      "metadata": {
        "colab": {
          "base_uri": "https://localhost:8080/"
        },
        "id": "3g5tJkJ_r09K",
        "outputId": "946b4bdc-da76-4ea8-dd4d-a33926d0126a"
      },
      "execution_count": null,
      "outputs": [
        {
          "output_type": "stream",
          "name": "stdout",
          "text": [
            "Result of addition: 8\n",
            "Result of subtraction: 2\n"
          ]
        }
      ]
    },
    {
      "cell_type": "markdown",
      "source": [
        "**19. Explain the role of interfaces and abstract classes in polymorphism, drawing comparisons between them.**\n",
        "1. Interfaces:\n",
        "* An interface in object-oriented programming defines a set of method signatures that a class must implement. It specifies what methods a class should have without providing any implementation details.\n",
        "* In Python, interfaces are typically represented using abstract base classes (ABCs) from the abc module.\n",
        "*  that implement an interface must provide concrete implementations for all the methods defined by the interface.\n",
        "* Interfaces are useful for enforcing a contract between classes, ensuring that they adhere to a specific set of behaviors.\n",
        "* They promote loose coupling and flexibility, allowing different classes to be used interchangeably based on their shared interface.\n",
        "* Interfaces are particularly effective when you want to enforce a consistent interface across unrelated classes or when multiple inheritance is desired.\n",
        "2. Abstract Classes:\n",
        "* An abstract class is a class that cannot be instantiated on its own and may contain abstract methods, which are methods without implementations.\n",
        "Abstract classes are meant to be subclassed, and they often serve as blueprints for creating related classes.\n",
        "* In Python, abstract classes are defined using the abc module by subclassing the ABC class and using the @abstractmethod decorator to declare abstract methods.\n",
        "* Subclasses of an abstract class must implement all the abstract methods defined by the abstract class.\n",
        "* Abstract classes can provide default implementations for some methods, allowing subclasses to override only the methods they need to customize.\n",
        "* Abstract classes are useful when you want to define a common interface along with some default behavior that can be shared among subclasses.\n",
        "3. Comparisons:\n",
        "\n",
        "* Usage:\n",
        "Interfaces are used to define a contract or set of behaviors that classes must adhere to, without providing any implementation details.\n",
        "Abstract classes serve as blueprints for creating related classes, providing a structure and some default behavior that subclasses can inherit and customize.\n",
        "* Instantiation:\n",
        "Interfaces cannot be instantiated directly; they are implemented by concrete classes.\n",
        "Abstract classes cannot be instantiated directly either; they are meant to be subclassed.\n",
        "* Implementation:\n",
        "Interfaces contain method signatures only, without any implementation.\n",
        "Abstract classes may contain both abstract methods (without implementations) and concrete methods (with implementations).\n",
        "* Flexibility:\n",
        "Interfaces offer more flexibility, as a class can implement multiple interfaces.\n",
        "Abstract classes are less flexible in terms of multiple inheritance because Python does not support multiple inheritance from concrete classes."
      ],
      "metadata": {
        "id": "OymwgqhnuNHc"
      }
    },
    {
      "cell_type": "markdown",
      "source": [
        "**20. Create a Python class for a zoo simulation, demonstrating polymorphism with different animal types (e.g., mammals, birds, reptiles) and their behavior (e.g., eating, sleeping, making sounds).**"
      ],
      "metadata": {
        "id": "6YVMVECou51A"
      }
    },
    {
      "cell_type": "code",
      "source": [
        "class Animal:\n",
        "    def __init__(self, name):\n",
        "        self.name = name\n",
        "    def eat(self):\n",
        "        pass\n",
        "    def sleep(self):\n",
        "        pass\n",
        "    def make_sound(self):\n",
        "        pass\n",
        "class Mammal(Animal):\n",
        "    def eat(self):\n",
        "        return f\"{self.name} the mammal is eating\"\n",
        "    def sleep(self):\n",
        "        return f\"{self.name} the mammal is sleeping\"\n",
        "    def make_sound(self):\n",
        "        return f\"{self.name} the mammal is making a sound\"\n",
        "class Bird(Animal):\n",
        "    def eat(self):\n",
        "        return f\"{self.name} the bird is eating\"\n",
        "    def sleep(self):\n",
        "        return f\"{self.name} the bird is sleeping\"\n",
        "    def make_sound(self):\n",
        "        return f\"{self.name} the bird is making a sound\"\n",
        "class Reptile(Animal):\n",
        "    def eat(self):\n",
        "        return f\"{self.name} the reptile is eating\"\n",
        "    def sleep(self):\n",
        "        return f\"{self.name} the reptile is sleeping\"\n",
        "    def make_sound(self):\n",
        "        return f\"{self.name} the reptile is making a sound\"\n",
        "# Zoo simulation\n",
        "def simulate_zoo(animals):\n",
        "    for animal in animals:\n",
        "        print(animal.eat())\n",
        "        print(animal.sleep())\n",
        "        print(animal.make_sound())\n",
        "        print()\n",
        "# Creating instances of different animal types\n",
        "lion = Mammal(\"Lion\")\n",
        "eagle = Bird(\"Eagle\")\n",
        "snake = Reptile(\"Snake\")\n",
        "# Simulating the zoo with different animal types\n",
        "simulate_zoo([lion, eagle, snake])\n"
      ],
      "metadata": {
        "colab": {
          "base_uri": "https://localhost:8080/"
        },
        "id": "Z7MsZNm1uyq7",
        "outputId": "d41b8cd0-8da5-4cfc-f051-0b845e321f20"
      },
      "execution_count": null,
      "outputs": [
        {
          "output_type": "stream",
          "name": "stdout",
          "text": [
            "Lion the mammal is eating\n",
            "Lion the mammal is sleeping\n",
            "Lion the mammal is making a sound\n",
            "\n",
            "Eagle the bird is eating\n",
            "Eagle the bird is sleeping\n",
            "Eagle the bird is making a sound\n",
            "\n",
            "Snake the reptile is eating\n",
            "Snake the reptile is sleeping\n",
            "Snake the reptile is making a sound\n",
            "\n"
          ]
        }
      ]
    },
    {
      "cell_type": "markdown",
      "source": [
        "# Abstraction"
      ],
      "metadata": {
        "id": "gYnVpYXou29R"
      }
    },
    {
      "cell_type": "markdown",
      "source": [
        "**1. What is abstraction in Python, and how does it relate to object-oriented programming?**\n",
        "1. Abstraction in Python, as well as in object-oriented programming (OOP) in general, refers to the concept of hiding the complex implementation details of a system and only exposing the necessary functionalities or interfaces to the outside world. In simpler terms, abstraction allows you to focus on what an object does rather than how it does it.\n",
        "\n",
        "2. In Python, abstraction is often achieved through classes and objects. You create classes to represent real-world entities or concepts, and these classes encapsulate both data (attributes) and behavior (methods). By defining classes in such a way that they only expose relevant methods and properties to interact with, you can abstract away the internal implementation details."
      ],
      "metadata": {
        "id": "AvRYjY-MvCR9"
      }
    },
    {
      "cell_type": "markdown",
      "source": [
        "**2. Describe the benefits of abstraction in terms of code organization and complexity reduction**\n",
        "1. Simplified Understanding: Abstraction allows developers to focus on high-level concepts rather than getting bogged down in implementation details. By hiding complexity behind well-defined interfaces, developers can understand and reason about the code more easily.\n",
        "2. Modular Design: Abstraction encourages modular design by breaking down a system into smaller, more manageable components. Each component can be treated as a black box with well-defined inputs and outputs, making it easier to develop, test, and maintain.\n",
        "3. Code Reusability: Abstraction promotes code reuse by encapsulating common functionalities into reusable components or libraries. Developers can leverage these abstractions across different parts of their codebase or even across multiple projects, saving time and reducing duplication.\n",
        "4. Flexibility and Extensibility: Abstraction allows for flexibility and extensibility in software design. By designing systems with well-defined interfaces, developers can easily extend or modify the behavior of a system without having to change its underlying implementation.\n",
        "5. Encapsulation of Complexity: Abstraction encapsulates complexity by hiding unnecessary details from the users of a module or system. This makes the codebase more maintainable and reduces the risk of introducing bugs when making changes.\n",
        "6. Separation of Concerns: Abstraction helps in separating concerns by defining clear boundaries between different parts of a system. This separation makes it easier to manage complexity, understand the codebase, and collaborate with other developers.\n",
        "7. Level of Detail: Abstraction allows developers to choose the appropriate level of detail for a given task or context. It enables them to focus on high-level architectural decisions without getting bogged down in low-level implementation details until necessary.\n",
        "8. Improved Collaboration: Abstraction facilitates better collaboration among developers by providing clear interfaces and contracts between different modules or components. This enables teams to work on different parts of a system in parallel, leading to faster development cycles."
      ],
      "metadata": {
        "id": "I9MG_qfn-no7"
      }
    },
    {
      "cell_type": "markdown",
      "source": [
        "**3. Create a Python class called `Shape` with an abstract method `calculate_area()`. Then, create child classes (e.g., `Circle`, `Rectangle`) that implement the `calculate_area()` method. Provide an example of using these classes.**"
      ],
      "metadata": {
        "id": "4x0a3LRc_Mnc"
      }
    },
    {
      "cell_type": "code",
      "source": [
        "from abc import ABC, abstractmethod\n",
        "import math\n",
        "class Shape(ABC):\n",
        "  @abstractmethod\n",
        "  def calculate_area(self):\n",
        "    pass\n",
        "class Circle(Shape):\n",
        "  def __init__(self, radius):\n",
        "    self.radius = radius\n",
        "  def calculate_area(self):\n",
        "    return math.pi * self.radius ** 2\n",
        "class Rectangle(Shape):\n",
        "  def __init__(self,length, width):\n",
        "    self.length = length\n",
        "    self.width = width\n",
        "  def calculate_area(self):\n",
        "    return self.length * self.width\n",
        "circle = Circle(5)\n",
        "print(\"Area of the circle:\", circle.calculate_area())\n",
        "\n",
        "rectangle = Rectangle(4, 6)\n",
        "print(\"Area of the rectangle:\", rectangle.calculate_area())"
      ],
      "metadata": {
        "colab": {
          "base_uri": "https://localhost:8080/"
        },
        "id": "V8Iialp7_iAO",
        "outputId": "af69c447-7b07-4d13-b3c3-05069f354cc7"
      },
      "execution_count": 2,
      "outputs": [
        {
          "output_type": "stream",
          "name": "stdout",
          "text": [
            "Area of the circle: 78.53981633974483\n",
            "Area of the rectangle: 24\n"
          ]
        }
      ]
    },
    {
      "cell_type": "markdown",
      "source": [
        "**4. Explain the concept of abstract classes in Python and how they are defined using the `abc` module. Provide an example.**\n",
        "1. Abstract classes in Python serve as blueprints for other classes. They are classes that cannot be instantiated on their own and typically contain one or more abstract methods, which are methods declared but not implemented in the abstract class itself.\n",
        "2. These abstract methods must be implemented by concrete subclasses that inherit from the abstract class.\n",
        "3. Abstract classes are useful for defining a common interface that multiple related classes must adhere to, ensuring consistency and providing a structure for subclass implementation.\n",
        "4. In Python, abstract classes can be defined using the abc module, which stands for \"Abstract Base Classes\". This module provides the ABC class as the base class for defining abstract classes and the abstractmethod decorator to declare abstract methods.\n"
      ],
      "metadata": {
        "id": "D1Bcm8OpA3N3"
      }
    },
    {
      "cell_type": "code",
      "source": [
        "from abc import ABC, abstractmethod\n",
        "import math\n",
        "class Shape(ABC):\n",
        "  @abstractmethod\n",
        "  def calculate_area(self):\n",
        "    pass\n",
        "class Circle(Shape):\n",
        "  def __init__(self, radius):\n",
        "    self.radius = radius\n",
        "  def calculate_area(self):\n",
        "    return math.pi * self.radius ** 2\n",
        "class Rectangle(Shape):\n",
        "  def __init__(self,length, width):\n",
        "    self.length = length\n",
        "    self.width = width\n",
        "  def calculate_area(self):\n",
        "    return self.length * self.width\n",
        "circle = Circle(5)\n",
        "print(\"Area of the circle:\", circle.calculate_area())\n",
        "\n",
        "rectangle = Rectangle(4, 6)\n",
        "print(\"Area of the rectangle:\", rectangle.calculate_area())"
      ],
      "metadata": {
        "colab": {
          "base_uri": "https://localhost:8080/"
        },
        "id": "kVlj01BmA6lH",
        "outputId": "51f65cc3-7510-47f6-bd0a-82d64cd1e7a3"
      },
      "execution_count": 3,
      "outputs": [
        {
          "output_type": "stream",
          "name": "stdout",
          "text": [
            "Area of the circle: 78.53981633974483\n",
            "Area of the rectangle: 24\n"
          ]
        }
      ]
    },
    {
      "cell_type": "markdown",
      "source": [
        "**5. How do abstract classes differ from regular classes in Python? Discuss their use cases.**\n",
        "1. Characteristics:\n",
        "* Instantiation:\n",
        "Regular classes can be instantiated directly to create objects.\n",
        "Abstract classes cannot be instantiated directly; they serve as blueprints for other classes and are meant to be subclassed.\n",
        "* Abstract Methods:\n",
        "Abstract classes can contain one or more abstract methods, which are declared but not implemented in the abstract class itself.\n",
        "Regular classes do not necessarily contain abstract methods.\n",
        "* Inheritance:\n",
        "Regular classes can inherit from other regular classes or abstract classes.\n",
        "Abstract classes can inherit from other abstract classes or regular classes, and concrete subclasses must implement all abstract methods defined in their abstract ancestors.\n",
        "* Purpose:\n",
        "Abstract classes are used to define a common interface that multiple related classes must adhere to. They provide a structure for subclass implementation and ensure consistency across subclasses.\n",
        "Regular classes are used to create concrete objects with specific properties and behaviors.\n",
        "2. Use Cases\n",
        "* Defining Interfaces: Abstract classes define interfaces that must be implemented by concrete subclasses. For example, a Shape abstract class may define methods like calculate_area() and calculate_perimeter(), which concrete shapes like Circle, Rectangle, and Triangle must implement.\n",
        "* Enforcing Structure: Abstract classes enforce a common structure across multiple subclasses, making it easier to manage and maintain code. By defining abstract methods, they ensure that all subclasses provide implementations for essential functionalities.\n",
        "* Promoting Code Reusability: Abstract classes promote code reuse by providing a common\n",
        "structure and interface that can be inherited by multiple subclasses. This reduces duplication and promotes a more modular design.\n",
        "\n",
        "* Plugin Architecture: Abstract classes can be used to define a plugin architecture where concrete plugins implement specific functionalities while adhering to a common interface provided by the abstract class. This allows for easy extension and customization of the system.\n",
        "* Framework Development: Abstract classes are often used in framework development to define the core functionalities and APIs that must be implemented by users of the framework. This allows framework developers to provide a flexible and extensible framework while ensuring that users adhere to certain conventions and interfaces.\n"
      ],
      "metadata": {
        "id": "Vha1A8CPCe0M"
      }
    },
    {
      "cell_type": "markdown",
      "source": [
        "**6. Create a Python class for a bank account and demonstrate abstraction by hiding the account balance and providing methods to deposit and withdraw funds.**"
      ],
      "metadata": {
        "id": "mQh3qYLJDjgz"
      }
    },
    {
      "cell_type": "code",
      "source": [
        "class BankAccount:\n",
        "    def __init__(self, account_number, initial_balance=0):\n",
        "        self._account_number = account_number\n",
        "        self._balance = initial_balance  # Balance is hidden using abstraction\n",
        "    def deposit(self, amount):\n",
        "        if amount > 0:\n",
        "            self._balance += amount\n",
        "            print(f\"Deposited ${amount}. New balance: ${self._balance}\")\n",
        "        else:\n",
        "            print(\"Invalid deposit amount. Amount must be greater than zero.\")\n",
        "    def withdraw(self, amount):\n",
        "        if 0 < amount <= self._balance:\n",
        "            self._balance -= amount\n",
        "            print(f\"Withdrew ${amount}. New balance: ${self._balance}\")\n",
        "        else:\n",
        "            print(\"Insufficient funds or invalid withdrawal amount.\")\n",
        "    def get_balance(self):\n",
        "        return self._balance\n",
        "    def get_account_number(self):\n",
        "        return self._account_number\n",
        "# Example usage:\n",
        "account = BankAccount(\"123456789\", 1000)\n",
        "print(\"Account Number:\", account.get_account_number())\n",
        "print(\"Initial Balance:\", account.get_balance())\n",
        "account.deposit(500)\n",
        "account.withdraw(200)\n",
        "account.withdraw(1500)  # Attempting to withdraw more than balance\n",
        "print(\"Final Balance:\", account.get_balance())"
      ],
      "metadata": {
        "colab": {
          "base_uri": "https://localhost:8080/"
        },
        "id": "7yb345lcCZej",
        "outputId": "82462c98-cf72-43c4-ff28-aee0286c6a5a"
      },
      "execution_count": 4,
      "outputs": [
        {
          "output_type": "stream",
          "name": "stdout",
          "text": [
            "Account Number: 123456789\n",
            "Initial Balance: 1000\n",
            "Deposited $500. New balance: $1500\n",
            "Withdrew $200. New balance: $1300\n",
            "Insufficient funds or invalid withdrawal amount.\n",
            "Final Balance: 1300\n"
          ]
        }
      ]
    },
    {
      "cell_type": "markdown",
      "source": [
        "7. Discuss the concept of interface classes in Python and their role in achieving abstraction.\n",
        "* In Python, interface classes are typically represented using abstract base classes (ABCs) from the abc module. An interface class defines a set of methods that must be implemented by concrete subclasses, but it does not provide any implementation for those methods itself. The purpose of an interface class is to specify a contract or protocol that subclasses must adhere to, thereby ensuring a consistent interface across multiple related classes.\n",
        "* Defining a Common Interface: Interface classes define a common set of methods that subclasses are expected to implement. By defining an interface, you establish a contract that all subclasses must follow, regardless of their specific implementations. This allows you to work with objects of different classes through a uniform interface, promoting consistency and interoperability.\n",
        "*  Hiding Implementation Details: Interface classes abstract away the internal details of how specific functionalities are implemented. Users of the interface class only need to know about the methods defined in the interface and how to use them. They don't need to concern themselves with how each method is implemented in different subclasses; they can simply rely on the interface contract.\n",
        "* Enforcing Polymorphism: Interface classes enable polymorphic behavior, allowing different subclasses to be treated interchangeably based on their common interface. This facilitates code reuse and promotes flexibility in design. Since subclasses adhere to the same interface, they can be used interchangeably in places where the interface is expected, without needing to modify the existing code.\n",
        "* facilitating Dependency Injection: Interface classes are commonly used in dependency injection patterns, where objects are passed as dependencies to other objects. By depending on interfaces rather than concrete implementations, you decouple components of your system and make them more modular and interchangeable. This promotes code maintainability, testability, and scalability."
      ],
      "metadata": {
        "id": "BNxsc_UBFcIh"
      }
    },
    {
      "cell_type": "markdown",
      "source": [
        "**8. Create a Python class hierarchy for animals and implement abstraction by defining common methods (e.g., `eat()`, `sleep()`) in an abstract base class.**"
      ],
      "metadata": {
        "id": "LPGhrAP4GXc4"
      }
    },
    {
      "cell_type": "code",
      "source": [
        "from abc import ABC, abstractmethod\n",
        "\n",
        "class Animal(ABC):\n",
        "    def __init__(self, name):\n",
        "        self.name = name\n",
        "    @abstractmethod\n",
        "    def eat(self):\n",
        "        pass\n",
        "    @abstractmethod\n",
        "    def sleep(self):\n",
        "        pass\n",
        "class Mammal(Animal):\n",
        "    def __init__(self, name):\n",
        "        super().__init__(name)\n",
        "    def eat(self):\n",
        "        print(f\"{self.name} is eating.\")\n",
        "    def sleep(self):\n",
        "        print(f\"{self.name} is sleeping.\")\n",
        "class Bird(Animal):\n",
        "    def __init__(self, name):\n",
        "        super().__init__(name)\n",
        "    def eat(self):\n",
        "        print(f\"{self.name} is pecking.\")\n",
        "    def sleep(self):\n",
        "        print(f\"{self.name} is roosting.\")\n",
        "class Dog(Mammal):\n",
        "    def __init__(self, name):\n",
        "        super().__init__(name)\n",
        "    def bark(self):\n",
        "        print(f\"{self.name} is barking.\")\n",
        "class Cat(Mammal):\n",
        "    def __init__(self, name):\n",
        "        super().__init__(name)\n",
        "    def meow(self):\n",
        "        print(f\"{self.name} is meowing.\")\n",
        "class Parrot(Bird):\n",
        "    def __init__(self, name):\n",
        "        super().__init__(name)\n",
        "    def mimic(self):\n",
        "        print(f\"{self.name} is mimicking human speech.\")\n",
        "# Example usage:\n",
        "dog = Dog(\"Buddy\")\n",
        "cat = Cat(\"Whiskers\")\n",
        "parrot = Parrot(\"Polly\")\n",
        "\n",
        "dog.eat()\n",
        "dog.sleep()\n",
        "dog.bark()\n",
        "\n",
        "cat.eat()\n",
        "cat.sleep()\n",
        "cat.meow()\n",
        "\n",
        "parrot.eat()\n",
        "parrot.sleep()\n",
        "parrot.mimic()\n"
      ],
      "metadata": {
        "colab": {
          "base_uri": "https://localhost:8080/"
        },
        "id": "lZy6vHCNGDRu",
        "outputId": "6a6b76c8-ab27-40b2-8c76-588bf21ab6c4"
      },
      "execution_count": 5,
      "outputs": [
        {
          "output_type": "stream",
          "name": "stdout",
          "text": [
            "Buddy is eating.\n",
            "Buddy is sleeping.\n",
            "Buddy is barking.\n",
            "Whiskers is eating.\n",
            "Whiskers is sleeping.\n",
            "Whiskers is meowing.\n",
            "Polly is pecking.\n",
            "Polly is roosting.\n",
            "Polly is mimicking human speech.\n"
          ]
        }
      ]
    },
    {
      "cell_type": "markdown",
      "source": [
        "**9. Explain the significance of encapsulation in achieving abstraction. Provide examples.**\n",
        "*\n",
        "Encapsulation and abstraction are closely related concepts in object-oriented programming, and they work together to create modular, maintainable, and scalable code. Encapsulation refers to the bundling of data and methods that operate on that data into a single unit, typically a class. This allows us to hide the internal details of how data is stored and manipulated, exposing only the necessary interfaces to interact with the data.\n",
        "1. Hiding Implementation Details: Encapsulation allows us to hide the internal implementation details of a class from the outside world. By making the internal attributes of a class private or protected (e.g., using underscores _), we prevent external code from directly accessing or modifying the internal state of an object. This hides the complexity of how data is stored and manipulated, promoting abstraction by exposing only the essential interfaces.\n",
        "2. Providing Controlled Access: Encapsulation allows us to provide controlled access to the internal state of an object through methods (getters and setters). Instead of directly accessing or modifying attributes, external code interacts with the object through these methods, which can enforce constraints or perform validation before allowing access.\n",
        "3. Promoting Modularity and Reusability: Encapsulation allows us to encapsulate related data and behaviors into a single class, making it easier to manage and maintain. This promotes modularity by breaking down complex systems into smaller, more manageable units. Additionally, encapsulated classes can be reused in other parts of the code or in different projects, promoting code reusability."
      ],
      "metadata": {
        "id": "ndFtlZMcHC5y"
      }
    },
    {
      "cell_type": "code",
      "source": [
        "# Hiding implementation\n",
        "class Car:\n",
        "    def __init__(self, make, model):\n",
        "        self._make = make  # Encapsulated attribute\n",
        "        self._model = model  # Encapsulated attribute\n",
        "\n",
        "    def get_make(self):\n",
        "        return self._make\n",
        "\n",
        "    def get_model(self):\n",
        "        return self._model\n",
        "# Providing controlled access\n",
        "class BankAccount:\n",
        "    def __init__(self, balance=0):\n",
        "        self._balance = balance  # Encapsulated attribute\n",
        "    def deposit(self, amount):\n",
        "        if amount > 0:\n",
        "            self._balance += amount\n",
        "    def withdraw(self, amount):\n",
        "        if 0 < amount <= self._balance:\n",
        "            self._balance -= amount\n",
        "    def get_balance(self):\n",
        "        return self._balance\n",
        "\n",
        "# Controlling modularity and reusability\n",
        "class Employee:\n",
        "    def __init__(self, name, age, salary):\n",
        "        self._name = name  # Encapsulated attribute\n",
        "        self._age = age  # Encapsulated attribute\n",
        "        self._salary = salary  # Encapsulated attribute\n",
        "    def calculate_bonus(self):\n",
        "        return 0.1 * self._salary"
      ],
      "metadata": {
        "id": "xqfFA01yHAe5"
      },
      "execution_count": 6,
      "outputs": []
    },
    {
      "cell_type": "markdown",
      "source": [
        "**10. What is the purpose of abstract methods, and how do they enforce abstraction in Python classes?**\n",
        "*\n",
        "Abstract methods in Python are methods declared in a class definition but not implemented in the class itself. They serve as placeholders for methods that must be implemented by concrete subclasses. The purpose of abstract methods is to define a common interface or contract that subclasses must adhere to, without providing any specific implementation details. This promotes abstraction by defining a blueprint for classes that share common behaviors or functionalities.\n",
        "1. Defining a Common Interface: Abstract methods define a common interface that subclasses must implement. By declaring abstract methods in a base class, we establish a contract that all subclasses must follow. This ensures consistency and interoperability among different subclasses, allowing them to be treated uniformly based on the defined interface\n",
        "2. Hiding Implementation Details: Abstract methods hide the specific implementation details of how functionalities are implemented in concrete subclasses. They specify what methods must be implemented without providing any details about how those methods should be implemented. This hides unnecessary complexity and allows subclasses to provide their own implementations according to their specific requirements.\n",
        "3. Enforcing Polymorphism: Abstract methods enable polymorphic behavior by allowing different subclasses to be treated interchangeably based on their common interface. Since all subclasses implement the same abstract methods, they can be used interchangeably wherever the abstract base class is expected. This promotes code reuse, flexibility, and scalability in o\n",
        "bject-oriented designs.\n",
        "4. Providing Guidelines for Subclass Implementation: Abstract methods provide guidelines and constraints for subclasses to follow. They specify the essential functionalities that subclasses must implement, guiding developers in the implementation process. This promotes code consistency and helps prevent errors by ensuring that all subclasses adhere to the same interface.\n",
        "\n"
      ],
      "metadata": {
        "id": "Cx8ADKywJFeV"
      }
    },
    {
      "cell_type": "markdown",
      "source": [
        "**11. Create a Python class for a vehicle system and demonstrate abstraction by defining common methods (e.g., `start()`, `stop()`) in an abstract base class.**"
      ],
      "metadata": {
        "id": "b36pavdjKAjB"
      }
    },
    {
      "cell_type": "code",
      "source": [
        "class Vehicle(ABC):\n",
        "    def __init__(self, make, model):\n",
        "        self.make = make\n",
        "        self.model = model\n",
        "    @abstractmethod\n",
        "    def start(self):\n",
        "        pass\n",
        "    @abstractmethod\n",
        "    def stop(self):\n",
        "        pass\n",
        "class Car(Vehicle):\n",
        "    def __init__(self, make, model):\n",
        "        super().__init__(make, model)\n",
        "    def start(self):\n",
        "        print(f\"{self.make} {self.model} starts its engine.\")\n",
        "    def stop(self):\n",
        "        print(f\"{self.make} {self.model} stops its engine.\")\n",
        "class Motorcycle(Vehicle):\n",
        "    def __init__(self, make, model):\n",
        "        super().__init__(make, model)\n",
        "    def start(self):\n",
        "        print(f\"{self.make} {self.model} revs its engine.\")\n",
        "    def stop(self):\n",
        "        print(f\"{self.make} {self.model} shuts off its engine.\")\n",
        "class Truck(Vehicle):\n",
        "    def __init__(self, make, model):\n",
        "        super().__init__(make, model)\n",
        "    def start(self):\n",
        "        print(f\"{self.make} {self.model} ignites its engine.\")\n",
        "    def stop(self):\n",
        "        print(f\"{self.make} {self.model} turns off its engine.\")\n",
        "# Example usage:\n",
        "car = Car(\"Toyota\", \"Camry\")\n",
        "car.start()\n",
        "car.stop()\n",
        "motorcycle = Motorcycle(\"Honda\", \"CBR1000RR\")\n",
        "motorcycle.start()\n",
        "motorcycle.stop()\n",
        "truck = Truck(\"Ford\", \"F-150\")\n",
        "truck.start()\n",
        "truck.stop()"
      ],
      "metadata": {
        "colab": {
          "base_uri": "https://localhost:8080/"
        },
        "id": "xZlHG-WyJwi9",
        "outputId": "eda76244-e092-4f5c-a43d-fc504a48b045"
      },
      "execution_count": 7,
      "outputs": [
        {
          "output_type": "stream",
          "name": "stdout",
          "text": [
            "Toyota Camry starts its engine.\n",
            "Toyota Camry stops its engine.\n",
            "Honda CBR1000RR revs its engine.\n",
            "Honda CBR1000RR shuts off its engine.\n",
            "Ford F-150 ignites its engine.\n",
            "Ford F-150 turns off its engine.\n"
          ]
        }
      ]
    },
    {
      "cell_type": "markdown",
      "source": [
        "**12. Describe the use of abstract properties in Python and how they can be employed in abstract classes.**\n",
        "* In Python, abstract properties are properties declared in an abstract base class (ABC) without providing any implementation. They serve as placeholders for properties that must be implemented by concrete subclasses. Abstract properties are useful when you want to enforce certain properties to be present in subclasses but leave the specific implementation details to the subclasses.\n",
        "1. Declaring Abstract Properties: Abstract properties are declared in an abstract base class using the @property decorator without providing any implementation. This signals to subclasses that they must implement these properties.\n",
        "2. Implementing Abstract Properties in Subclasses: Concrete subclasses of the abstract base class must provide implementations for the abstract properties declared in the base class. These implementations can be customized according to the specific requirements of each subclass.\n",
        "3. Enforcing Consistency and Interface: Abstract properties enforce consistency and provide a common interface that subclasses must adhere to. By defining abstract properties in the base class, we ensure that all subclasses provide implementations for these properties, maintaining a consistent interface across different subclasses.\n",
        "4. Facilitating Polymorphism: Abstract properties enable polymorphic behavior by allowing different subclasses to be treated interchangeably based on their common interface. Since all subclasses implement the same abstract properties, they can be used interchangeably wherever the abstract base class is expected, promoting code reuse and flexibility."
      ],
      "metadata": {
        "id": "MfxUvyH0Kge8"
      }
    },
    {
      "cell_type": "code",
      "source": [
        "class Shape(ABC):\n",
        "    @property\n",
        "    @abstractmethod\n",
        "    def area(self):\n",
        "        pass\n",
        "class Circle(Shape):\n",
        "    def __init__(self, radius):\n",
        "        self.radius = radius\n",
        "    @property\n",
        "    def area(self):\n",
        "        return 3.14 * self.radius ** 2\n",
        "class Rectangle(Shape):\n",
        "    def __init__(self, width, height):\n",
        "        self.width = width\n",
        "        self.height = height\n",
        "    @property\n",
        "    def area(self):\n",
        "        return self.width * self.height\n",
        "def print_area(shape):\n",
        "    print(\"Area:\", shape.area)\n",
        "\n",
        "circle = Circle(5)\n",
        "rectangle = Rectangle(4, 6)\n",
        "\n",
        "print_area(circle)\n",
        "print_area(rectangle)"
      ],
      "metadata": {
        "colab": {
          "base_uri": "https://localhost:8080/"
        },
        "id": "Paex0LybLr5O",
        "outputId": "0b44a795-3f08-49ee-ac42-acb846dde3a4"
      },
      "execution_count": 8,
      "outputs": [
        {
          "output_type": "stream",
          "name": "stdout",
          "text": [
            "Area: 78.5\n",
            "Area: 24\n"
          ]
        }
      ]
    },
    {
      "cell_type": "markdown",
      "source": [
        "**13. Create a Python class hierarchy for employees in a company (e.g., manager, developer, designer) and implement abstraction by defining a common `get_salary()` method.**"
      ],
      "metadata": {
        "id": "2YLh-5qUKijX"
      }
    },
    {
      "cell_type": "code",
      "source": [
        "class Employee(ABC):\n",
        "    def __init__(self, name, employee_id):\n",
        "        self.name = name\n",
        "        self.employee_id = employee_id\n",
        "    @abstractmethod\n",
        "    def get_salary(self):\n",
        "        pass\n",
        "class Manager(Employee):\n",
        "    def __init__(self, name, employee_id, salary):\n",
        "        super().__init__(name, employee_id)\n",
        "        self.salary = salary\n",
        "    def get_salary(self):\n",
        "        return self.salary\n",
        "class Developer(Employee):\n",
        "    def __init__(self, name, employee_id, hourly_rate, hours_worked):\n",
        "        super().__init__(name, employee_id)\n",
        "        self.hourly_rate = hourly_rate\n",
        "        self.hours_worked = hours_worked\n",
        "    def get_salary(self):\n",
        "        return self.hourly_rate * self.hours_worked\n",
        "class Designer(Employee):\n",
        "    def __init__(self, name, employee_id, monthly_salary):\n",
        "        super().__init__(name, employee_id)\n",
        "        self.monthly_salary = monthly_salary\n",
        "    def get_salary(self):\n",
        "        return self.monthly_salary\n",
        "# Example usage:\n",
        "manager = Manager(\"John Doe\", \"M001\", 80000)\n",
        "developer = Developer(\"Jane Smith\", \"D001\", 50, 160)\n",
        "designer = Designer(\"Alice Johnson\", \"DS001\", 6000)\n",
        "print(f\"{manager.name}'s salary: ${manager.get_salary()}\")\n",
        "print(f\"{developer.name}'s salary: ${developer.get_salary()}\")\n",
        "print(f\"{designer.name}'s salary: ${designer.get_salary()}\")"
      ],
      "metadata": {
        "colab": {
          "base_uri": "https://localhost:8080/"
        },
        "id": "GuyhYGpUMWFx",
        "outputId": "ddc07410-0a9f-496f-f928-8afe3408ecca"
      },
      "execution_count": 9,
      "outputs": [
        {
          "output_type": "stream",
          "name": "stdout",
          "text": [
            "John Doe's salary: $80000\n",
            "Jane Smith's salary: $8000\n",
            "Alice Johnson's salary: $6000\n"
          ]
        }
      ]
    },
    {
      "cell_type": "markdown",
      "source": [
        "**14. Discuss the differences between abstract classes and concrete classes in Python, including their instantiation.**\n",
        "1. Purpose:\n",
        "* Abstract classes: Abstract classes provide a blueprint for other classes. They define a set of methods that must be implemented by concrete subclasses but do not provide implementations themselves. Abstract classes are meant to be subclassed and serve as a template for creating related classes that share common behaviors or functionalities.\n",
        "* Concrete classes: Concrete classes, on the other hand, provide specific implementations for methods defined in abstract classes or provide their own methods. They can be instantiated directly to create objects with specific properties and behaviors. Concrete classes are complete and can be used as-is without the need for further subclassing.\n",
        "2. Instantiation:\n",
        "* Abstract classes: Abstract classes cannot be instantiated directly. They serve as templates or blueprints for other classes and are meant to be subclassed. Attempting to instantiate an abstract class directly will raise an error.\n",
        "* Concrete classes: Concrete classes can be instantiated directly to create objects. They provide specific implementations for methods and attributes and can be used to create instances of those classes.\n",
        "3. Usage:\n",
        "* Abstract classes: Abstract classes are used to define a common interface or behavior that must be implemented by subclasses. They provide structure and guidelines for creating related classes, promoting code reuse and consistency.\n",
        "* Concrete classes: Concrete classes are used to create objects with specific properties and behaviors. They provide complete implementations of methods and attributes, allowing users to instantiate objects and perform operations based on the defined functionalities.\n",
        "4. Inheritance:\n",
        "* Abstract classes: Abstract classes often serve as base classes for inheritance. They define abstract methods or properties that must be implemented by subclasses, allowing for polymorphic behavior and code reuse.\n",
        "* Concrete classes: Concrete classes can inherit from other concrete classes or abstract classes. They can also serve as base classes for further inheritance, providing a hierarchical structure for organizing code."
      ],
      "metadata": {
        "id": "xP5c_X1oMuZw"
      }
    },
    {
      "cell_type": "markdown",
      "source": [
        "**15. Explain the concept of abstract data types (ADTs) and their role in achieving abstraction in Python.**\n",
        "*\n",
        "Abstract Data Types (ADTs) are high-level models of data structures or objects that define a set of operations and properties without specifying the implementation details. They provide a way to encapsulate data and operations into a single unit, allowing users to interact with the data structure through well-defined interfaces while hiding the underlying implementation.\n",
        "1. Encapsulation of Data and Operations: ADTs encapsulate both data and operations into a single unit, providing a cohesive abstraction of a particular data structure or object. This encapsulation hides the internal details of how the data structure is implemented, allowing users to interact with the ADT through a well-defined interface.\n",
        "2. Defined Interface: ADTs define a set of operations or methods that users can perform on the data structure. These operations are specified by the ADT's interface and provide a clear and consistent way to manipulate the data structure. By defining a standardized interface, ADTs promote code readability, reusability, and maintainability.\n",
        "3. Data Abstraction: ADTs abstract away the specific details of how data is stored and manipulated, allowing users to focus on the high-level functionality provided by the data structure rather than its implementation. This abstraction level simplifies the complexity of working with data structures and promotes a modular design approach.\n",
        "4. Implementation Flexibility: Since ADTs do not specify the implementation details, they allow for multiple possible implementations of the same abstract data structure. This flexibility enables developers to choose the most suitable implementation based on factors such as performance requirements, memory constraints, and specific use cases.\n",
        "5. Promotion of Modularity and Separation of Concerns: ADTs promote modularity by separating the interface of a data structure from its implementation. This separation of concerns allows developers to focus on different aspects of the code independently, leading to cleaner, more maintainable code."
      ],
      "metadata": {
        "id": "ZcaBBjEcNbur"
      }
    },
    {
      "cell_type": "markdown",
      "source": [
        "**16. Create a Python class for a computer system, demonstrating abstraction by defining common methods (e.g., `power_on()`, `shutdown()`) in an abstract base class.**"
      ],
      "metadata": {
        "id": "EzPNlvRaN_rf"
      }
    },
    {
      "cell_type": "code",
      "source": [
        "class ComputerSystem(ABC):\n",
        "    def __init__(self, name):\n",
        "        self.name = name\n",
        "    @abstractmethod\n",
        "    def power_on(self):\n",
        "        pass\n",
        "    @abstractmethod\n",
        "    def shutdown(self):\n",
        "        pass\n",
        "class DesktopComputer(ComputerSystem):\n",
        "    def power_on(self):\n",
        "        print(f\"{self.name}: Desktop computer powers on.\")\n",
        "    def shutdown(self):\n",
        "        print(f\"{self.name}: Desktop computer shuts down.\")\n",
        "class LaptopComputer(ComputerSystem):\n",
        "    def power_on(self):\n",
        "        print(f\"{self.name}: Laptop computer powers on.\")\n",
        "    def shutdown(self):\n",
        "        print(f\"{self.name}: Laptop computer shuts down.\")\n",
        "# Example usage:\n",
        "desktop = DesktopComputer(\"Desktop\")\n",
        "laptop = LaptopComputer(\"Laptop\")\n",
        "desktop.power_on()\n",
        "desktop.shutdown()\n",
        "laptop.power_on()\n",
        "laptop.shutdown()"
      ],
      "metadata": {
        "colab": {
          "base_uri": "https://localhost:8080/"
        },
        "id": "DOzvQvS9NbMg",
        "outputId": "dc1928e8-1c6c-42ce-8cba-9f26bc4f03a1"
      },
      "execution_count": 10,
      "outputs": [
        {
          "output_type": "stream",
          "name": "stdout",
          "text": [
            "Desktop: Desktop computer powers on.\n",
            "Desktop: Desktop computer shuts down.\n",
            "Laptop: Laptop computer powers on.\n",
            "Laptop: Laptop computer shuts down.\n"
          ]
        }
      ]
    },
    {
      "cell_type": "markdown",
      "source": [
        "**17. Discuss the benefits of using abstraction in large-scale software development projects.**\n",
        "1. Modularity and Maintainability: Abstraction helps break down complex systems into smaller, more manageable modules or components. By defining clear interfaces and hiding implementation details, abstraction promotes modularity, making it easier to understand, maintain, and update different parts of the system independently.\n",
        "2. Code Reusability: Abstraction encourages the reuse of components across different parts of the software project. By defining abstract classes, interfaces, or modules, developers can create reusable building blocks that can be leveraged in multiple contexts, reducing redundancy and promoting consistency across the codebase.\n",
        "3. Scalability: Abstraction facilitates scalability by providing a flexible and extensible architecture. Abstracting away implementation details allows developers to add new features or functionalities without impacting existing code. This enables the software to grow and evolve over time to meet changing requirements or accommodate increasing complexity.\n",
        "4. Team Collaboration: Abstraction promotes collaboration among team members by providing clear boundaries and interfaces between different components or modules. Developers can work on different parts of the system independently, knowing how their components interact with others through well-defined interfaces. This fosters teamwork and allows for parallel development efforts.\n",
        "5. Testability and Debugging: Abstraction improves testability by enabling the isolation of components for testing purposes. With well-defined interfaces, developers can easily create unit tests and mock dependencies, leading to more comprehensive testing coverage and higher confidence in the software's correctness. Additionally, abstraction aids in debugging by allowing developers to focus on high-level behaviors rather than low-level implementation details.\n",
        "6. Adaptability to Change: Abstraction enhances the software's adaptability to change by decoupling dependencies and reducing the impact of modifications. When requirements change or new technologies emerge, abstracted components can be modified or replaced more easily without affecting other parts of the system. This agility allows the software to remain responsive to evolving business needs and technological advancements.\n",
        "7. Reduced Complexity: Abstraction helps manage and reduce complexity by providing a higher-level view of the system's architecture and functionality. By hiding unnecessary details and focusing on essential concepts, abstraction simplifies understanding and reasoning about the software, making it easier to onboard new developers and maintain over time."
      ],
      "metadata": {
        "id": "H8czVIMUObsI"
      }
    },
    {
      "cell_type": "markdown",
      "source": [
        "**18. Explain how abstraction enhances code reusability and modularity in Python programs**\n",
        "1. Encapsulation of Implementation Details: Abstraction allows developers to encapsulate implementation details within classes, functions, or modules while exposing only the essential interfaces. By hiding the internal complexities of how a particular functionality is implemented, abstraction reduces dependencies and promotes code reuse.\n",
        "2. Definition of Interfaces: Abstraction enables the definition of clear and well-defined interfaces between different components or modules. Abstract classes, interfaces, or function signatures specify the expected behavior and usage of a particular component, allowing other parts of the codebase to interact with it without needing to know the implementation details.\n",
        "3. Promotion of Single Responsibility Principle (SRP): Abstraction encourages adherence to the Single Responsibility Principle by defining modules or components with a clear and specific purpose. Each component focuses on a single task or responsibility, making it easier to understand, maintain, and reuse in different contexts.\n",
        "4. Separation of Concerns: Abstraction facilitates the separation of concerns by dividing the system into smaller, more manageable units that focus on specific functionalities or aspects of the software. This separation allows developers to work on different parts of the system independently, reducing complexity and promoting modularity.\n",
        "5. Promotion of Composition over Inheritance: Abstraction encourages the use of composition over inheritance, which further enhances code reusability and modularity. By composing complex behaviors from simpler components, developers can create flexible and extensible systems that can be easily adapted to changing requirements.\n",
        "6. Facilitation of Dependency Injection: Abstraction facilitates dependency injection, allowing components to be decoupled from their dependencies. By defining abstract interfaces for dependencies, components can be easily swapped or replaced with alternative implementations, promoting flexibility and testability.\n",
        "7. Encouragement of Design Patterns: Abstraction encourages the use of design patterns, such as the Factory Method, Strategy, or Observer patterns, which further promote code reusability and modularity. Design patterns provide standardized solutions to common design problems, allowing developers to create more maintainable and extensible codebases."
      ],
      "metadata": {
        "id": "3OIsZHKQO8JF"
      }
    },
    {
      "cell_type": "markdown",
      "source": [
        "**19. Create a Python class for a library system, implementing abstraction by defining common methods (e.g., `add_book()`, `borrow_book()`) in an abstract base class.**"
      ],
      "metadata": {
        "id": "OO6UrHzRPkS4"
      }
    },
    {
      "cell_type": "code",
      "source": [
        "class LibrarySystem(ABC):\n",
        "    def __init__(self, name):\n",
        "        self.name = name\n",
        "        self.books = {}\n",
        "    @abstractmethod\n",
        "    def add_book(self, book_title, author):\n",
        "        pass\n",
        "    @abstractmethod\n",
        "    def borrow_book(self, book_title):\n",
        "        pass\n",
        "    @abstractmethod\n",
        "    def return_book(self, book_title):\n",
        "        pass\n",
        "class SimpleLibrarySystem(LibrarySystem):\n",
        "    def add_book(self, book_title, author):\n",
        "        if book_title not in self.books:\n",
        "            self.books[book_title] = author\n",
        "            print(f\"Book '{book_title}' by {author} added to the library.\")\n",
        "        else:\n",
        "            print(f\"Book '{book_title}' already exists in the library.\")\n",
        "    def borrow_book(self, book_title):\n",
        "        if book_title in self.books:\n",
        "            del self.books[book_title]\n",
        "            print(f\"Book '{book_title}' borrowed successfully.\")\n",
        "        else:\n",
        "            print(f\"Book '{book_title}' is not available in the library.\")\n",
        "    def return_book(self, book_title):\n",
        "        if book_title not in self.books:\n",
        "            self.books[book_title] = book_title\n",
        "            print(f\"Book '{book_title}' returned to the library.\")\n",
        "        else:\n",
        "            print(f\"Book '{book_title}' is already available in the library.\")\n",
        "# Example usage:\n",
        "library = SimpleLibrarySystem(\"My Library\")\n",
        "library.add_book(\"Python Programming\", \"John Doe\")\n",
        "library.add_book(\"Introduction to Algorithms\", \"Alice Smith\")\n",
        "library.borrow_book(\"Python Programming\")\n",
        "library.borrow_book(\"Introduction to Python\")\n",
        "library.return_book(\"Python Programming\")\n",
        "library.return_book(\"Introduction to Python\")"
      ],
      "metadata": {
        "colab": {
          "base_uri": "https://localhost:8080/"
        },
        "id": "dUCy5t-PMojr",
        "outputId": "c8872f8e-81e6-4dc4-8ce9-c21bdf6da7ed"
      },
      "execution_count": 12,
      "outputs": [
        {
          "output_type": "stream",
          "name": "stdout",
          "text": [
            "Book 'Python Programming' by John Doe added to the library.\n",
            "Book 'Introduction to Algorithms' by Alice Smith added to the library.\n",
            "Book 'Python Programming' borrowed successfully.\n",
            "Book 'Introduction to Python' is not available in the library.\n",
            "Book 'Python Programming' returned to the library.\n",
            "Book 'Introduction to Python' returned to the library.\n"
          ]
        }
      ]
    },
    {
      "cell_type": "markdown",
      "source": [
        "**20. Describe the concept of method abstraction in Python and how it relates to polymorphism.**\n",
        "* Method abstraction in Python refers to the process of defining methods in a way that their implementation details are hidden from the user. Instead, users interact with the methods through well-defined interfaces, without needing to know how the methods are implemented internally. Method abstraction helps promote modularity, encapsulation, and code reuse by hiding implementation details and exposing only the essential functionalities.\n",
        "\n",
        "* In Python, method abstraction is often achieved through abstract base classes (ABCs) and abstract methods. Abstract methods are declared in a base class without providing any implementation, serving as placeholders that must be implemented by concrete subclasses. Users of the class interact with the abstract methods through their defined interfaces, without being concerned about how the methods are implemented in different subclasses.\n",
        "1. Polymorphic Behavior: Method abstraction enables polymorphic behavior in Python. Polymorphism refers to the ability of different objects to respond to the same message (method call) in different ways. By defining abstract methods in a base class and providing different implementations in concrete subclasses, Python allows objects of different types to exhibit polymorphic behavior while adhering to a common interface.\n",
        "2. Interchangeability of Objects: Method abstraction allows objects of different types to be treated interchangeably based on their common interface. Users can invoke the same method on different objects without needing to know their specific types. This promotes flexibility and code reuse, as objects can be substituted with others that provide compatible behavior.\n",
        "3. Dynamic Binding: Polymorphism in Python is achieved through dynamic binding, where the appropriate method implementation is determined at runtime based on the type of the object. When a method is called on an object, Python looks up the method in the object's class hierarchy and invokes the most specific implementation available. This allows for flexible and extensible designs, as new subclasses can be added without modifying existing code.\n",
        "4. Code Flexibility and Extensibility: Method abstraction and polymorphism contribute to code flexibility and extensibility. By defining abstract methods in base classes, developers can create modular and reusable components that can be extended and customized through subclassing. This promotes a modular design approach, where different components can be combined and extended to build complex systems."
      ],
      "metadata": {
        "id": "jizLG1TQQbsg"
      }
    },
    {
      "cell_type": "markdown",
      "source": [
        "# Composition"
      ],
      "metadata": {
        "id": "V4zpau8ESmbK"
      }
    },
    {
      "cell_type": "markdown",
      "source": [
        "**1. Explain the concept of composition in Python and how it is used to build complex objects from simpler ones**.\n",
        "*\n",
        "Composition in Python is a design principle where complex objects are constructed by combining simpler objects as their parts. Instead of inheriting behavior from parent classes (as in inheritance), composition involves creating instances of other classes within a class and using these instances to provide the desired functionality. Composition promotes code reuse, modularity, and flexibility by allowing objects to be composed of smaller, reusable components.\n",
        "1. reating Smaller Components: In composition, smaller, reusable components are created as standalone classes. These components encapsulate specific functionalities or behaviors and are designed to be used as building blocks for constructing more complex objects.\n",
        "2. Defining a Container Class: A container class is then created to represent the complex object. Instead of inheriting from parent classes to inherit behavior, the container class contains instances of the smaller components as its attributes. These instances are often created during the initialization of the container class.\n",
        "3. Using Component Instances: The container class utilizes the functionality provided by the component instances to implement its own behavior. Methods of the container class can delegate tasks to the methods of the component instances, effectively leveraging the functionality encapsulated in those components.\n",
        "4. Encapsulation and Modularity: Composition promotes encapsulation and modularity by allowing each component to encapsulate its own behavior and data. This separation of concerns makes the code easier to understand, maintain, and extend, as changes to one component do not necessarily affect others.\n",
        "5. Flexibility and Reusability: Composition provides flexibility and reusability by allowing different combinations of components to be composed to create different complex objects. Components can be reused in multiple contexts, and new complex objects can be constructed by composing existing components in different ways.\n",
        "6. Dynamic Behavior: Since composition involves creating instances of other classes, the behavior of the complex object can be dynamic and can change at runtime. Components can be added, removed, or replaced as needed, allowing for flexible and extensible designs.\n",
        "7. Promotion of \"Has-a\" Relationship: Composition often models a \"has-a\" relationship between the container class and its component classes. For example, a car \"has-a\" engine, wheels, and seats. This relationship is typically expressed through the attributes of the container class."
      ],
      "metadata": {
        "id": "4cSCDNZdSrQA"
      }
    },
    {
      "cell_type": "markdown",
      "source": [
        "**2. Describe the difference between composition and inheritance in object-oriented programming.**\n",
        "1. Composition:\n",
        "* Definition: Composition involves constructing complex objects by combining simpler objects as their parts or components.\n",
        "* Relationship: In composition, the relationship between classes is typically described as a \"has-a\" relationship, where one class contains instances of another class as its attributes.\n",
        "* Code Reuse: Composition promotes code reuse by allowing smaller, reusable components to be combined to create more complex objects. Each component encapsulates specific functionality or behavior and can be reused in different contexts.\n",
        "* Encapsulation: Composition promotes encapsulation and modularity by allowing each component to encapsulate its own behavior and data. Changes to one component do not necessarily affect others, making the code easier to understand, maintain, and extend.\n",
        "* Flexibility: Composition provides flexibility by allowing different combinations of components to be composed to create different complex objects. Components can be added, removed, or replaced as needed, allowing for flexible and extensible designs.\n",
        "2. Inheritance:\n",
        "* Definition: Inheritance involves creating a new class (subclass) that inherits attributes and methods from an existing class (superclass).\n",
        "Relationship: In inheritance, the relationship between classes is typically described as an \"is-a\" relationship, where the subclass is a specialized version of the superclass.\n",
        "* Code Reuse: Inheritance promotes code reuse by allowing subclasses to inherit behavior and attributes from their superclass. Subclasses can extend or override inherited methods to provide specialized behavior while retaining the functionality of the superclass.\n",
        "* Polymorphism: Inheritance enables polymorphic behavior, where objects of different types can respond to the same message (method call) in different ways. This allows for flexibility and extensibility in the design of software systems.\n",
        "* Coupling: Inheritance can lead to tight coupling between classes, especially when subclasses rely heavily on the implementation details of their superclass. Changes to the superclass may have unintended consequences on its subclasses, potentially introducing maintenance challenges.\n",
        "* Code Organization: Inheritance organizes classes into a hierarchy based on their relationships, with subclasses inheriting behavior and attributes from their superclasses. This hierarchical structure can provide a clear and intuitive way to organize and understand the codebase."
      ],
      "metadata": {
        "id": "LP9x8DbKTzlz"
      }
    },
    {
      "cell_type": "markdown",
      "source": [
        "**3. Create a Python class called `Author` with attributes for name and birthdate. Then, create a `Book` class that contains an instance of `Author` as a composition. Provide an example of creating a `Book` object.**"
      ],
      "metadata": {
        "id": "nV1xAG90VR8R"
      }
    },
    {
      "cell_type": "code",
      "source": [
        "class Author:\n",
        "    def __init__(self, name, birthdate):\n",
        "        self.name = name\n",
        "        self.birthdate = birthdate\n",
        "class Book:\n",
        "    def __init__(self, title, author_name, author_birthdate):\n",
        "        self.title = title\n",
        "        self.author = Author(author_name, author_birthdate)\n",
        "# Example usage:\n",
        "author = Author(\"John Smith\", \"1975-08-15\")\n",
        "book = Book(\"Python Programming\", author.name, author.birthdate)\n",
        "\n",
        "print(\"Book Title:\", book.title)\n",
        "print(\"Author Name:\", book.author.name)\n",
        "print(\"Author Birthdate:\", book.author.birthdate)"
      ],
      "metadata": {
        "colab": {
          "base_uri": "https://localhost:8080/"
        },
        "id": "UTABG0pxQWwM",
        "outputId": "2a436f85-0538-42d1-cd04-de052bc329ea"
      },
      "execution_count": 13,
      "outputs": [
        {
          "output_type": "stream",
          "name": "stdout",
          "text": [
            "Book Title: Python Programming\n",
            "Author Name: John Smith\n",
            "Author Birthdate: 1975-08-15\n"
          ]
        }
      ]
    },
    {
      "cell_type": "markdown",
      "source": [
        "**4. Discuss the benefits of using composition over inheritance in Python, especially in terms of code flexibility and reusability.**\n",
        "1. Flexibility:\n",
        "* Encourages Modular Design: Composition promotes modular design by breaking down complex systems into smaller, more manageable components. Each component encapsulates a specific functionality or behavior, making it easier to understand, maintain, and extend the codebase.\n",
        "* Dynamic Relationships: Composition allows objects to be composed of other objects dynamically at runtime. This enables greater flexibility in constructing complex objects and adapting to changing requirements, as components can be added, removed, or replaced as needed.\n",
        "* Promotes Code Independence: With composition, classes are less tightly coupled compared to inheritance, leading to reduced dependencies and increased code independence. Changes to one component do not necessarily affect others, minimizing the risk of unintended side effects.\n",
        "2. Code Reusability:\n",
        "* Promotes Reuse of Smaller Components: Composition facilitates the reuse of smaller, reusable components to build more complex objects. By composing objects from smaller parts, developers can leverage existing functionality in different contexts, leading to more efficient code reuse.\n",
        "* Encourages Interface-Based Programming: Composition encourages interface-based programming, where objects interact with each other through well-defined interfaces rather than relying on concrete implementations. This promotes code reuse by allowing components to be substituted with alternative implementations that adhere to the same interface.\n",
        "* Easier Maintenance and Testing: Since composition promotes modularity and encapsulation, individual components can be tested independently, making it easier to identify and fix bugs. Additionally, reusable components can be maintained and updated separately, reducing the risk of introducing regressions.\n",
        "3. Avoids Fragile Base Class Problem:\n",
        "* Avoids Hierarchical Dependencies: Composition avoids the issues associated with deep class hierarchies and hierarchical dependencies often encountered in inheritance-based designs. Inheritance hierarchies can become overly complex and difficult to maintain, leading to the fragile base class problem, where changes to a superclass can have unintended consequences on its subclasses.\n",
        "* Prevents Tight Coupling: Composition reduces tight coupling between classes by focusing on the relationships between objects rather than the inheritance hierarchy. This results in a more flexible and adaptable design that is less prone to issues associated with deep inheritance hierarchies."
      ],
      "metadata": {
        "id": "zZsRrNV3V0vV"
      }
    },
    {
      "cell_type": "markdown",
      "source": [
        "**5. How can you implement composition in Python classes? Provide examples of using composition to create complex objects.**\n",
        "* Composition in Python classes can be implemented by creating instances of other classes within a class and using these instances to provide the desired functionality. Here's how you can implement composition in Python classes, along with examples of using composition to create complex objects:\n",
        "\n",
        "* Creating Instances of Other Classes:\n",
        "Define a class that contains instances of other classes as its attributes.\n",
        "Use these instances to delegate tasks or provide functionality within the class.\n",
        "* Accessing Attributes and Methods of Composed Objects:\n",
        "Access attributes and methods of composed objects using dot notation (object.attribute or object.method())"
      ],
      "metadata": {
        "id": "SxtBVU75V3UK"
      }
    },
    {
      "cell_type": "code",
      "source": [
        "class Computer:\n",
        "    def boot(self):\n",
        "        print(\"Computer booted.\")\n",
        "    def shutdown(self):\n",
        "        print(\"Computer shut down.\")\n",
        "class Laptop:\n",
        "    def __init__(self):\n",
        "        self.computer = Computer()  # Composition: Laptop has-a Computer\n",
        "    def boot(self):\n",
        "        print(\"Booting the laptop.\")\n",
        "        self.computer.boot()\n",
        "    def shutdown(self):\n",
        "        print(\"Shutting down the laptop.\")\n",
        "        self.computer.shutdown()\n",
        "my_laptop = Laptop()\n",
        "my_laptop.boot()\n",
        "my_laptop.shutdown()"
      ],
      "metadata": {
        "colab": {
          "base_uri": "https://localhost:8080/"
        },
        "id": "GIx0Y9l1XGvh",
        "outputId": "c2b7bc07-4509-4102-9f00-cb6a11306cb1"
      },
      "execution_count": 14,
      "outputs": [
        {
          "output_type": "stream",
          "name": "stdout",
          "text": [
            "Booting the laptop.\n",
            "Computer booted.\n",
            "Shutting down the laptop.\n",
            "Computer shut down.\n"
          ]
        }
      ]
    },
    {
      "cell_type": "markdown",
      "source": [
        "**6. Create a Python class hierarchy for a music player system, using composition to represent playlists and songs**."
      ],
      "metadata": {
        "id": "lUFDLQCUX4UA"
      }
    },
    {
      "cell_type": "code",
      "source": [
        "class Song:\n",
        "    def __init__(self, title, artist, duration):\n",
        "        self.title = title\n",
        "        self.artist = artist\n",
        "        self.duration = duration\n",
        "    def play(self):\n",
        "        print(f\"Playing '{self.title}' by {self.artist} ({self.duration} seconds)\")\n",
        "class Playlist:\n",
        "    def __init__(self, name):\n",
        "        self.name = name\n",
        "        self.songs = []\n",
        "    def add_song(self, song):\n",
        "        self.songs.append(song)\n",
        "    def play(self):\n",
        "        print(f\"Playing playlist '{self.name}':\")\n",
        "        for song in self.songs:\n",
        "            song.play()\n",
        "class MusicPlayer:\n",
        "    def __init__(self):\n",
        "        self.playlists = []\n",
        "    def add_playlist(self, playlist):\n",
        "        self.playlists.append(playlist)\n",
        "    def play_playlist(self, playlist_name):\n",
        "        for playlist in self.playlists:\n",
        "            if playlist.name == playlist_name:\n",
        "                playlist.play()\n",
        "                return\n",
        "        print(f\"Playlist '{playlist_name}' not found.\")\n",
        "# Example usage:\n",
        "song1 = Song(\"Shape of You\", \"Ed Sheeran\", 240)\n",
        "song2 = Song(\"Dance Monkey\", \"Tones and I\", 210)\n",
        "song3 = Song(\"Blinding Lights\", \"The Weeknd\", 200)\n",
        "\n",
        "playlist1 = Playlist(\"Favorites\")\n",
        "playlist1.add_song(song1)\n",
        "playlist1.add_song(song2)\n",
        "\n",
        "playlist2 = Playlist(\"Workout\")\n",
        "playlist2.add_song(song2)\n",
        "playlist2.add_song(song3)\n",
        "\n",
        "player = MusicPlayer()\n",
        "player.add_playlist(playlist1)\n",
        "player.add_playlist(playlist2)\n",
        "\n",
        "player.play_playlist(\"Favorites\")\n",
        "player.play_playlist(\"Workout\")\n",
        "player.play_playlist(\"Nonexistent Playlist\")\n"
      ],
      "metadata": {
        "colab": {
          "base_uri": "https://localhost:8080/"
        },
        "id": "NfNLNgrRX8MG",
        "outputId": "6ec92db7-f8cc-4359-c45e-d0441ac4f5f5"
      },
      "execution_count": 15,
      "outputs": [
        {
          "output_type": "stream",
          "name": "stdout",
          "text": [
            "Playing playlist 'Favorites':\n",
            "Playing 'Shape of You' by Ed Sheeran (240 seconds)\n",
            "Playing 'Dance Monkey' by Tones and I (210 seconds)\n",
            "Playing playlist 'Workout':\n",
            "Playing 'Dance Monkey' by Tones and I (210 seconds)\n",
            "Playing 'Blinding Lights' by The Weeknd (200 seconds)\n",
            "Playlist 'Nonexistent Playlist' not found.\n"
          ]
        }
      ]
    },
    {
      "cell_type": "markdown",
      "source": [
        "**7. Explain the concept of \"has-a\" relationships in composition and how it helps design software systems**.\n",
        "*\n",
        "In composition, the \"has-a\" relationship describes a scenario where one class (or object) contains another class (or object) as one of its components or parts. This relationship signifies that the containing class \"has\" or \"is composed of\" the contained class. It is a fundamental aspect of composition, where complex objects are built by combining simpler objects as their parts.\n",
        "1. Modularity: Composition allows complex systems to be broken down into smaller, more manageable components. Each component encapsulates a specific functionality or behavior, making the overall system easier to understand, maintain, and extend. The \"has-a\" relationship defines clear boundaries between components, promoting modularity in the design.\n",
        "2. Encapsulation: The \"has-a\" relationship promotes encapsulation by allowing each component to encapsulate its own behavior and data. Components are responsible for managing their internal state and providing well-defined interfaces for interacting with the outside world. This encapsulation hides the implementation details of the contained class, reducing dependencies and promoting code independence.\n",
        "3. Code Reuse: By composing objects from simpler components, the \"has-a\" relationship facilitates code reuse. Components can be reused in different contexts or combined to create new objects, leading to more efficient development and maintenance. This reusability promotes consistency, reduces redundancy, and minimizes the need for redundant code.\n",
        "4. Flexibility: The \"has-a\" relationship enables flexible designs by allowing different combinations of components to be composed to create complex objects. Components can be added, removed, or replaced as needed, without affecting the overall structure of the system. This flexibility allows software systems to adapt to changing requirements or accommodate variations in functionality.\n",
        "5. Promotion of Interface-Based Programming: Composition promotes interface-based programming, where objects interact with each other through well-defined interfaces rather than relying on concrete implementations. This promotes loose coupling between components and facilitates interoperability, making it easier to substitute components with alternative implementations that adhere to the same interface."
      ],
      "metadata": {
        "id": "ID4HPqgdaHVP"
      }
    },
    {
      "cell_type": "markdown",
      "source": [
        "**8. Create a Python class for a computer system, using composition to represent components like CPU, RAM, and storage devices.**"
      ],
      "metadata": {
        "id": "dO1VCUlzbGqC"
      }
    },
    {
      "cell_type": "code",
      "source": [
        "class CPU:\n",
        "    def __init__(self, model, clock_speed):\n",
        "        self.model = model\n",
        "        self.clock_speed = clock_speed\n",
        "    def execute_instruction(self):\n",
        "        print(\"CPU executing instruction...\")\n",
        "class RAM:\n",
        "    def __init__(self, capacity):\n",
        "        self.capacity = capacity\n",
        "    def read_data(self, address):\n",
        "        print(f\"Reading data from RAM at address {address}...\")\n",
        "    def write_data(self, address, data):\n",
        "        print(f\"Writing data to RAM at address {address}: {data}\")\n",
        "class StorageDevice:\n",
        "    def __init__(self, capacity):\n",
        "        self.capacity = capacity\n",
        "    def read_data(self, sector):\n",
        "        print(f\"Reading data from storage device at sector {sector}...\")\n",
        "    def write_data(self, sector, data):\n",
        "        print(f\"Writing data to storage device at sector {sector}: {data}\")\n",
        "class ComputerSystem:\n",
        "    def __init__(self, cpu_model, cpu_clock_speed, ram_capacity, storage_capacity):\n",
        "        self.cpu = CPU(cpu_model, cpu_clock_speed)\n",
        "        self.ram = RAM(ram_capacity)\n",
        "        self.storage = StorageDevice(storage_capacity)\n",
        "    def boot(self):\n",
        "        print(\"Booting computer system...\")\n",
        "    def shutdown(self):\n",
        "        print(\"Shutting down computer system...\")\n",
        "# Example usage:\n",
        "computer = ComputerSystem(\"Intel Core i7\", \"3.5 GHz\", \"16 GB\", \"1 TB\")\n",
        "computer.boot()\n",
        "# Perform operations using CPU, RAM, and storage\n",
        "computer.cpu.execute_instruction()\n",
        "computer.ram.read_data(0x1000)\n",
        "computer.storage.write_data(512, \"Hello, World!\")\n",
        "computer.shutdown()"
      ],
      "metadata": {
        "colab": {
          "base_uri": "https://localhost:8080/"
        },
        "id": "W2Axc2N5aNGi",
        "outputId": "f2311601-6c49-4c04-b5de-e74d61f62580"
      },
      "execution_count": 16,
      "outputs": [
        {
          "output_type": "stream",
          "name": "stdout",
          "text": [
            "Booting computer system...\n",
            "CPU executing instruction...\n",
            "Reading data from RAM at address 4096...\n",
            "Writing data to storage device at sector 512: Hello, World!\n",
            "Shutting down computer system...\n"
          ]
        }
      ]
    },
    {
      "cell_type": "markdown",
      "source": [
        "**9. Describe the concept of \"delegation\" in composition and how it simplifies the design of complex systems.**\n",
        "*\n",
        "In composition, delegation refers to the process of one object (or class) forwarding or delegating responsibility for a particular task or operation to another object that it contains as a component. Instead of implementing the behavior directly, the delegating object passes the request to the contained object, allowing it to handle the task.\n",
        "1. Modularity: Delegation allows complex systems to be broken down into smaller, more manageable components. Each component is responsible for a specific functionality or behavior, making the overall system easier to understand, maintain, and extend. Delegation defines clear boundaries between components, promoting modularity in the design.\n",
        "2. Encapsulation: Delegation promotes encapsulation by allowing each component to encapsulate its own behavior and data. Components are responsible for managing their internal state and providing well-defined interfaces for interacting with the outside world. This encapsulation hides the implementation details of the delegated behavior, reducing dependencies and promoting code independence.\n",
        "3. Code Reuse: Delegation facilitates code reuse by allowing components to share functionality without duplication. Instead of implementing the same behavior in multiple places, components can delegate tasks to common or specialized objects, leading to more efficient development and maintenance. This reusability promotes consistency, reduces redundancy, and minimizes the need for redundant code.\n",
        "4. Flexibility: Delegation enables flexible designs by allowing different combinations of components to be composed to create complex objects. Components can be added, removed, or replaced as needed, without affecting the overall structure of the system. This flexibility allows software systems to adapt to changing requirements or accommodate variations in functionality.\n",
        "5. Promotion of Interface-Based Programming: Delegation promotes interface-based programming, where objects interact with each other through well-defined interfaces rather than relying on concrete implementations. This promotes loose coupling between components and facilitates interoperability, making it easier to substitute components with alternative implementations that adhere to the same interface."
      ],
      "metadata": {
        "id": "mCMOLMYncQUB"
      }
    },
    {
      "cell_type": "markdown",
      "source": [
        "**10. Create a Python class for a car, using composition to represent components like the engine, wheels, and transmission.**"
      ],
      "metadata": {
        "id": "BlpHtptLdlqQ"
      }
    },
    {
      "cell_type": "code",
      "source": [
        "class Engine:\n",
        "    def __init__(self, horsepower):\n",
        "        self.horsepower = horsepower\n",
        "    def start(self):\n",
        "        print(\"Engine started.\")\n",
        "    def stop(self):\n",
        "        print(\"Engine stopped.\")\n",
        "class Wheel:\n",
        "    def __init__(self, size):\n",
        "        self.size = size\n",
        "    def rotate(self):\n",
        "        print(\"Wheel rotating...\")\n",
        "class Transmission:\n",
        "    def __init__(self, transmission_type):\n",
        "        self.transmission_type = transmission_type\n",
        "    def shift_gear(self):\n",
        "        print(\"Gear shifted.\")\n",
        "class Car:\n",
        "    def __init__(self, engine_horsepower, wheel_size, transmission_type):\n",
        "        self.engine = Engine(engine_horsepower)\n",
        "        self.wheels = [Wheel(wheel_size) for _ in range(4)]\n",
        "        self.transmission = Transmission(transmission_type)\n",
        "    def start(self):\n",
        "        self.engine.start()\n",
        "    def stop(self):\n",
        "        self.engine.stop()\n",
        "    def drive(self):\n",
        "        print(\"Car driving...\")\n",
        "        for wheel in self.wheels:\n",
        "            wheel.rotate()\n",
        "        self.transmission.shift_gear()\n",
        "\n",
        "# Example usage:\n",
        "my_car = Car(engine_horsepower=200, wheel_size=18, transmission_type=\"Automatic\")\n",
        "my_car.start()\n",
        "my_car.drive()\n",
        "my_car.stop()"
      ],
      "metadata": {
        "colab": {
          "base_uri": "https://localhost:8080/"
        },
        "id": "22Odzj9acgUP",
        "outputId": "b106a264-a982-47d5-d0ce-16cdc8538ad1"
      },
      "execution_count": 17,
      "outputs": [
        {
          "output_type": "stream",
          "name": "stdout",
          "text": [
            "Engine started.\n",
            "Car driving...\n",
            "Wheel rotating...\n",
            "Wheel rotating...\n",
            "Wheel rotating...\n",
            "Wheel rotating...\n",
            "Gear shifted.\n",
            "Engine stopped.\n"
          ]
        }
      ]
    },
    {
      "cell_type": "markdown",
      "source": [
        "**11. How can you encapsulate and hide the details of composed objects in Python classes to maintain abstraction?**\n",
        "1. Private Attributes and Methods: Use private attributes and methods to hide the internal details of composed objects from the outside world. In Python, attributes and methods with names starting with a single underscore _ are considered conventionally private and should not be accessed directly from outside the class.\n",
        "2. Property Getters and Setters: Implement property getters and setters to control access to composed objects' attributes. By using property methods, you can encapsulate the internal state of composed objects and enforce data validation or processing logic.\n",
        "3. Facade Design Pattern: Implement a facade design pattern to provide a simplified interface for interacting with composed objects. The facade pattern encapsulates complex subsystems and provides a unified interface to interact with them. This hides the complexity of composed objects and provides a cleaner abstraction.\n",
        "4. Abstraction Layers: Create abstraction layers to separate high-level functionality from low-level details. By defining clear interfaces and abstraction layers, you can hide the implementation details of composed objects while providing a higher-level abstraction for clients to interact with.\n",
        "5. Information Hiding: Limit the exposure of composed objects' internals by only exposing essential information through public methods and properties. Encapsulate the rest of the details within the class to maintain abstraction and prevent direct manipulation of internal state.\n",
        "6. Dependency Injection: Use dependency injection to decouple the creation and configuration of composed objects from their use. By injecting composed objects as dependencies into the containing class, you can encapsulate the creation logic and hide the details of object instantiation."
      ],
      "metadata": {
        "id": "HSNXmxyHebBR"
      }
    },
    {
      "cell_type": "markdown",
      "source": [
        "**12. Create a Python class for a university course, using composition to represent students, instructors, and course materials.**"
      ],
      "metadata": {
        "id": "bsM6rdvvfY7w"
      }
    },
    {
      "cell_type": "code",
      "source": [
        "class Student:\n",
        "    def __init__(self, name, student_id):\n",
        "        self.name = name\n",
        "        self.student_id = student_id\n",
        "    def __str__(self):\n",
        "        return f\"Student: {self.name} (ID: {self.student_id})\"\n",
        "class Instructor:\n",
        "    def __init__(self, name, instructor_id):\n",
        "        self.name = name\n",
        "        self.instructor_id = instructor_id\n",
        "    def __str__(self):\n",
        "        return f\"Instructor: {self.name} (ID: {self.instructor_id})\"\n",
        "class CourseMaterial:\n",
        "    def __init__(self, title, content):\n",
        "        self.title = title\n",
        "        self.content = content\n",
        "    def __str__(self):\n",
        "        return f\"Course Material: {self.title}\"\n",
        "class UniversityCourse:\n",
        "    def __init__(self, course_name, instructor, students=None, course_materials=None):\n",
        "        self.course_name = course_name\n",
        "        self.instructor = instructor\n",
        "        self.students = students if students is not None else []\n",
        "        self.course_materials = course_materials if course_materials is not None else []\n",
        "    def add_student(self, student):\n",
        "        self.students.append(student)\n",
        "    def add_course_material(self, course_material):\n",
        "        self.course_materials.append(course_material)\n",
        "    def __str__(self):\n",
        "        course_info = f\"Course Name: {self.course_name}\\nInstructor: {self.instructor}\\n\"\n",
        "        students_info = \"\\nStudents:\"\n",
        "        for student in self.students:\n",
        "            students_info += f\"\\n- {student}\"\n",
        "        materials_info = \"\\nCourse Materials:\"\n",
        "        for material in self.course_materials:\n",
        "            materials_info += f\"\\n- {material}\"\n",
        "        return course_info + students_info + materials_info\n",
        "# Example usage:\n",
        "instructor = Instructor(\"Dr. Smith\", \"001\")\n",
        "students = [Student(\"Alice\", \"S001\"), Student(\"Bob\", \"S002\"), Student(\"Charlie\", \"S003\")]\n",
        "course_materials = [CourseMaterial(\"Lecture Notes\", \"Introduction to Python\"), CourseMaterial(\"Assignment 1\", \"Python Programming\")]\n",
        "\n",
        "python_course = UniversityCourse(\"Introduction to Python Programming\", instructor, students, course_materials)\n",
        "print(python_course)"
      ],
      "metadata": {
        "colab": {
          "base_uri": "https://localhost:8080/"
        },
        "id": "dVjun_pSegYR",
        "outputId": "ce1d8494-5056-4bb4-e85a-de674a71d6b4"
      },
      "execution_count": 18,
      "outputs": [
        {
          "output_type": "stream",
          "name": "stdout",
          "text": [
            "Course Name: Introduction to Python Programming\n",
            "Instructor: Instructor: Dr. Smith (ID: 001)\n",
            "\n",
            "Students:\n",
            "- Student: Alice (ID: S001)\n",
            "- Student: Bob (ID: S002)\n",
            "- Student: Charlie (ID: S003)\n",
            "Course Materials:\n",
            "- Course Material: Lecture Notes\n",
            "- Course Material: Assignment 1\n"
          ]
        }
      ]
    },
    {
      "cell_type": "markdown",
      "source": [
        "**13. Discuss the challenges and drawbacks of composition, such as increased complexity and potential for tight coupling between objects.**\n",
        "1. Increased Complexity: Composition can lead to increased complexity, especially in systems with multiple layers of composition. Managing the relationships between objects and coordinating their interactions can become challenging, making the codebase harder to understand, debug, and maintain.\n",
        "2. Potential for Tight Coupling: In some cases, composition can result in tight coupling between objects, especially when there are strong dependencies between components. Changes to one component may require corresponding changes in other components, leading to a ripple effect throughout the system.\n",
        "3. Inheritance vs. Composition: Choosing between inheritance and composition can be challenging, as both approaches have their own strengths and weaknesses. Composition tends to be more flexible and modular, but it may require more effort to set up and manage relationships between objects.\n",
        "4. Object Initialization and Configuration: Managing object initialization and configuration can be complex in systems with deep composition hierarchies. Ensuring that all components are properly initialized and configured, and that dependencies are resolved correctly, can be a daunting task.\n",
        "5. Performance Overhead: Composition may introduce some performance overhead, especially in systems with deep composition hierarchies or complex object relationships. Object creation, method dispatching, and memory management overheads can impact system performance, particularly in performance-critical applications.\n",
        "6. Code Duplication and Boilerplate: Composition can sometimes lead to code duplication and boilerplate, especially when similar patterns of composition are used across different parts of the codebase. Managing and refactoring duplicated code can be time-consuming and error-prone.\n",
        "7. Object Lifetime Management: Composition may introduce challenges related to object lifetime management, such as ensuring proper object destruction and resource cleanup. Memory leaks and resource leaks can occur if objects are not managed correctly, leading to degraded system performance and stability.\n",
        "8. Complexity in Testing and Debugging: Testing and debugging systems based on composition can be more challenging than those based on simpler designs. Testing all possible combinations of object interactions and ensuring proper error handling and exception propagation can require significant effort."
      ],
      "metadata": {
        "id": "R6EU4-LDgQvc"
      }
    },
    {
      "cell_type": "markdown",
      "source": [
        "**14. Create a Python class hierarchy for a restaurant system, using composition to represent menus, dishes, and ingredients**"
      ],
      "metadata": {
        "id": "ReO5h7BEg8fR"
      }
    },
    {
      "cell_type": "code",
      "source": [
        "class Ingredient:\n",
        "    def __init__(self, name, quantity, unit):\n",
        "        self.name = name\n",
        "        self.quantity = quantity\n",
        "        self.unit = unit\n",
        "    def __str__(self):\n",
        "        return f\"{self.quantity} {self.unit} of {self.name}\"\n",
        "class Dish:\n",
        "    def __init__(self, name, ingredients):\n",
        "        self.name = name\n",
        "        self.ingredients = ingredients\n",
        "    def __str__(self):\n",
        "        dish_info = f\"Dish: {self.name}\\nIngredients:\"\n",
        "        for ingredient in self.ingredients:\n",
        "            dish_info += f\"\\n- {ingredient}\"\n",
        "        return dish_info\n",
        "class Menu:\n",
        "    def __init__(self, name, dishes):\n",
        "        self.name = name\n",
        "        self.dishes = dishes\n",
        "    def __str__(self):\n",
        "        menu_info = f\"Menu: {self.name}\\nDishes:\"\n",
        "        for dish in self.dishes:\n",
        "            menu_info += f\"\\n- {dish.name}\"\n",
        "        return menu_info\n",
        "class Restaurant:\n",
        "    def __init__(self, name, menus):\n",
        "        self.name = name\n",
        "        self.menus = menus\n",
        "    def __str__(self):\n",
        "        restaurant_info = f\"Restaurant: {self.name}\\nMenus:\"\n",
        "        for menu in self.menus:\n",
        "            restaurant_info += f\"\\n- {menu.name}\"\n",
        "        return restaurant_info\n",
        "# Example usage:\n",
        "ingredient1 = Ingredient(\"Tomato\", 2, \"pieces\")\n",
        "ingredient2 = Ingredient(\"Cheese\", 100, \"grams\")\n",
        "pizza = Dish(\"Margherita Pizza\", [ingredient1, ingredient2])\n",
        "ingredient3 = Ingredient(\"Chicken\", 200, \"grams\")\n",
        "ingredient4 = Ingredient(\"Spices\", 20, \"grams\")\n",
        "curry = Dish(\"Chicken Curry\", [ingredient3, ingredient4])\n",
        "menu1 = Menu(\"Italian Menu\", [pizza])\n",
        "menu2 = Menu(\"Indian Menu\", [curry])\n",
        "restaurant = Restaurant(\"Foodie's Delight\", [menu1, menu2])\n",
        "print(restaurant)\n"
      ],
      "metadata": {
        "colab": {
          "base_uri": "https://localhost:8080/"
        },
        "id": "nxAC_OwbgTDR",
        "outputId": "e7649e3e-6384-46eb-b7f8-4acd246c3f20"
      },
      "execution_count": 19,
      "outputs": [
        {
          "output_type": "stream",
          "name": "stdout",
          "text": [
            "Restaurant: Foodie's Delight\n",
            "Menus:\n",
            "- Italian Menu\n",
            "- Indian Menu\n"
          ]
        }
      ]
    },
    {
      "cell_type": "markdown",
      "source": [
        "**15. Explain how composition enhances code maintainability and modularity in Python programs.**\n",
        "1. Modularity: Composition promotes modularity by breaking down complex systems into smaller, more manageable components. Each component encapsulates a specific functionality or behavior, making it easier to understand, test, and maintain. Modularity allows developers to work on different parts of the system independently, reducing the risk of introducing unintended side effects or breaking other parts of the codebase.\n",
        "2. Encapsulation: Composition encourages encapsulation by allowing each component to hide its internal implementation details and expose a well-defined interface for interacting with the outside world. Components communicate with each other through clearly defined interfaces, reducing dependencies and promoting code independence. Encapsulation prevents external code from directly accessing or modifying internal state, leading to more robust and maintainable code.\n",
        "3. Code Reusability: Composition facilitates code reusability by enabling components to be reused in different contexts or combined to create new objects. Instead of duplicating code across multiple parts of the codebase, developers can compose objects from existing components, leading to more efficient development and maintenance. Code reusability reduces redundancy, promotes consistency, and minimizes the need for redundant code.\n",
        "4. Flexibility: Composition promotes flexibility by allowing different combinations of components to be composed to create complex objects. Components can be added, removed, or replaced as needed, without affecting the overall structure of the system. This flexibility allows developers to adapt the system to changing requirements, accommodate variations in functionality, and support future extensions or enhancements.\n",
        "5. Separation of Concerns: Composition facilitates the separation of concerns by dividing the system into distinct layers of functionality. Each component focuses on a specific aspect of the system, such as data storage, business logic, or user interface, leading to cleaner, more maintainable code. Separation of concerns reduces coupling between components, improves code readability, and simplifies debugging and troubleshooting.\n",
        "6. Testing and Debugging: Composition simplifies testing and debugging by isolating components and providing clear interfaces for interaction. Components can be tested individually, using mock objects or stubs to simulate dependencies, leading to more targeted and effective testing. Debugging is also easier, as issues can be isolated to specific components, making it easier to identify and fix problems."
      ],
      "metadata": {
        "id": "hBHuTcPjhhUQ"
      }
    },
    {
      "cell_type": "markdown",
      "source": [
        "**16. Create a Python class for a computer game character, using composition to represent attributes like weapons, armor, and inventory**"
      ],
      "metadata": {
        "id": "CFciR4a4iEgZ"
      }
    },
    {
      "cell_type": "code",
      "source": [
        "class Weapon:\n",
        "    def __init__(self, name, damage):\n",
        "        self.name = name\n",
        "        self.damage = damage\n",
        "    def __str__(self):\n",
        "        return f\"Weapon: {self.name}, Damage: {self.damage}\"\n",
        "class Armor:\n",
        "    def __init__(self, name, defense):\n",
        "        self.name = name\n",
        "        self.defense = defense\n",
        "    def __str__(self):\n",
        "        return f\"Armor: {self.name}, Defense: {self.defense}\"\n",
        "class Inventory:\n",
        "    def __init__(self):\n",
        "        self.items = []\n",
        "    def add_item(self, item):\n",
        "        self.items.append(item)\n",
        "    def __str__(self):\n",
        "        inventory_info = \"Inventory:\"\n",
        "        for item in self.items:\n",
        "            inventory_info += f\"\\n- {item}\"\n",
        "        return inventory_info\n",
        "class Character:\n",
        "    def __init__(self, name, weapon=None, armor=None, inventory=None):\n",
        "        self.name = name\n",
        "        self.weapon = weapon\n",
        "        self.armor = armor\n",
        "        self.inventory = inventory if inventory is not None else Inventory()\n",
        "    def equip_weapon(self, weapon):\n",
        "        self.weapon = weapon\n",
        "    def equip_armor(self, armor):\n",
        "        self.armor = armor\n",
        "    def add_to_inventory(self, item):\n",
        "        self.inventory.add_item(item)\n",
        "    def __str__(self):\n",
        "        character_info = f\"Character: {self.name}\"\n",
        "        if self.weapon:\n",
        "            character_info += f\"\\nEquipped Weapon: {self.weapon}\"\n",
        "        if self.armor:\n",
        "            character_info += f\"\\nEquipped Armor: {self.armor}\"\n",
        "        character_info += f\"\\n{self.inventory}\"\n",
        "        return character_info\n",
        "# Example usage:\n",
        "sword = Weapon(\"Sword\", 10)\n",
        "shield = Armor(\"Shield\", 5)\n",
        "potion = \"Health Potion\"\n",
        "inventory = Inventory()\n",
        "inventory.add_item(potion)\n",
        "player = Character(\"Player\", sword, shield, inventory)\n",
        "print(player)"
      ],
      "metadata": {
        "colab": {
          "base_uri": "https://localhost:8080/"
        },
        "id": "hqbEXIy-hjPr",
        "outputId": "a213a2b4-9216-49e8-bf05-f3296e929b8b"
      },
      "execution_count": 20,
      "outputs": [
        {
          "output_type": "stream",
          "name": "stdout",
          "text": [
            "Character: Player\n",
            "Equipped Weapon: Weapon: Sword, Damage: 10\n",
            "Equipped Armor: Armor: Shield, Defense: 5\n",
            "Inventory:\n",
            "- Health Potion\n"
          ]
        }
      ]
    },
    {
      "cell_type": "markdown",
      "source": [
        "**17. Describe the concept of \"aggregation\" in composition and how it differs from simple composition**\n",
        "*\n",
        "Aggregation in composition refers to a relationship where one object (the container) contains another object (the component) as part of its state. However, in aggregation, the component object can exist independently of the container object. It implies a \"has-a\" relationship, where the container object \"has\" the component object, but the component can exist outside the container.\n",
        "1. Independence: In aggregation, the component object can exist independently of the container object. It means that the component can be created, modified, and destroyed without affecting the existence of the container. In simple composition, the component typically does not have an independent existence and is tightly coupled to the container.\n",
        "2. Lifetime: The lifetime of the component object in aggregation is not tied to the lifetime of the container object. Even if the container object is destroyed, the component can continue to exist. In simple composition, the lifetime of the component is often tied to the lifetime of the container, and the component may be destroyed when the container is destroyed.\n",
        "3. Ownership: In aggregation, the component object is usually owned by the container object, but the container does not have exclusive ownership. Other objects or parts of the system may also have access to the component. In simple composition, the container typically has exclusive ownership of the component, and the component is not directly accessible from outside the container.\n",
        "4. Multiplicity: Aggregation allows for a multiplicity relationship between the container and the component. This means that one container can have multiple instances of the component, and vice versa. In simple composition, the relationship is often one-to-one, with each container having exactly one instance of the component.\n",
        "5. Flexibility: Aggregation offers more flexibility than simple composition because it allows components to be shared among multiple containers or reused in different contexts. This makes the system more modular and easier to extend or modify."
      ],
      "metadata": {
        "id": "VoejEcM4ilnn"
      }
    },
    {
      "cell_type": "markdown",
      "source": [
        "**18. Create a Python class for a house, using composition to represent rooms, furniture, and appliances.**"
      ],
      "metadata": {
        "id": "9zgah0C8kcAn"
      }
    },
    {
      "cell_type": "code",
      "source": [
        "class Furniture:\n",
        "    def __init__(self, name):\n",
        "        self.name = name\n",
        "    def __str__(self):\n",
        "        return f\"Furniture: {self.name}\"\n",
        "class Appliance:\n",
        "    def __init__(self, name):\n",
        "        self.name = name\n",
        "    def __str__(self):\n",
        "        return f\"Appliance: {self.name}\"\n",
        "class Room:\n",
        "    def __init__(self, name, furniture=None, appliances=None):\n",
        "        self.name = name\n",
        "        self.furniture = furniture if furniture is not None else []\n",
        "        self.appliances = appliances if appliances is not None else []\n",
        "    def add_furniture(self, furniture):\n",
        "        self.furniture.append(furniture)\n",
        "    def add_appliance(self, appliance):\n",
        "        self.appliances.append(appliance)\n",
        "    def __str__(self):\n",
        "        room_info = f\"Room: {self.name}\"\n",
        "        if self.furniture:\n",
        "            room_info += \"\\nFurniture:\"\n",
        "            for furniture in self.furniture:\n",
        "                room_info += f\"\\n- {furniture}\"\n",
        "        if self.appliances:\n",
        "            room_info += \"\\nAppliances:\"\n",
        "            for appliance in self.appliances:\n",
        "                room_info += f\"\\n- {appliance}\"\n",
        "        return room_info\n",
        "class House:\n",
        "    def __init__(self, rooms=None):\n",
        "        self.rooms = rooms if rooms is not None else []\n",
        "    def add_room(self, room):\n",
        "        self.rooms.append(room)\n",
        "    def __str__(self):\n",
        "        house_info = \"House:\"\n",
        "        for room in self.rooms:\n",
        "            house_info += f\"\\n{room}\"\n",
        "        return house_info\n",
        "# Example usage:\n",
        "living_room = Room(\"Living Room\", furniture=[Furniture(\"Sofa\"), Furniture(\"Coffee Table\")], appliances=[Appliance(\"TV\"), Appliance(\"Sound System\")])\n",
        "kitchen = Room(\"Kitchen\", appliances=[Appliance(\"Refrigerator\"), Appliance(\"Microwave\")])\n",
        "my_house = House(rooms=[living_room, kitchen])\n",
        "print(my_house)"
      ],
      "metadata": {
        "colab": {
          "base_uri": "https://localhost:8080/"
        },
        "id": "FXBGkD7liucC",
        "outputId": "627d22e3-2d81-4d31-e4d2-68e3db4748df"
      },
      "execution_count": 21,
      "outputs": [
        {
          "output_type": "stream",
          "name": "stdout",
          "text": [
            "House:\n",
            "Room: Living Room\n",
            "Furniture:\n",
            "- Furniture: Sofa\n",
            "- Furniture: Coffee Table\n",
            "Appliances:\n",
            "- Appliance: TV\n",
            "- Appliance: Sound System\n",
            "Room: Kitchen\n",
            "Appliances:\n",
            "- Appliance: Refrigerator\n",
            "- Appliance: Microwave\n"
          ]
        }
      ]
    },
    {
      "cell_type": "markdown",
      "source": [
        "**19. How can you achieve flexibility in composed objects by allowing them to be replaced or modified dynamically at runtime?**\n",
        "1. Dependency Injection: Use dependency injection to pass components to objects rather than creating them directly within the object. This allows components to be replaced or modified dynamically at runtime by providing different implementations or instances of components.\n",
        "2. Interfaces or Abstract Base Classes (ABCs): Define interfaces or abstract base classes that specify the behavior expected from components. Objects can then be composed with any implementation that adheres to the interface or extends the abstract base class, allowing for flexibility in component replacement.\n",
        "3. Factory Design Pattern: Implement a factory design pattern to dynamically create instances of components based on certain criteria or conditions. The factory can return different implementations of components depending on runtime parameters, allowing for flexibility in component selection.\n",
        "4. Decorator Design Pattern: Use the decorator design pattern to dynamically add or modify behavior of objects at runtime. Decorators can wrap existing objects with additional functionality or replace existing functionality, providing flexibility in object composition and behavior modification.\n",
        "5. Configuration or Properties Files: Define configuration files or properties files that specify the components to be used by objects. Components can be loaded dynamically at runtime based on the configuration, allowing for flexibility in component selection without modifying the source code.\n",
        "6. Dependency Injection Containers: Use dependency injection containers or inversion of control (IoC) containers to manage object composition and component dependencies. Containers can dynamically resolve dependencies and inject components into objects at runtime, providing flexibility in object construction and configuration."
      ],
      "metadata": {
        "id": "5QZlG0tWlDia"
      }
    },
    {
      "cell_type": "markdown",
      "source": [
        "**20. Create a Python class for a social media application, using composition to represent users, posts, and comments**"
      ],
      "metadata": {
        "id": "mTbe44uzlwZA"
      }
    },
    {
      "cell_type": "code",
      "source": [
        "class Comment:\n",
        "    def __init__(self, text, user):\n",
        "        self.text = text\n",
        "        self.user = user\n",
        "    def __str__(self):\n",
        "        return f\"Comment by {self.user}: {self.text}\"\n",
        "class Post:\n",
        "    def __init__(self, text, user, comments=None):\n",
        "        self.text = text\n",
        "        self.user = user\n",
        "        self.comments = comments if comments is not None else []\n",
        "    def add_comment(self, comment):\n",
        "        self.comments.append(comment)\n",
        "    def __str__(self):\n",
        "        post_info = f\"Post by {self.user}: {self.text}\"\n",
        "        if self.comments:\n",
        "            post_info += \"\\nComments:\"\n",
        "            for comment in self.comments:\n",
        "                post_info += f\"\\n- {comment}\"\n",
        "        return post_info\n",
        "class User:\n",
        "    def __init__(self, username):\n",
        "        self.username = username\n",
        "    def create_post(self, text):\n",
        "        return Post(text, self.username)\n",
        "    def create_comment(self, post, text):\n",
        "        return Comment(text, self.username)\n",
        "    def __str__(self):\n",
        "        return f\"User: {self.username}\"\n",
        "class SocialMediaApp:\n",
        "    def __init__(self, users=None, posts=None):\n",
        "        self.users = users if users is not None else []\n",
        "        self.posts = posts if posts is not None else []\n",
        "    def add_user(self, user):\n",
        "        self.users.append(user)\n",
        "    def create_post(self, user, text):\n",
        "        post = user.create_post(text)\n",
        "        self.posts.append(post)\n",
        "        return post\n",
        "    def create_comment(self, user, post, text):\n",
        "        comment = user.create_comment(post, text)\n",
        "        post.add_comment(comment)\n",
        "    def __str__(self):\n",
        "        app_info = \"Social Media Application:\"\n",
        "        for post in self.posts:\n",
        "            app_info += f\"\\n{post}\"\n",
        "        return app_info\n",
        "# Example usage:\n",
        "user1 = User(\"Alice\")\n",
        "user2 = User(\"Bob\")\n",
        "app = SocialMediaApp(users=[user1, user2])\n",
        "post1 = app.create_post(user1, \"Hello, world!\")\n",
        "post2 = app.create_post(user2, \"Nice weather today.\")\n",
        "app.create_comment(user1, post2, \"I agree!\")\n",
        "app.create_comment(user2, post1, \"Thanks!\")\n",
        "print(app)"
      ],
      "metadata": {
        "colab": {
          "base_uri": "https://localhost:8080/"
        },
        "id": "zrkELJl_mRR7",
        "outputId": "fcd2f957-bebc-473f-c13f-acbdf0887a6e"
      },
      "execution_count": 22,
      "outputs": [
        {
          "output_type": "stream",
          "name": "stdout",
          "text": [
            "Social Media Application:\n",
            "Post by Alice: Hello, world!\n",
            "Comments:\n",
            "- Comment by Bob: Thanks!\n",
            "Post by Bob: Nice weather today.\n",
            "Comments:\n",
            "- Comment by Alice: I agree!\n"
          ]
        }
      ]
    },
    {
      "cell_type": "markdown",
      "source": [],
      "metadata": {
        "id": "kiK4NST1l6X_"
      }
    }
  ]
}